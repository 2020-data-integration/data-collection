{
 "cells": [
  {
   "cell_type": "code",
   "execution_count": 1,
   "metadata": {},
   "outputs": [],
   "source": [
    "import tushare as ts\n",
    "import pandas as pd\n",
    "import json"
   ]
  },
  {
   "cell_type": "code",
   "execution_count": 2,
   "metadata": {},
   "outputs": [],
   "source": [
    "ts.set_token('53cd3b985c649c978160c6ec04bce24f4fbd2ebcb4673e8f2fba9a43')\n",
    "\n",
    "pro = ts.pro_api()"
   ]
  },
  {
   "cell_type": "code",
   "execution_count": 3,
   "metadata": {},
   "outputs": [],
   "source": [
    "key_map = {\n",
    "    'hghy': '化工行业',\n",
    "    'dzxx': '电子信息',\n",
    "    'ysjs': '有色金属',\n",
    "    'fdc': '房地产',\n",
    "    'jrhy': '金融行业',\n",
    "    'jdly': '酒店旅游'\n",
    "}"
   ]
  },
  {
   "cell_type": "code",
   "execution_count": 4,
   "metadata": {},
   "outputs": [],
   "source": [
    "with open('new_import/stock_codes.json', 'r') as f:\n",
    "    js = json.load(f)\n",
    "    code_dict = dict()\n",
    "    for k, v in js.items():\n",
    "        for s in v:\n",
    "            s = s[2:] + '.' + s[:2]\n",
    "            s = s.upper()\n",
    "            code_dict[s] = key_map[k]"
   ]
  },
  {
   "cell_type": "code",
   "execution_count": 5,
   "metadata": {},
   "outputs": [],
   "source": [
    "codes = list(code_dict.keys())"
   ]
  },
  {
   "cell_type": "code",
   "execution_count": 6,
   "metadata": {},
   "outputs": [
    {
     "output_type": "execute_result",
     "data": {
      "text/plain": [
       "678"
      ]
     },
     "metadata": {},
     "execution_count": 6
    }
   ],
   "source": [
    "len(codes)"
   ]
  },
  {
   "cell_type": "code",
   "execution_count": 7,
   "metadata": {},
   "outputs": [
    {
     "output_type": "execute_result",
     "data": {
      "text/plain": [
       "True"
      ]
     },
     "metadata": {},
     "execution_count": 7
    }
   ],
   "source": [
    "'002450.SZ' in codes"
   ]
  },
  {
   "cell_type": "code",
   "execution_count": 8,
   "metadata": {},
   "outputs": [
    {
     "output_type": "execute_result",
     "data": {
      "text/plain": [
       "     ts_code   name         fullname\n",
       "0  002450.SZ  *ST康得  康得新复合材料集团股份有限公司"
      ],
      "text/html": "<div>\n<style scoped>\n    .dataframe tbody tr th:only-of-type {\n        vertical-align: middle;\n    }\n\n    .dataframe tbody tr th {\n        vertical-align: top;\n    }\n\n    .dataframe thead th {\n        text-align: right;\n    }\n</style>\n<table border=\"1\" class=\"dataframe\">\n  <thead>\n    <tr style=\"text-align: right;\">\n      <th></th>\n      <th>ts_code</th>\n      <th>name</th>\n      <th>fullname</th>\n    </tr>\n  </thead>\n  <tbody>\n    <tr>\n      <th>0</th>\n      <td>002450.SZ</td>\n      <td>*ST康得</td>\n      <td>康得新复合材料集团股份有限公司</td>\n    </tr>\n  </tbody>\n</table>\n</div>"
     },
     "metadata": {},
     "execution_count": 8
    }
   ],
   "source": [
    "pro.stock_basic(ts_code='002450.SZ', exchange='', list_status='P', fields='ts_code,fullname,name')"
   ]
  },
  {
   "cell_type": "code",
   "execution_count": 9,
   "metadata": {},
   "outputs": [],
   "source": [
    "df_list = []\n",
    "for status in ['L', 'D', 'P']:\n",
    "    df_list.append(pro.stock_basic(exchange='', list_status=status, fields='ts_code,fullname,name'))\n",
    "data = pd.concat(df_list)"
   ]
  },
  {
   "cell_type": "code",
   "execution_count": 10,
   "metadata": {},
   "outputs": [
    {
     "output_type": "execute_result",
     "data": {
      "text/plain": [
       "4202"
      ]
     },
     "metadata": {},
     "execution_count": 10
    }
   ],
   "source": [
    "len(data)"
   ]
  },
  {
   "cell_type": "code",
   "execution_count": 11,
   "metadata": {},
   "outputs": [],
   "source": [
    "data = data[data['ts_code'].isin(codes)].reset_index(drop=True)"
   ]
  },
  {
   "cell_type": "code",
   "execution_count": 12,
   "metadata": {},
   "outputs": [
    {
     "output_type": "execute_result",
     "data": {
      "text/plain": [
       "       ts_code    name           fullname\n",
       "0    000001.SZ    平安银行         平安银行股份有限公司\n",
       "1    000002.SZ     万科A         万科企业股份有限公司\n",
       "2    000005.SZ    世纪星源       深圳世纪星源股份有限公司\n",
       "3    000006.SZ    深振业A    深圳市振业(集团)股份有限公司\n",
       "4    000007.SZ     全新好       深圳市全新好股份有限公司\n",
       "..         ...     ...                ...\n",
       "673  300104.SZ  乐视退(退)  乐视网信息技术(北京)股份有限公司\n",
       "674  300431.SZ  暴风退(退)         暴风集团股份有限公司\n",
       "675  600074.SH  退保千(退)  江苏保千里视像科技集团股份有限公司\n",
       "676  600485.SH   *ST信威     北京信威科技集团股份有限公司\n",
       "677  600677.SH   *ST航通     航天通信控股集团股份有限公司\n",
       "\n",
       "[678 rows x 3 columns]"
      ],
      "text/html": "<div>\n<style scoped>\n    .dataframe tbody tr th:only-of-type {\n        vertical-align: middle;\n    }\n\n    .dataframe tbody tr th {\n        vertical-align: top;\n    }\n\n    .dataframe thead th {\n        text-align: right;\n    }\n</style>\n<table border=\"1\" class=\"dataframe\">\n  <thead>\n    <tr style=\"text-align: right;\">\n      <th></th>\n      <th>ts_code</th>\n      <th>name</th>\n      <th>fullname</th>\n    </tr>\n  </thead>\n  <tbody>\n    <tr>\n      <th>0</th>\n      <td>000001.SZ</td>\n      <td>平安银行</td>\n      <td>平安银行股份有限公司</td>\n    </tr>\n    <tr>\n      <th>1</th>\n      <td>000002.SZ</td>\n      <td>万科A</td>\n      <td>万科企业股份有限公司</td>\n    </tr>\n    <tr>\n      <th>2</th>\n      <td>000005.SZ</td>\n      <td>世纪星源</td>\n      <td>深圳世纪星源股份有限公司</td>\n    </tr>\n    <tr>\n      <th>3</th>\n      <td>000006.SZ</td>\n      <td>深振业A</td>\n      <td>深圳市振业(集团)股份有限公司</td>\n    </tr>\n    <tr>\n      <th>4</th>\n      <td>000007.SZ</td>\n      <td>全新好</td>\n      <td>深圳市全新好股份有限公司</td>\n    </tr>\n    <tr>\n      <th>...</th>\n      <td>...</td>\n      <td>...</td>\n      <td>...</td>\n    </tr>\n    <tr>\n      <th>673</th>\n      <td>300104.SZ</td>\n      <td>乐视退(退)</td>\n      <td>乐视网信息技术(北京)股份有限公司</td>\n    </tr>\n    <tr>\n      <th>674</th>\n      <td>300431.SZ</td>\n      <td>暴风退(退)</td>\n      <td>暴风集团股份有限公司</td>\n    </tr>\n    <tr>\n      <th>675</th>\n      <td>600074.SH</td>\n      <td>退保千(退)</td>\n      <td>江苏保千里视像科技集团股份有限公司</td>\n    </tr>\n    <tr>\n      <th>676</th>\n      <td>600485.SH</td>\n      <td>*ST信威</td>\n      <td>北京信威科技集团股份有限公司</td>\n    </tr>\n    <tr>\n      <th>677</th>\n      <td>600677.SH</td>\n      <td>*ST航通</td>\n      <td>航天通信控股集团股份有限公司</td>\n    </tr>\n  </tbody>\n</table>\n<p>678 rows × 3 columns</p>\n</div>"
     },
     "metadata": {},
     "execution_count": 12
    }
   ],
   "source": [
    "data"
   ]
  },
  {
   "cell_type": "code",
   "execution_count": 13,
   "metadata": {},
   "outputs": [],
   "source": [
    "data.columns = ['companyId:ID(Company)', 'name:string', 'fullname:string']"
   ]
  },
  {
   "cell_type": "code",
   "execution_count": 14,
   "metadata": {},
   "outputs": [
    {
     "output_type": "execute_result",
     "data": {
      "text/plain": [
       "  companyId:ID(Company) name:string  fullname:string\n",
       "0             000001.SZ        平安银行       平安银行股份有限公司\n",
       "1             000002.SZ         万科A       万科企业股份有限公司\n",
       "2             000005.SZ        世纪星源     深圳世纪星源股份有限公司\n",
       "3             000006.SZ        深振业A  深圳市振业(集团)股份有限公司\n",
       "4             000007.SZ         全新好     深圳市全新好股份有限公司"
      ],
      "text/html": "<div>\n<style scoped>\n    .dataframe tbody tr th:only-of-type {\n        vertical-align: middle;\n    }\n\n    .dataframe tbody tr th {\n        vertical-align: top;\n    }\n\n    .dataframe thead th {\n        text-align: right;\n    }\n</style>\n<table border=\"1\" class=\"dataframe\">\n  <thead>\n    <tr style=\"text-align: right;\">\n      <th></th>\n      <th>companyId:ID(Company)</th>\n      <th>name:string</th>\n      <th>fullname:string</th>\n    </tr>\n  </thead>\n  <tbody>\n    <tr>\n      <th>0</th>\n      <td>000001.SZ</td>\n      <td>平安银行</td>\n      <td>平安银行股份有限公司</td>\n    </tr>\n    <tr>\n      <th>1</th>\n      <td>000002.SZ</td>\n      <td>万科A</td>\n      <td>万科企业股份有限公司</td>\n    </tr>\n    <tr>\n      <th>2</th>\n      <td>000005.SZ</td>\n      <td>世纪星源</td>\n      <td>深圳世纪星源股份有限公司</td>\n    </tr>\n    <tr>\n      <th>3</th>\n      <td>000006.SZ</td>\n      <td>深振业A</td>\n      <td>深圳市振业(集团)股份有限公司</td>\n    </tr>\n    <tr>\n      <th>4</th>\n      <td>000007.SZ</td>\n      <td>全新好</td>\n      <td>深圳市全新好股份有限公司</td>\n    </tr>\n  </tbody>\n</table>\n</div>"
     },
     "metadata": {},
     "execution_count": 14
    }
   ],
   "source": [
    "data.head()"
   ]
  },
  {
   "cell_type": "code",
   "execution_count": 15,
   "metadata": {},
   "outputs": [
    {
     "output_type": "execute_result",
     "data": {
      "text/plain": [
       "False"
      ]
     },
     "metadata": {},
     "execution_count": 15
    }
   ],
   "source": [
    "'002450.SZ' in data['companyId:ID(Company)']"
   ]
  },
  {
   "cell_type": "code",
   "execution_count": 16,
   "metadata": {},
   "outputs": [],
   "source": [
    "data[':LABEL'] = 'Company'"
   ]
  },
  {
   "cell_type": "code",
   "execution_count": 17,
   "metadata": {},
   "outputs": [
    {
     "output_type": "execute_result",
     "data": {
      "text/plain": [
       "  companyId:ID(Company) name:string  fullname:string   :LABEL\n",
       "0             000001.SZ        平安银行       平安银行股份有限公司  Company\n",
       "1             000002.SZ         万科A       万科企业股份有限公司  Company\n",
       "2             000005.SZ        世纪星源     深圳世纪星源股份有限公司  Company\n",
       "3             000006.SZ        深振业A  深圳市振业(集团)股份有限公司  Company\n",
       "4             000007.SZ         全新好     深圳市全新好股份有限公司  Company"
      ],
      "text/html": "<div>\n<style scoped>\n    .dataframe tbody tr th:only-of-type {\n        vertical-align: middle;\n    }\n\n    .dataframe tbody tr th {\n        vertical-align: top;\n    }\n\n    .dataframe thead th {\n        text-align: right;\n    }\n</style>\n<table border=\"1\" class=\"dataframe\">\n  <thead>\n    <tr style=\"text-align: right;\">\n      <th></th>\n      <th>companyId:ID(Company)</th>\n      <th>name:string</th>\n      <th>fullname:string</th>\n      <th>:LABEL</th>\n    </tr>\n  </thead>\n  <tbody>\n    <tr>\n      <th>0</th>\n      <td>000001.SZ</td>\n      <td>平安银行</td>\n      <td>平安银行股份有限公司</td>\n      <td>Company</td>\n    </tr>\n    <tr>\n      <th>1</th>\n      <td>000002.SZ</td>\n      <td>万科A</td>\n      <td>万科企业股份有限公司</td>\n      <td>Company</td>\n    </tr>\n    <tr>\n      <th>2</th>\n      <td>000005.SZ</td>\n      <td>世纪星源</td>\n      <td>深圳世纪星源股份有限公司</td>\n      <td>Company</td>\n    </tr>\n    <tr>\n      <th>3</th>\n      <td>000006.SZ</td>\n      <td>深振业A</td>\n      <td>深圳市振业(集团)股份有限公司</td>\n      <td>Company</td>\n    </tr>\n    <tr>\n      <th>4</th>\n      <td>000007.SZ</td>\n      <td>全新好</td>\n      <td>深圳市全新好股份有限公司</td>\n      <td>Company</td>\n    </tr>\n  </tbody>\n</table>\n</div>"
     },
     "metadata": {},
     "execution_count": 17
    }
   ],
   "source": [
    "data.head()"
   ]
  },
  {
   "cell_type": "code",
   "execution_count": 18,
   "metadata": {},
   "outputs": [],
   "source": [
    "data.to_csv('new_import/company.csv', index=False)"
   ]
  },
  {
   "source": [
    "# 制作industry表"
   ],
   "cell_type": "markdown",
   "metadata": {}
  },
  {
   "cell_type": "code",
   "execution_count": 19,
   "metadata": {},
   "outputs": [],
   "source": [
    "industry_set = set(code_dict.values())"
   ]
  },
  {
   "cell_type": "code",
   "execution_count": 22,
   "metadata": {},
   "outputs": [],
   "source": [
    "industry2idx = {\n",
    "    ind: i\n",
    "    for i, ind in enumerate(industry_set)\n",
    "}"
   ]
  },
  {
   "cell_type": "code",
   "execution_count": 23,
   "metadata": {},
   "outputs": [
    {
     "output_type": "execute_result",
     "data": {
      "text/plain": [
       "{'化工行业': 0, '酒店旅游': 1, '金融行业': 2, '电子信息': 3, '有色金属': 4, '房地产': 5}"
      ]
     },
     "metadata": {},
     "execution_count": 23
    }
   ],
   "source": [
    "industry2idx"
   ]
  },
  {
   "cell_type": "code",
   "execution_count": 25,
   "metadata": {},
   "outputs": [],
   "source": [
    "tup_list = [(v, k) for k, v in industry2idx.items()]"
   ]
  },
  {
   "cell_type": "code",
   "execution_count": 27,
   "metadata": {},
   "outputs": [],
   "source": [
    "industry_df = pd.DataFrame(tup_list, columns=['industryId:ID(Industry)', 'name:string'])"
   ]
  },
  {
   "cell_type": "code",
   "execution_count": 28,
   "metadata": {},
   "outputs": [],
   "source": [
    "industry_df[':LABEL'] = 'Industry'"
   ]
  },
  {
   "cell_type": "code",
   "execution_count": 29,
   "metadata": {},
   "outputs": [
    {
     "output_type": "execute_result",
     "data": {
      "text/plain": [
       "   industryId:ID(Industry) name:string    :Label\n",
       "0                        0        化工行业  Industry\n",
       "1                        1        酒店旅游  Industry\n",
       "2                        2        金融行业  Industry\n",
       "3                        3        电子信息  Industry\n",
       "4                        4        有色金属  Industry\n",
       "5                        5         房地产  Industry"
      ],
      "text/html": "<div>\n<style scoped>\n    .dataframe tbody tr th:only-of-type {\n        vertical-align: middle;\n    }\n\n    .dataframe tbody tr th {\n        vertical-align: top;\n    }\n\n    .dataframe thead th {\n        text-align: right;\n    }\n</style>\n<table border=\"1\" class=\"dataframe\">\n  <thead>\n    <tr style=\"text-align: right;\">\n      <th></th>\n      <th>industryId:ID(Industry)</th>\n      <th>name:string</th>\n      <th>:Label</th>\n    </tr>\n  </thead>\n  <tbody>\n    <tr>\n      <th>0</th>\n      <td>0</td>\n      <td>化工行业</td>\n      <td>Industry</td>\n    </tr>\n    <tr>\n      <th>1</th>\n      <td>1</td>\n      <td>酒店旅游</td>\n      <td>Industry</td>\n    </tr>\n    <tr>\n      <th>2</th>\n      <td>2</td>\n      <td>金融行业</td>\n      <td>Industry</td>\n    </tr>\n    <tr>\n      <th>3</th>\n      <td>3</td>\n      <td>电子信息</td>\n      <td>Industry</td>\n    </tr>\n    <tr>\n      <th>4</th>\n      <td>4</td>\n      <td>有色金属</td>\n      <td>Industry</td>\n    </tr>\n    <tr>\n      <th>5</th>\n      <td>5</td>\n      <td>房地产</td>\n      <td>Industry</td>\n    </tr>\n  </tbody>\n</table>\n</div>"
     },
     "metadata": {},
     "execution_count": 29
    }
   ],
   "source": [
    "industry_df"
   ]
  },
  {
   "cell_type": "code",
   "execution_count": 30,
   "metadata": {},
   "outputs": [],
   "source": [
    "industry_df.to_csv('new_import/industry.csv', index=False)"
   ]
  },
  {
   "source": [
    "# 制作company-industry的关系"
   ],
   "cell_type": "markdown",
   "metadata": {}
  },
  {
   "cell_type": "code",
   "execution_count": 31,
   "metadata": {},
   "outputs": [],
   "source": [
    "code_ind_tups = [(industry2idx[i], c) for c, i in code_dict.items()]"
   ]
  },
  {
   "cell_type": "code",
   "execution_count": 32,
   "metadata": {},
   "outputs": [
    {
     "output_type": "execute_result",
     "data": {
      "text/plain": [
       "(0, '600075.SH')"
      ]
     },
     "metadata": {},
     "execution_count": 32
    }
   ],
   "source": [
    "code_ind_tups[0]"
   ]
  },
  {
   "cell_type": "code",
   "execution_count": 33,
   "metadata": {},
   "outputs": [],
   "source": [
    "ind_comp_df = pd.DataFrame(code_ind_tups, columns=[':START_ID(Industry)', ':END_ID(Company)'])"
   ]
  },
  {
   "cell_type": "code",
   "execution_count": 34,
   "metadata": {},
   "outputs": [],
   "source": [
    "ind_comp_df[':TYPE'] = 'in_industry'"
   ]
  },
  {
   "cell_type": "code",
   "execution_count": 36,
   "metadata": {},
   "outputs": [
    {
     "output_type": "execute_result",
     "data": {
      "text/plain": [
       "   :START_ID(Industry) :END_ID(Company)        :TYPE\n",
       "0                    0        600075.SH  in_industry\n",
       "1                    0        600078.SH  in_industry\n",
       "2                    0        600091.SH  in_industry\n",
       "3                    0        600135.SH  in_industry\n",
       "4                    0        600141.SH  in_industry"
      ],
      "text/html": "<div>\n<style scoped>\n    .dataframe tbody tr th:only-of-type {\n        vertical-align: middle;\n    }\n\n    .dataframe tbody tr th {\n        vertical-align: top;\n    }\n\n    .dataframe thead th {\n        text-align: right;\n    }\n</style>\n<table border=\"1\" class=\"dataframe\">\n  <thead>\n    <tr style=\"text-align: right;\">\n      <th></th>\n      <th>:START_ID(Industry)</th>\n      <th>:END_ID(Company)</th>\n      <th>:TYPE</th>\n    </tr>\n  </thead>\n  <tbody>\n    <tr>\n      <th>0</th>\n      <td>0</td>\n      <td>600075.SH</td>\n      <td>in_industry</td>\n    </tr>\n    <tr>\n      <th>1</th>\n      <td>0</td>\n      <td>600078.SH</td>\n      <td>in_industry</td>\n    </tr>\n    <tr>\n      <th>2</th>\n      <td>0</td>\n      <td>600091.SH</td>\n      <td>in_industry</td>\n    </tr>\n    <tr>\n      <th>3</th>\n      <td>0</td>\n      <td>600135.SH</td>\n      <td>in_industry</td>\n    </tr>\n    <tr>\n      <th>4</th>\n      <td>0</td>\n      <td>600141.SH</td>\n      <td>in_industry</td>\n    </tr>\n  </tbody>\n</table>\n</div>"
     },
     "metadata": {},
     "execution_count": 36
    }
   ],
   "source": [
    "ind_comp_df.head()"
   ]
  },
  {
   "cell_type": "code",
   "execution_count": 37,
   "metadata": {},
   "outputs": [],
   "source": [
    "ind_comp_df.to_csv('new_import/industry_company.csv', index=False)"
   ]
  },
  {
   "cell_type": "code",
   "execution_count": null,
   "metadata": {},
   "outputs": [],
   "source": []
  }
 ],
 "metadata": {
  "language_info": {
   "codemirror_mode": {
    "name": "ipython",
    "version": 3
   },
   "file_extension": ".py",
   "mimetype": "text/x-python",
   "name": "python",
   "nbconvert_exporter": "python",
   "pygments_lexer": "ipython3",
   "version": "3.7.0-final"
  },
  "orig_nbformat": 2,
  "kernelspec": {
   "name": "python37064bitvenvvenv8ef0df8922e34c99a1a99f274892d4df",
   "display_name": "Python 3.7.0 64-bit ('venv': venv)"
  }
 },
 "nbformat": 4,
 "nbformat_minor": 2
}