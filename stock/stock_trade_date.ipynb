{
 "cells": [
  {
   "cell_type": "code",
   "execution_count": 1,
   "metadata": {},
   "outputs": [],
   "source": [
    "import tushare as ts\n",
    "import pandas as pd\n",
    "from influxdb import InfluxDBClient, DataFrameClient\n",
    "from datetime import datetime, timedelta\n",
    "from tqdm import tqdm\n",
    "import os"
   ]
  },
  {
   "cell_type": "code",
   "execution_count": 2,
   "metadata": {},
   "outputs": [],
   "source": [
    "ts.set_token('53cd3b985c649c978160c6ec04bce24f4fbd2ebcb4673e8f2fba9a43')\n",
    "\n",
    "pro = ts.pro_api()"
   ]
  },
  {
   "cell_type": "code",
   "execution_count": 3,
   "metadata": {},
   "outputs": [],
   "source": [
    "now = datetime.utcnow() + timedelta(hours=8) - timedelta(days=2)\n",
    "yesterday = now.strftime(\"%Y%m%d\")"
   ]
  },
  {
   "cell_type": "code",
   "execution_count": 4,
   "metadata": {},
   "outputs": [
    {
     "output_type": "execute_result",
     "data": {
      "text/plain": "'20200513'"
     },
     "metadata": {},
     "execution_count": 4
    }
   ],
   "source": [
    "yesterday"
   ]
  },
  {
   "cell_type": "code",
   "execution_count": 5,
   "metadata": {},
   "outputs": [],
   "source": [
    "df = pro.daily(trade_date=yesterday)"
   ]
  },
  {
   "cell_type": "code",
   "execution_count": 6,
   "metadata": {},
   "outputs": [],
   "source": [
    "df['trade_date'] = pd.to_datetime(df['trade_date'])"
   ]
  },
  {
   "cell_type": "code",
   "execution_count": 7,
   "metadata": {},
   "outputs": [
    {
     "output_type": "execute_result",
     "data": {
      "text/plain": "     ts_code trade_date  open  high   low  close  pre_close  change  pct_chg  \\\n0  000838.SZ 2020-05-13  2.65  2.67  2.63   2.64       2.65   -0.01  -0.3774   \n1  000839.SZ 2020-05-13  3.21  3.22  3.17   3.20       3.23   -0.03  -0.9288   \n2  000848.SZ 2020-05-13  6.26  6.58  6.18   6.48       6.28    0.20   3.1847   \n3  000850.SZ 2020-05-13  3.62  3.65  3.59   3.64       3.64    0.00   0.0000   \n4  000851.SZ 2020-05-13  7.70  7.71  7.26   7.64       8.06   -0.42  -5.2109   \n\n          vol      amount  \n0    27163.88    7182.272  \n1   162930.55   52048.053  \n2   284099.96  182068.111  \n3    48064.04   17391.123  \n4  1022770.35  769409.782  ",
      "text/html": "<div>\n<style scoped>\n    .dataframe tbody tr th:only-of-type {\n        vertical-align: middle;\n    }\n\n    .dataframe tbody tr th {\n        vertical-align: top;\n    }\n\n    .dataframe thead th {\n        text-align: right;\n    }\n</style>\n<table border=\"1\" class=\"dataframe\">\n  <thead>\n    <tr style=\"text-align: right;\">\n      <th></th>\n      <th>ts_code</th>\n      <th>trade_date</th>\n      <th>open</th>\n      <th>high</th>\n      <th>low</th>\n      <th>close</th>\n      <th>pre_close</th>\n      <th>change</th>\n      <th>pct_chg</th>\n      <th>vol</th>\n      <th>amount</th>\n    </tr>\n  </thead>\n  <tbody>\n    <tr>\n      <th>0</th>\n      <td>000838.SZ</td>\n      <td>2020-05-13</td>\n      <td>2.65</td>\n      <td>2.67</td>\n      <td>2.63</td>\n      <td>2.64</td>\n      <td>2.65</td>\n      <td>-0.01</td>\n      <td>-0.3774</td>\n      <td>27163.88</td>\n      <td>7182.272</td>\n    </tr>\n    <tr>\n      <th>1</th>\n      <td>000839.SZ</td>\n      <td>2020-05-13</td>\n      <td>3.21</td>\n      <td>3.22</td>\n      <td>3.17</td>\n      <td>3.20</td>\n      <td>3.23</td>\n      <td>-0.03</td>\n      <td>-0.9288</td>\n      <td>162930.55</td>\n      <td>52048.053</td>\n    </tr>\n    <tr>\n      <th>2</th>\n      <td>000848.SZ</td>\n      <td>2020-05-13</td>\n      <td>6.26</td>\n      <td>6.58</td>\n      <td>6.18</td>\n      <td>6.48</td>\n      <td>6.28</td>\n      <td>0.20</td>\n      <td>3.1847</td>\n      <td>284099.96</td>\n      <td>182068.111</td>\n    </tr>\n    <tr>\n      <th>3</th>\n      <td>000850.SZ</td>\n      <td>2020-05-13</td>\n      <td>3.62</td>\n      <td>3.65</td>\n      <td>3.59</td>\n      <td>3.64</td>\n      <td>3.64</td>\n      <td>0.00</td>\n      <td>0.0000</td>\n      <td>48064.04</td>\n      <td>17391.123</td>\n    </tr>\n    <tr>\n      <th>4</th>\n      <td>000851.SZ</td>\n      <td>2020-05-13</td>\n      <td>7.70</td>\n      <td>7.71</td>\n      <td>7.26</td>\n      <td>7.64</td>\n      <td>8.06</td>\n      <td>-0.42</td>\n      <td>-5.2109</td>\n      <td>1022770.35</td>\n      <td>769409.782</td>\n    </tr>\n  </tbody>\n</table>\n</div>"
     },
     "metadata": {},
     "execution_count": 7
    }
   ],
   "source": [
    "df.head()"
   ]
  },
  {
   "cell_type": "code",
   "execution_count": 10,
   "metadata": {},
   "outputs": [],
   "source": [
    "client = InfluxDBClient('localhost', 8086, database='stock')"
   ]
  },
  {
   "cell_type": "code",
   "execution_count": 11,
   "metadata": {},
   "outputs": [],
   "source": [
    "js = df.to_dict('records')"
   ]
  },
  {
   "cell_type": "code",
   "execution_count": 12,
   "metadata": {},
   "outputs": [
    {
     "output_type": "execute_result",
     "data": {
      "text/plain": "{'ts_code': '000838.SZ',\n 'trade_date': Timestamp('2020-05-13 00:00:00'),\n 'open': 2.65,\n 'high': 2.67,\n 'low': 2.63,\n 'close': 2.64,\n 'pre_close': 2.65,\n 'change': -0.01,\n 'pct_chg': -0.3774,\n 'vol': 27163.88,\n 'amount': 7182.272}"
     },
     "metadata": {},
     "execution_count": 12
    }
   ],
   "source": [
    "js[0]"
   ]
  },
  {
   "cell_type": "code",
   "execution_count": 13,
   "metadata": {},
   "outputs": [],
   "source": [
    "processed_js = []\n",
    "for record in js:\n",
    "    time = record.pop('trade_date')\n",
    "    companyId = record.pop('ts_code')\n",
    "    processed_js.append({\n",
    "        \"measurement\": \"stock\",\n",
    "        \"tags\": {\n",
    "            'companyId': companyId\n",
    "        },\n",
    "        \"time\": time,\n",
    "        \"fields\": record\n",
    "    })"
   ]
  },
  {
   "cell_type": "code",
   "execution_count": 14,
   "metadata": {},
   "outputs": [
    {
     "output_type": "execute_result",
     "data": {
      "text/plain": "{'measurement': 'stock',\n 'tags': {'companyId': '000838.SZ'},\n 'time': Timestamp('2020-05-13 00:00:00'),\n 'fields': {'open': 2.65,\n  'high': 2.67,\n  'low': 2.63,\n  'close': 2.64,\n  'pre_close': 2.65,\n  'change': -0.01,\n  'pct_chg': -0.3774,\n  'vol': 27163.88,\n  'amount': 7182.272}}"
     },
     "metadata": {},
     "execution_count": 14
    }
   ],
   "source": [
    "processed_js[0]"
   ]
  },
  {
   "cell_type": "code",
   "execution_count": 15,
   "metadata": {},
   "outputs": [
    {
     "output_type": "execute_result",
     "data": {
      "text/plain": "True"
     },
     "metadata": {},
     "execution_count": 15
    }
   ],
   "source": [
    "client.write_points(processed_js)"
   ]
  },
  {
   "cell_type": "code",
   "execution_count": 4,
   "metadata": {},
   "outputs": [],
   "source": [
    "df_client = DataFrameClient('116.62.23.105', 8086, database='stock', username='influx', password='2020liufeng')"
   ]
  },
  {
   "cell_type": "code",
   "execution_count": 8,
   "metadata": {},
   "outputs": [
    {
     "output_type": "execute_result",
     "data": {
      "text/plain": "                                amount  change  close  companyId   high  \\\n2020-05-14 00:00:00+00:00  1259440.848   -0.33   13.3  000001.SZ  13.59   \n\n                             low   open  pct_chg  pre_close        vol  \n2020-05-14 00:00:00+00:00  13.22  13.55  -2.4211      13.63  944672.09  ",
      "text/html": "<div>\n<style scoped>\n    .dataframe tbody tr th:only-of-type {\n        vertical-align: middle;\n    }\n\n    .dataframe tbody tr th {\n        vertical-align: top;\n    }\n\n    .dataframe thead th {\n        text-align: right;\n    }\n</style>\n<table border=\"1\" class=\"dataframe\">\n  <thead>\n    <tr style=\"text-align: right;\">\n      <th></th>\n      <th>amount</th>\n      <th>change</th>\n      <th>close</th>\n      <th>companyId</th>\n      <th>high</th>\n      <th>low</th>\n      <th>open</th>\n      <th>pct_chg</th>\n      <th>pre_close</th>\n      <th>vol</th>\n    </tr>\n  </thead>\n  <tbody>\n    <tr>\n      <th>2020-05-14 00:00:00+00:00</th>\n      <td>1259440.848</td>\n      <td>-0.33</td>\n      <td>13.3</td>\n      <td>000001.SZ</td>\n      <td>13.59</td>\n      <td>13.22</td>\n      <td>13.55</td>\n      <td>-2.4211</td>\n      <td>13.63</td>\n      <td>944672.09</td>\n    </tr>\n  </tbody>\n</table>\n</div>"
     },
     "metadata": {},
     "execution_count": 8
    }
   ],
   "source": [
    "df_client.query(\"select * from stock where companyId='000001.SZ'\")['stock']"
   ]
  },
  {
   "cell_type": "code",
   "execution_count": null,
   "metadata": {},
   "outputs": [],
   "source": []
  }
 ],
 "metadata": {
  "language_info": {
   "codemirror_mode": {
    "name": "ipython",
    "version": 3
   },
   "file_extension": ".py",
   "mimetype": "text/x-python",
   "name": "python",
   "nbconvert_exporter": "python",
   "pygments_lexer": "ipython3",
   "version": "3.7.0-final"
  },
  "orig_nbformat": 2,
  "kernelspec": {
   "name": "python37064bitvenvvenv9b985edbe97245bb8788e43a93e26b9f",
   "display_name": "Python 3.7.0 64-bit ('venv': venv)"
  }
 },
 "nbformat": 4,
 "nbformat_minor": 2
}