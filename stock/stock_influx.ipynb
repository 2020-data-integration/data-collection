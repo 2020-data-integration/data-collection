{
 "cells": [
  {
   "cell_type": "code",
   "execution_count": 1,
   "metadata": {},
   "outputs": [],
   "source": [
    "import tushare as ts\n",
    "import pandas as pd\n",
    "from influxdb import DataFrameClient\n",
    "from datetime import datetime, timedelta\n",
    "from tqdm import tqdm"
   ]
  },
  {
   "cell_type": "code",
   "execution_count": 2,
   "metadata": {},
   "outputs": [],
   "source": [
    "ts.set_token('53cd3b985c649c978160c6ec04bce24f4fbd2ebcb4673e8f2fba9a43')\n",
    "\n",
    "pro = ts.pro_api()"
   ]
  },
  {
   "cell_type": "code",
   "execution_count": 3,
   "metadata": {},
   "outputs": [],
   "source": [
    "company = pro.stock_basic(exchange='', list_status='L', fields='ts_code')\n",
    "company = list(company['ts_code'])"
   ]
  },
  {
   "cell_type": "code",
   "execution_count": 4,
   "metadata": {},
   "outputs": [],
   "source": [
    "end = datetime.now()\n",
    "start = end - timedelta(days=48)"
   ]
  },
  {
   "cell_type": "code",
   "execution_count": 13,
   "metadata": {},
   "outputs": [
    {
     "output_type": "stream",
     "name": "stderr",
     "text": "100%|██████████| 3826/3826 [07:49<00:00,  8.15it/s]\n"
    }
   ],
   "source": [
    "data = []\n",
    "for com_str in tqdm(company):\n",
    "    df = pro.daily(ts_code=com_str, start_date=start.strftime('%Y%m%d'), end_date=end.strftime('%Y%m%d'))\n",
    "    data.append((df, com_str))"
   ]
  },
  {
   "cell_type": "code",
   "execution_count": 14,
   "metadata": {},
   "outputs": [
    {
     "output_type": "execute_result",
     "data": {
      "text/plain": "3826"
     },
     "metadata": {},
     "execution_count": 14
    }
   ],
   "source": [
    "len(data)"
   ]
  },
  {
   "cell_type": "code",
   "execution_count": 18,
   "metadata": {},
   "outputs": [],
   "source": [
    "client = DataFrameClient('localhost', 8086, database='stock')"
   ]
  },
  {
   "cell_type": "code",
   "execution_count": 19,
   "metadata": {},
   "outputs": [],
   "source": [
    "client.create_database('stock')"
   ]
  },
  {
   "cell_type": "code",
   "execution_count": 21,
   "metadata": {},
   "outputs": [
    {
     "output_type": "stream",
     "name": "stderr",
     "text": "100%|██████████| 3826/3826 [02:32<00:00, 25.04it/s]\n"
    }
   ],
   "source": [
    "for stock_df, companyId in tqdm(data):\n",
    "    stock_df = stock_df.drop(columns=['ts_code'])\n",
    "    stock_df['trade_date'] = pd.to_datetime(stock_df['trade_date'])\n",
    "    stock_df = stock_df.set_index('trade_date')\n",
    "    client.write_points(stock_df, 'stock', protocol=\"line\", tags={'companyId': companyId})"
   ]
  },
  {
   "cell_type": "code",
   "execution_count": 30,
   "metadata": {},
   "outputs": [],
   "source": [
    "res = client.query(\"select * from stock where companyId='000001.SZ'\")"
   ]
  },
  {
   "cell_type": "code",
   "execution_count": 34,
   "metadata": {},
   "outputs": [
    {
     "output_type": "execute_result",
     "data": {
      "text/plain": "                                amount  change  close  companyId   high  \\\n2020-03-25 00:00:00+00:00  1467534.956    0.26  12.87  000001.SZ  13.07   \n2020-03-26 00:00:00+00:00  1408651.057    0.19  13.06  000001.SZ  13.34   \n2020-03-27 00:00:00+00:00   861618.663    0.09  13.15  000001.SZ  13.38   \n2020-03-30 00:00:00+00:00   852956.240   -0.21  12.94  000001.SZ  13.04   \n2020-03-31 00:00:00+00:00   662915.471   -0.14  12.80  000001.SZ  13.09   \n2020-04-01 00:00:00+00:00   676070.117    0.09  12.89  000001.SZ  13.13   \n2020-04-02 00:00:00+00:00   663197.628    0.08  12.97  000001.SZ  12.97   \n2020-04-03 00:00:00+00:00  1047282.400   -0.36  12.61  000001.SZ  12.89   \n2020-04-07 00:00:00+00:00  1121200.115    0.27  12.88  000001.SZ  12.94   \n2020-04-08 00:00:00+00:00   676604.872   -0.10  12.78  000001.SZ  12.92   \n2020-04-09 00:00:00+00:00   522027.888   -0.04  12.74  000001.SZ  12.89   \n2020-04-10 00:00:00+00:00   853689.950    0.05  12.79  000001.SZ  12.98   \n2020-04-13 00:00:00+00:00   562008.050   -0.20  12.59  000001.SZ  12.71   \n2020-04-14 00:00:00+00:00   874856.562    0.27  12.86  000001.SZ  12.86   \n2020-04-15 00:00:00+00:00   843649.273    0.01  12.87  000001.SZ  12.93   \n2020-04-16 00:00:00+00:00   997623.816   -0.19  12.68  000001.SZ  12.79   \n2020-04-17 00:00:00+00:00  1713215.766    0.21  12.89  000001.SZ  13.04   \n2020-04-20 00:00:00+00:00  1058524.019    0.10  12.99  000001.SZ  13.05   \n2020-04-21 00:00:00+00:00  2861879.086    0.46  13.45  000001.SZ  13.70   \n2020-04-22 00:00:00+00:00  1368222.854   -0.22  13.23  000001.SZ  13.42   \n2020-04-23 00:00:00+00:00   855052.110    0.00  13.23  000001.SZ  13.31   \n2020-04-24 00:00:00+00:00   747473.770    0.01  13.24  000001.SZ  13.28   \n2020-04-27 00:00:00+00:00  1263809.737    0.26  13.50  000001.SZ  13.64   \n2020-04-28 00:00:00+00:00  1038718.080    0.02  13.52  000001.SZ  13.56   \n2020-04-29 00:00:00+00:00  1541638.203    0.50  14.02  000001.SZ  14.10   \n2020-04-30 00:00:00+00:00  1155968.238   -0.09  13.93  000001.SZ  14.32   \n2020-05-06 00:00:00+00:00  1382727.481   -0.16  13.77  000001.SZ  13.89   \n2020-05-07 00:00:00+00:00   904349.531   -0.08  13.69  000001.SZ  13.76   \n2020-05-08 00:00:00+00:00  1297924.588    0.26  13.95  000001.SZ  14.02   \n2020-05-11 00:00:00+00:00   859156.594    0.05  14.00  000001.SZ  14.13   \n\n                             low   open  pct_chg  pre_close         vol  \n2020-03-25 00:00:00+00:00  12.70  12.88   2.0619      12.61  1136957.74  \n2020-03-26 00:00:00+00:00  12.72  12.78   1.4763      12.87  1075192.43  \n2020-03-27 00:00:00+00:00  13.08  13.25   0.6891      13.06   653018.88  \n2020-03-30 00:00:00+00:00  12.76  12.85  -1.5970      13.15   661738.79  \n2020-03-31 00:00:00+00:00  12.78  13.05  -1.0819      12.94   513370.30  \n2020-04-01 00:00:00+00:00  12.82  12.86   0.7031      12.80   520836.04  \n2020-04-02 00:00:00+00:00  12.66  12.75   0.6206      12.89   518365.04  \n2020-04-03 00:00:00+00:00  12.55  12.82  -2.7756      12.97   825348.14  \n2020-04-07 00:00:00+00:00  12.81  12.89   2.1412      12.61   870313.71  \n2020-04-08 00:00:00+00:00  12.72  12.88  -0.7764      12.88   528716.14  \n2020-04-09 00:00:00+00:00  12.72  12.88  -0.3130      12.78   408553.77  \n2020-04-10 00:00:00+00:00  12.65  12.76   0.3925      12.74   666674.95  \n2020-04-13 00:00:00+00:00  12.47  12.67  -1.5637      12.79   446214.40  \n2020-04-14 00:00:00+00:00  12.57  12.65   2.1446      12.59   686086.87  \n2020-04-15 00:00:00+00:00  12.78  12.86   0.0778      12.86   656396.40  \n2020-04-16 00:00:00+00:00  12.54  12.79  -1.4763      12.87   789154.98  \n2020-04-17 00:00:00+00:00  12.65  12.77   1.6562      12.68  1331164.77  \n2020-04-20 00:00:00+00:00  12.77  12.86   0.7758      12.89   818455.83  \n2020-04-21 00:00:00+00:00  13.30  13.30   3.5412      12.99  2122448.34  \n2020-04-22 00:00:00+00:00  13.16  13.37  -1.6357      13.45  1032802.74  \n2020-04-23 00:00:00+00:00  13.11  13.23   0.0000      13.23   646989.63  \n2020-04-24 00:00:00+00:00  13.11  13.17   0.0756      13.23   566001.61  \n2020-04-27 00:00:00+00:00  13.25  13.30   1.9637      13.24   936829.90  \n2020-04-28 00:00:00+00:00  13.27  13.45   0.1481      13.50   771564.17  \n2020-04-29 00:00:00+00:00  13.45  13.48   3.6982      13.52  1108722.39  \n2020-04-30 00:00:00+00:00  13.88  14.02  -0.6419      14.02   819540.43  \n2020-05-06 00:00:00+00:00  13.61  13.76  -1.1486      13.93  1008998.02  \n2020-05-07 00:00:00+00:00  13.60  13.76  -0.5810      13.77   662749.23  \n2020-05-08 00:00:00+00:00  13.68  13.76   1.8992      13.69   934781.70  \n2020-05-11 00:00:00+00:00  13.90  13.92   0.3584      13.95   612862.29  ",
      "text/html": "<div>\n<style scoped>\n    .dataframe tbody tr th:only-of-type {\n        vertical-align: middle;\n    }\n\n    .dataframe tbody tr th {\n        vertical-align: top;\n    }\n\n    .dataframe thead th {\n        text-align: right;\n    }\n</style>\n<table border=\"1\" class=\"dataframe\">\n  <thead>\n    <tr style=\"text-align: right;\">\n      <th></th>\n      <th>amount</th>\n      <th>change</th>\n      <th>close</th>\n      <th>companyId</th>\n      <th>high</th>\n      <th>low</th>\n      <th>open</th>\n      <th>pct_chg</th>\n      <th>pre_close</th>\n      <th>vol</th>\n    </tr>\n  </thead>\n  <tbody>\n    <tr>\n      <th>2020-03-25 00:00:00+00:00</th>\n      <td>1467534.956</td>\n      <td>0.26</td>\n      <td>12.87</td>\n      <td>000001.SZ</td>\n      <td>13.07</td>\n      <td>12.70</td>\n      <td>12.88</td>\n      <td>2.0619</td>\n      <td>12.61</td>\n      <td>1136957.74</td>\n    </tr>\n    <tr>\n      <th>2020-03-26 00:00:00+00:00</th>\n      <td>1408651.057</td>\n      <td>0.19</td>\n      <td>13.06</td>\n      <td>000001.SZ</td>\n      <td>13.34</td>\n      <td>12.72</td>\n      <td>12.78</td>\n      <td>1.4763</td>\n      <td>12.87</td>\n      <td>1075192.43</td>\n    </tr>\n    <tr>\n      <th>2020-03-27 00:00:00+00:00</th>\n      <td>861618.663</td>\n      <td>0.09</td>\n      <td>13.15</td>\n      <td>000001.SZ</td>\n      <td>13.38</td>\n      <td>13.08</td>\n      <td>13.25</td>\n      <td>0.6891</td>\n      <td>13.06</td>\n      <td>653018.88</td>\n    </tr>\n    <tr>\n      <th>2020-03-30 00:00:00+00:00</th>\n      <td>852956.240</td>\n      <td>-0.21</td>\n      <td>12.94</td>\n      <td>000001.SZ</td>\n      <td>13.04</td>\n      <td>12.76</td>\n      <td>12.85</td>\n      <td>-1.5970</td>\n      <td>13.15</td>\n      <td>661738.79</td>\n    </tr>\n    <tr>\n      <th>2020-03-31 00:00:00+00:00</th>\n      <td>662915.471</td>\n      <td>-0.14</td>\n      <td>12.80</td>\n      <td>000001.SZ</td>\n      <td>13.09</td>\n      <td>12.78</td>\n      <td>13.05</td>\n      <td>-1.0819</td>\n      <td>12.94</td>\n      <td>513370.30</td>\n    </tr>\n    <tr>\n      <th>2020-04-01 00:00:00+00:00</th>\n      <td>676070.117</td>\n      <td>0.09</td>\n      <td>12.89</td>\n      <td>000001.SZ</td>\n      <td>13.13</td>\n      <td>12.82</td>\n      <td>12.86</td>\n      <td>0.7031</td>\n      <td>12.80</td>\n      <td>520836.04</td>\n    </tr>\n    <tr>\n      <th>2020-04-02 00:00:00+00:00</th>\n      <td>663197.628</td>\n      <td>0.08</td>\n      <td>12.97</td>\n      <td>000001.SZ</td>\n      <td>12.97</td>\n      <td>12.66</td>\n      <td>12.75</td>\n      <td>0.6206</td>\n      <td>12.89</td>\n      <td>518365.04</td>\n    </tr>\n    <tr>\n      <th>2020-04-03 00:00:00+00:00</th>\n      <td>1047282.400</td>\n      <td>-0.36</td>\n      <td>12.61</td>\n      <td>000001.SZ</td>\n      <td>12.89</td>\n      <td>12.55</td>\n      <td>12.82</td>\n      <td>-2.7756</td>\n      <td>12.97</td>\n      <td>825348.14</td>\n    </tr>\n    <tr>\n      <th>2020-04-07 00:00:00+00:00</th>\n      <td>1121200.115</td>\n      <td>0.27</td>\n      <td>12.88</td>\n      <td>000001.SZ</td>\n      <td>12.94</td>\n      <td>12.81</td>\n      <td>12.89</td>\n      <td>2.1412</td>\n      <td>12.61</td>\n      <td>870313.71</td>\n    </tr>\n    <tr>\n      <th>2020-04-08 00:00:00+00:00</th>\n      <td>676604.872</td>\n      <td>-0.10</td>\n      <td>12.78</td>\n      <td>000001.SZ</td>\n      <td>12.92</td>\n      <td>12.72</td>\n      <td>12.88</td>\n      <td>-0.7764</td>\n      <td>12.88</td>\n      <td>528716.14</td>\n    </tr>\n    <tr>\n      <th>2020-04-09 00:00:00+00:00</th>\n      <td>522027.888</td>\n      <td>-0.04</td>\n      <td>12.74</td>\n      <td>000001.SZ</td>\n      <td>12.89</td>\n      <td>12.72</td>\n      <td>12.88</td>\n      <td>-0.3130</td>\n      <td>12.78</td>\n      <td>408553.77</td>\n    </tr>\n    <tr>\n      <th>2020-04-10 00:00:00+00:00</th>\n      <td>853689.950</td>\n      <td>0.05</td>\n      <td>12.79</td>\n      <td>000001.SZ</td>\n      <td>12.98</td>\n      <td>12.65</td>\n      <td>12.76</td>\n      <td>0.3925</td>\n      <td>12.74</td>\n      <td>666674.95</td>\n    </tr>\n    <tr>\n      <th>2020-04-13 00:00:00+00:00</th>\n      <td>562008.050</td>\n      <td>-0.20</td>\n      <td>12.59</td>\n      <td>000001.SZ</td>\n      <td>12.71</td>\n      <td>12.47</td>\n      <td>12.67</td>\n      <td>-1.5637</td>\n      <td>12.79</td>\n      <td>446214.40</td>\n    </tr>\n    <tr>\n      <th>2020-04-14 00:00:00+00:00</th>\n      <td>874856.562</td>\n      <td>0.27</td>\n      <td>12.86</td>\n      <td>000001.SZ</td>\n      <td>12.86</td>\n      <td>12.57</td>\n      <td>12.65</td>\n      <td>2.1446</td>\n      <td>12.59</td>\n      <td>686086.87</td>\n    </tr>\n    <tr>\n      <th>2020-04-15 00:00:00+00:00</th>\n      <td>843649.273</td>\n      <td>0.01</td>\n      <td>12.87</td>\n      <td>000001.SZ</td>\n      <td>12.93</td>\n      <td>12.78</td>\n      <td>12.86</td>\n      <td>0.0778</td>\n      <td>12.86</td>\n      <td>656396.40</td>\n    </tr>\n    <tr>\n      <th>2020-04-16 00:00:00+00:00</th>\n      <td>997623.816</td>\n      <td>-0.19</td>\n      <td>12.68</td>\n      <td>000001.SZ</td>\n      <td>12.79</td>\n      <td>12.54</td>\n      <td>12.79</td>\n      <td>-1.4763</td>\n      <td>12.87</td>\n      <td>789154.98</td>\n    </tr>\n    <tr>\n      <th>2020-04-17 00:00:00+00:00</th>\n      <td>1713215.766</td>\n      <td>0.21</td>\n      <td>12.89</td>\n      <td>000001.SZ</td>\n      <td>13.04</td>\n      <td>12.65</td>\n      <td>12.77</td>\n      <td>1.6562</td>\n      <td>12.68</td>\n      <td>1331164.77</td>\n    </tr>\n    <tr>\n      <th>2020-04-20 00:00:00+00:00</th>\n      <td>1058524.019</td>\n      <td>0.10</td>\n      <td>12.99</td>\n      <td>000001.SZ</td>\n      <td>13.05</td>\n      <td>12.77</td>\n      <td>12.86</td>\n      <td>0.7758</td>\n      <td>12.89</td>\n      <td>818455.83</td>\n    </tr>\n    <tr>\n      <th>2020-04-21 00:00:00+00:00</th>\n      <td>2861879.086</td>\n      <td>0.46</td>\n      <td>13.45</td>\n      <td>000001.SZ</td>\n      <td>13.70</td>\n      <td>13.30</td>\n      <td>13.30</td>\n      <td>3.5412</td>\n      <td>12.99</td>\n      <td>2122448.34</td>\n    </tr>\n    <tr>\n      <th>2020-04-22 00:00:00+00:00</th>\n      <td>1368222.854</td>\n      <td>-0.22</td>\n      <td>13.23</td>\n      <td>000001.SZ</td>\n      <td>13.42</td>\n      <td>13.16</td>\n      <td>13.37</td>\n      <td>-1.6357</td>\n      <td>13.45</td>\n      <td>1032802.74</td>\n    </tr>\n    <tr>\n      <th>2020-04-23 00:00:00+00:00</th>\n      <td>855052.110</td>\n      <td>0.00</td>\n      <td>13.23</td>\n      <td>000001.SZ</td>\n      <td>13.31</td>\n      <td>13.11</td>\n      <td>13.23</td>\n      <td>0.0000</td>\n      <td>13.23</td>\n      <td>646989.63</td>\n    </tr>\n    <tr>\n      <th>2020-04-24 00:00:00+00:00</th>\n      <td>747473.770</td>\n      <td>0.01</td>\n      <td>13.24</td>\n      <td>000001.SZ</td>\n      <td>13.28</td>\n      <td>13.11</td>\n      <td>13.17</td>\n      <td>0.0756</td>\n      <td>13.23</td>\n      <td>566001.61</td>\n    </tr>\n    <tr>\n      <th>2020-04-27 00:00:00+00:00</th>\n      <td>1263809.737</td>\n      <td>0.26</td>\n      <td>13.50</td>\n      <td>000001.SZ</td>\n      <td>13.64</td>\n      <td>13.25</td>\n      <td>13.30</td>\n      <td>1.9637</td>\n      <td>13.24</td>\n      <td>936829.90</td>\n    </tr>\n    <tr>\n      <th>2020-04-28 00:00:00+00:00</th>\n      <td>1038718.080</td>\n      <td>0.02</td>\n      <td>13.52</td>\n      <td>000001.SZ</td>\n      <td>13.56</td>\n      <td>13.27</td>\n      <td>13.45</td>\n      <td>0.1481</td>\n      <td>13.50</td>\n      <td>771564.17</td>\n    </tr>\n    <tr>\n      <th>2020-04-29 00:00:00+00:00</th>\n      <td>1541638.203</td>\n      <td>0.50</td>\n      <td>14.02</td>\n      <td>000001.SZ</td>\n      <td>14.10</td>\n      <td>13.45</td>\n      <td>13.48</td>\n      <td>3.6982</td>\n      <td>13.52</td>\n      <td>1108722.39</td>\n    </tr>\n    <tr>\n      <th>2020-04-30 00:00:00+00:00</th>\n      <td>1155968.238</td>\n      <td>-0.09</td>\n      <td>13.93</td>\n      <td>000001.SZ</td>\n      <td>14.32</td>\n      <td>13.88</td>\n      <td>14.02</td>\n      <td>-0.6419</td>\n      <td>14.02</td>\n      <td>819540.43</td>\n    </tr>\n    <tr>\n      <th>2020-05-06 00:00:00+00:00</th>\n      <td>1382727.481</td>\n      <td>-0.16</td>\n      <td>13.77</td>\n      <td>000001.SZ</td>\n      <td>13.89</td>\n      <td>13.61</td>\n      <td>13.76</td>\n      <td>-1.1486</td>\n      <td>13.93</td>\n      <td>1008998.02</td>\n    </tr>\n    <tr>\n      <th>2020-05-07 00:00:00+00:00</th>\n      <td>904349.531</td>\n      <td>-0.08</td>\n      <td>13.69</td>\n      <td>000001.SZ</td>\n      <td>13.76</td>\n      <td>13.60</td>\n      <td>13.76</td>\n      <td>-0.5810</td>\n      <td>13.77</td>\n      <td>662749.23</td>\n    </tr>\n    <tr>\n      <th>2020-05-08 00:00:00+00:00</th>\n      <td>1297924.588</td>\n      <td>0.26</td>\n      <td>13.95</td>\n      <td>000001.SZ</td>\n      <td>14.02</td>\n      <td>13.68</td>\n      <td>13.76</td>\n      <td>1.8992</td>\n      <td>13.69</td>\n      <td>934781.70</td>\n    </tr>\n    <tr>\n      <th>2020-05-11 00:00:00+00:00</th>\n      <td>859156.594</td>\n      <td>0.05</td>\n      <td>14.00</td>\n      <td>000001.SZ</td>\n      <td>14.13</td>\n      <td>13.90</td>\n      <td>13.92</td>\n      <td>0.3584</td>\n      <td>13.95</td>\n      <td>612862.29</td>\n    </tr>\n  </tbody>\n</table>\n</div>"
     },
     "metadata": {},
     "execution_count": 34
    }
   ],
   "source": [
    "res['stock']"
   ]
  },
  {
   "cell_type": "code",
   "execution_count": null,
   "metadata": {},
   "outputs": [],
   "source": []
  }
 ],
 "metadata": {
  "language_info": {
   "codemirror_mode": {
    "name": "ipython",
    "version": 3
   },
   "file_extension": ".py",
   "mimetype": "text/x-python",
   "name": "python",
   "nbconvert_exporter": "python",
   "pygments_lexer": "ipython3",
   "version": "3.7.0-final"
  },
  "orig_nbformat": 2,
  "kernelspec": {
   "name": "python37064bitvenvvenv9b985edbe97245bb8788e43a93e26b9f",
   "display_name": "Python 3.7.0 64-bit ('venv': venv)"
  }
 },
 "nbformat": 4,
 "nbformat_minor": 2
}