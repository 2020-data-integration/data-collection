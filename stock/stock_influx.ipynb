{
 "cells": [
  {
   "cell_type": "code",
   "execution_count": 1,
   "metadata": {},
   "outputs": [],
   "source": [
    "import tushare as ts\n",
    "import pandas as pd\n",
    "from influxdb import DataFrameClient\n",
    "from datetime import datetime, timedelta\n",
    "from tqdm import tqdm"
   ]
  },
  {
   "cell_type": "code",
   "execution_count": 2,
   "metadata": {},
   "outputs": [],
   "source": [
    "ts.set_token('53cd3b985c649c978160c6ec04bce24f4fbd2ebcb4673e8f2fba9a43')\n",
    "\n",
    "pro = ts.pro_api()"
   ]
  },
  {
   "cell_type": "code",
   "execution_count": 4,
   "metadata": {},
   "outputs": [
    {
     "output_type": "stream",
     "name": "stderr",
     "text": "100%|██████████| 865/865 [06:04<00:00,  2.37it/s]\n"
    }
   ],
   "source": [
    "data = []\n",
    "for date in tqdm(pd.date_range(start='2018-01-01', end='2020-05-14')):\n",
    "    date_str = date.strftime(\"%Y%m%d\")\n",
    "    df = pro.daily(trade_date=date_str)\n",
    "    data.append(df)"
   ]
  },
  {
   "cell_type": "code",
   "execution_count": 5,
   "metadata": {},
   "outputs": [],
   "source": [
    "stock_df = pd.concat(data)"
   ]
  },
  {
   "cell_type": "code",
   "execution_count": 9,
   "metadata": {},
   "outputs": [
    {
     "output_type": "execute_result",
     "data": {
      "text/plain": "3979230"
     },
     "metadata": {},
     "execution_count": 9
    }
   ],
   "source": [
    "len(stock_df)"
   ]
  },
  {
   "cell_type": "code",
   "execution_count": 6,
   "metadata": {},
   "outputs": [],
   "source": [
    "companys = set(stock_df['ts_code'])"
   ]
  },
  {
   "cell_type": "code",
   "execution_count": 7,
   "metadata": {},
   "outputs": [
    {
     "output_type": "execute_result",
     "data": {
      "text/plain": "3869"
     },
     "metadata": {},
     "execution_count": 7
    }
   ],
   "source": [
    "len(companys)"
   ]
  },
  {
   "cell_type": "code",
   "execution_count": 11,
   "metadata": {},
   "outputs": [
    {
     "output_type": "stream",
     "name": "stderr",
     "text": "100%|██████████| 3869/3869 [14:36<00:00,  4.41it/s]\n"
    }
   ],
   "source": [
    "stock_by_company = []\n",
    "for company_id in tqdm(companys):\n",
    "    df = stock_df[stock_df['ts_code']==company_id]\n",
    "    stock_by_company.append((df, company_id))"
   ]
  },
  {
   "cell_type": "code",
   "execution_count": 8,
   "metadata": {},
   "outputs": [],
   "source": [
    "client = DataFrameClient('localhost', 8086, database='stock', username='influx', password='2020liufeng')"
   ]
  },
  {
   "cell_type": "code",
   "execution_count": 17,
   "metadata": {},
   "outputs": [
    {
     "output_type": "stream",
     "name": "stderr",
     "text": "41%|████▏     | 1605/3869 [14:04<19:51,  1.90it/s]\n"
    },
    {
     "output_type": "error",
     "ename": "InfluxDBServerError",
     "evalue": "{\"error\":\"timeout\"}",
     "traceback": [
      "\u001b[0;31m---------------------------------------------------------------------------\u001b[0m",
      "\u001b[0;31mInfluxDBServerError\u001b[0m                       Traceback (most recent call last)",
      "\u001b[0;32m<ipython-input-17-2b879b32a3c2>\u001b[0m in \u001b[0;36m<module>\u001b[0;34m\u001b[0m\n\u001b[1;32m      3\u001b[0m     \u001b[0mdf\u001b[0m\u001b[0;34m[\u001b[0m\u001b[0;34m'trade_date'\u001b[0m\u001b[0;34m]\u001b[0m \u001b[0;34m=\u001b[0m \u001b[0mpd\u001b[0m\u001b[0;34m.\u001b[0m\u001b[0mto_datetime\u001b[0m\u001b[0;34m(\u001b[0m\u001b[0mdf\u001b[0m\u001b[0;34m[\u001b[0m\u001b[0;34m'trade_date'\u001b[0m\u001b[0;34m]\u001b[0m\u001b[0;34m)\u001b[0m\u001b[0;34m\u001b[0m\u001b[0m\n\u001b[1;32m      4\u001b[0m     \u001b[0mdf\u001b[0m \u001b[0;34m=\u001b[0m \u001b[0mdf\u001b[0m\u001b[0;34m.\u001b[0m\u001b[0mset_index\u001b[0m\u001b[0;34m(\u001b[0m\u001b[0;34m'trade_date'\u001b[0m\u001b[0;34m)\u001b[0m\u001b[0;34m\u001b[0m\u001b[0m\n\u001b[0;32m----> 5\u001b[0;31m     \u001b[0mclient\u001b[0m\u001b[0;34m.\u001b[0m\u001b[0mwrite_points\u001b[0m\u001b[0;34m(\u001b[0m\u001b[0mdf\u001b[0m\u001b[0;34m,\u001b[0m \u001b[0;34m'stock'\u001b[0m\u001b[0;34m,\u001b[0m \u001b[0mprotocol\u001b[0m\u001b[0;34m=\u001b[0m\u001b[0;34m\"line\"\u001b[0m\u001b[0;34m,\u001b[0m \u001b[0mtags\u001b[0m\u001b[0;34m=\u001b[0m\u001b[0;34m{\u001b[0m\u001b[0;34m'companyId'\u001b[0m\u001b[0;34m:\u001b[0m \u001b[0mcompanyId\u001b[0m\u001b[0;34m}\u001b[0m\u001b[0;34m)\u001b[0m\u001b[0;34m\u001b[0m\u001b[0m\n\u001b[0m",
      "\u001b[0;32m~/Study/课程相关/大三下/数据集成/data-integration-repos/data-collection/venv/lib/python3.7/site-packages/influxdb/_dataframe_client.py\u001b[0m in \u001b[0;36mwrite_points\u001b[0;34m(self, dataframe, measurement, tags, tag_columns, field_columns, time_precision, database, retention_policy, batch_size, protocol, numeric_precision)\u001b[0m\n\u001b[1;32m    136\u001b[0m             \u001b[0mdatabase\u001b[0m\u001b[0;34m,\u001b[0m\u001b[0;34m\u001b[0m\u001b[0m\n\u001b[1;32m    137\u001b[0m             \u001b[0mretention_policy\u001b[0m\u001b[0;34m,\u001b[0m\u001b[0;34m\u001b[0m\u001b[0m\n\u001b[0;32m--> 138\u001b[0;31m             protocol=protocol)\n\u001b[0m\u001b[1;32m    139\u001b[0m \u001b[0;34m\u001b[0m\u001b[0m\n\u001b[1;32m    140\u001b[0m         \u001b[0;32mreturn\u001b[0m \u001b[0;32mTrue\u001b[0m\u001b[0;34m\u001b[0m\u001b[0m\n",
      "\u001b[0;32m~/Study/课程相关/大三下/数据集成/data-integration-repos/data-collection/venv/lib/python3.7/site-packages/influxdb/client.py\u001b[0m in \u001b[0;36mwrite_points\u001b[0;34m(self, points, time_precision, database, retention_policy, tags, batch_size, protocol, consistency)\u001b[0m\n\u001b[1;32m    597\u001b[0m                                   \u001b[0mretention_policy\u001b[0m\u001b[0;34m=\u001b[0m\u001b[0mretention_policy\u001b[0m\u001b[0;34m,\u001b[0m\u001b[0;34m\u001b[0m\u001b[0m\n\u001b[1;32m    598\u001b[0m                                   \u001b[0mtags\u001b[0m\u001b[0;34m=\u001b[0m\u001b[0mtags\u001b[0m\u001b[0;34m,\u001b[0m \u001b[0mprotocol\u001b[0m\u001b[0;34m=\u001b[0m\u001b[0mprotocol\u001b[0m\u001b[0;34m,\u001b[0m\u001b[0;34m\u001b[0m\u001b[0m\n\u001b[0;32m--> 599\u001b[0;31m                                   consistency=consistency)\n\u001b[0m\u001b[1;32m    600\u001b[0m \u001b[0;34m\u001b[0m\u001b[0m\n\u001b[1;32m    601\u001b[0m     \u001b[0;32mdef\u001b[0m \u001b[0mping\u001b[0m\u001b[0;34m(\u001b[0m\u001b[0mself\u001b[0m\u001b[0;34m)\u001b[0m\u001b[0;34m:\u001b[0m\u001b[0;34m\u001b[0m\u001b[0m\n",
      "\u001b[0;32m~/Study/课程相关/大三下/数据集成/data-integration-repos/data-collection/venv/lib/python3.7/site-packages/influxdb/client.py\u001b[0m in \u001b[0;36m_write_points\u001b[0;34m(self, points, time_precision, database, retention_policy, tags, protocol, consistency)\u001b[0m\n\u001b[1;32m    674\u001b[0m                 \u001b[0mparams\u001b[0m\u001b[0;34m=\u001b[0m\u001b[0mparams\u001b[0m\u001b[0;34m,\u001b[0m\u001b[0;34m\u001b[0m\u001b[0m\n\u001b[1;32m    675\u001b[0m                 \u001b[0mexpected_response_code\u001b[0m\u001b[0;34m=\u001b[0m\u001b[0;36m204\u001b[0m\u001b[0;34m,\u001b[0m\u001b[0;34m\u001b[0m\u001b[0m\n\u001b[0;32m--> 676\u001b[0;31m                 \u001b[0mprotocol\u001b[0m\u001b[0;34m=\u001b[0m\u001b[0mprotocol\u001b[0m\u001b[0;34m\u001b[0m\u001b[0m\n\u001b[0m\u001b[1;32m    677\u001b[0m             )\n\u001b[1;32m    678\u001b[0m \u001b[0;34m\u001b[0m\u001b[0m\n",
      "\u001b[0;32m~/Study/课程相关/大三下/数据集成/data-integration-repos/data-collection/venv/lib/python3.7/site-packages/influxdb/client.py\u001b[0m in \u001b[0;36mwrite\u001b[0;34m(self, data, params, expected_response_code, protocol)\u001b[0m\n\u001b[1;32m    408\u001b[0m             \u001b[0mdata\u001b[0m\u001b[0;34m=\u001b[0m\u001b[0mdata\u001b[0m\u001b[0;34m,\u001b[0m\u001b[0;34m\u001b[0m\u001b[0m\n\u001b[1;32m    409\u001b[0m             \u001b[0mexpected_response_code\u001b[0m\u001b[0;34m=\u001b[0m\u001b[0mexpected_response_code\u001b[0m\u001b[0;34m,\u001b[0m\u001b[0;34m\u001b[0m\u001b[0m\n\u001b[0;32m--> 410\u001b[0;31m             \u001b[0mheaders\u001b[0m\u001b[0;34m=\u001b[0m\u001b[0mheaders\u001b[0m\u001b[0;34m\u001b[0m\u001b[0m\n\u001b[0m\u001b[1;32m    411\u001b[0m         )\n\u001b[1;32m    412\u001b[0m         \u001b[0;32mreturn\u001b[0m \u001b[0;32mTrue\u001b[0m\u001b[0;34m\u001b[0m\u001b[0m\n",
      "\u001b[0;32m~/Study/课程相关/大三下/数据集成/data-integration-repos/data-collection/venv/lib/python3.7/site-packages/influxdb/client.py\u001b[0m in \u001b[0;36mrequest\u001b[0;34m(self, url, method, params, data, stream, expected_response_code, headers)\u001b[0m\n\u001b[1;32m    362\u001b[0m         \u001b[0;31m# if there's not an error, there must have been a successful response\u001b[0m\u001b[0;34m\u001b[0m\u001b[0;34m\u001b[0m\u001b[0m\n\u001b[1;32m    363\u001b[0m         \u001b[0;32mif\u001b[0m \u001b[0;36m500\u001b[0m \u001b[0;34m<=\u001b[0m \u001b[0mresponse\u001b[0m\u001b[0;34m.\u001b[0m\u001b[0mstatus_code\u001b[0m \u001b[0;34m<\u001b[0m \u001b[0;36m600\u001b[0m\u001b[0;34m:\u001b[0m\u001b[0;34m\u001b[0m\u001b[0m\n\u001b[0;32m--> 364\u001b[0;31m             \u001b[0;32mraise\u001b[0m \u001b[0mInfluxDBServerError\u001b[0m\u001b[0;34m(\u001b[0m\u001b[0mreformat_error\u001b[0m\u001b[0;34m(\u001b[0m\u001b[0mresponse\u001b[0m\u001b[0;34m)\u001b[0m\u001b[0;34m)\u001b[0m\u001b[0;34m\u001b[0m\u001b[0m\n\u001b[0m\u001b[1;32m    365\u001b[0m         \u001b[0;32melif\u001b[0m \u001b[0mresponse\u001b[0m\u001b[0;34m.\u001b[0m\u001b[0mstatus_code\u001b[0m \u001b[0;34m==\u001b[0m \u001b[0mexpected_response_code\u001b[0m\u001b[0;34m:\u001b[0m\u001b[0;34m\u001b[0m\u001b[0m\n\u001b[1;32m    366\u001b[0m             \u001b[0;32mreturn\u001b[0m \u001b[0mresponse\u001b[0m\u001b[0;34m\u001b[0m\u001b[0m\n",
      "\u001b[0;31mInfluxDBServerError\u001b[0m: {\"error\":\"timeout\"}"
     ]
    }
   ],
   "source": [
    "for i in tqdm(range(len(companys))):\n",
    "    df, companyId = stock_by_company[i]\n",
    "    df = df.drop(columns=['ts_code'])\n",
    "    df['trade_date'] = pd.to_datetime(df['trade_date'])\n",
    "    df = df.set_index('trade_date')\n",
    "    client.write_points(df, 'stock', protocol=\"line\", tags={'companyId': companyId})"
   ]
  },
  {
   "cell_type": "code",
   "execution_count": 9,
   "metadata": {},
   "outputs": [],
   "source": [
    "res = client.query(\"select * from stock where companyId='000001.SZ'\")"
   ]
  },
  {
   "cell_type": "code",
   "execution_count": 10,
   "metadata": {},
   "outputs": [
    {
     "output_type": "execute_result",
     "data": {
      "text/plain": "                                 amount  change  close  companyId   high  \\\n2015-01-05 00:00:00+00:00  4.565388e+06    0.18  16.02  000001.SZ  16.28   \n2015-01-06 00:00:00+00:00  3.453446e+06   -0.24  15.78  000001.SZ  16.39   \n2015-01-07 00:00:00+00:00  2.634796e+06   -0.30  15.48  000001.SZ  15.83   \n2015-01-08 00:00:00+00:00  2.128003e+06   -0.52  14.96  000001.SZ  15.57   \n2015-01-09 00:00:00+00:00  3.835378e+06    0.12  15.08  000001.SZ  15.87   \n...                                 ...     ...    ...        ...    ...   \n2020-05-08 00:00:00+00:00  1.297925e+06    0.26  13.95  000001.SZ  14.02   \n2020-05-11 00:00:00+00:00  8.591566e+05    0.05  14.00  000001.SZ  14.13   \n2020-05-12 00:00:00+00:00  7.721095e+05   -0.21  13.79  000001.SZ  14.05   \n2020-05-13 00:00:00+00:00  8.710620e+05   -0.16  13.63  000001.SZ  13.78   \n2020-05-14 00:00:00+00:00  1.259441e+06   -0.33  13.30  000001.SZ  13.59   \n\n                             low   open  pct_chg  pre_close         vol  \n2015-01-05 00:00:00+00:00  15.60  15.99   1.1400      15.84  2860436.43  \n2015-01-06 00:00:00+00:00  15.55  15.85  -1.5000      16.02  2166421.40  \n2015-01-07 00:00:00+00:00  15.30  15.56  -1.9000      15.78  1700120.67  \n2015-01-08 00:00:00+00:00  14.90  15.50  -3.3600      15.48  1407714.21  \n2015-01-09 00:00:00+00:00  14.71  14.90   0.8000      14.96  2508500.23  \n...                          ...    ...      ...        ...         ...  \n2020-05-08 00:00:00+00:00  13.68  13.76   1.8992      13.69   934781.70  \n2020-05-11 00:00:00+00:00  13.90  13.92   0.3584      13.95   612862.29  \n2020-05-12 00:00:00+00:00  13.72  13.95  -1.5000      14.00   558511.14  \n2020-05-13 00:00:00+00:00  13.53  13.75  -1.1603      13.79   640358.79  \n2020-05-14 00:00:00+00:00  13.22  13.55  -2.4211      13.63   944672.09  \n\n[1305 rows x 10 columns]",
      "text/html": "<div>\n<style scoped>\n    .dataframe tbody tr th:only-of-type {\n        vertical-align: middle;\n    }\n\n    .dataframe tbody tr th {\n        vertical-align: top;\n    }\n\n    .dataframe thead th {\n        text-align: right;\n    }\n</style>\n<table border=\"1\" class=\"dataframe\">\n  <thead>\n    <tr style=\"text-align: right;\">\n      <th></th>\n      <th>amount</th>\n      <th>change</th>\n      <th>close</th>\n      <th>companyId</th>\n      <th>high</th>\n      <th>low</th>\n      <th>open</th>\n      <th>pct_chg</th>\n      <th>pre_close</th>\n      <th>vol</th>\n    </tr>\n  </thead>\n  <tbody>\n    <tr>\n      <th>2015-01-05 00:00:00+00:00</th>\n      <td>4.565388e+06</td>\n      <td>0.18</td>\n      <td>16.02</td>\n      <td>000001.SZ</td>\n      <td>16.28</td>\n      <td>15.60</td>\n      <td>15.99</td>\n      <td>1.1400</td>\n      <td>15.84</td>\n      <td>2860436.43</td>\n    </tr>\n    <tr>\n      <th>2015-01-06 00:00:00+00:00</th>\n      <td>3.453446e+06</td>\n      <td>-0.24</td>\n      <td>15.78</td>\n      <td>000001.SZ</td>\n      <td>16.39</td>\n      <td>15.55</td>\n      <td>15.85</td>\n      <td>-1.5000</td>\n      <td>16.02</td>\n      <td>2166421.40</td>\n    </tr>\n    <tr>\n      <th>2015-01-07 00:00:00+00:00</th>\n      <td>2.634796e+06</td>\n      <td>-0.30</td>\n      <td>15.48</td>\n      <td>000001.SZ</td>\n      <td>15.83</td>\n      <td>15.30</td>\n      <td>15.56</td>\n      <td>-1.9000</td>\n      <td>15.78</td>\n      <td>1700120.67</td>\n    </tr>\n    <tr>\n      <th>2015-01-08 00:00:00+00:00</th>\n      <td>2.128003e+06</td>\n      <td>-0.52</td>\n      <td>14.96</td>\n      <td>000001.SZ</td>\n      <td>15.57</td>\n      <td>14.90</td>\n      <td>15.50</td>\n      <td>-3.3600</td>\n      <td>15.48</td>\n      <td>1407714.21</td>\n    </tr>\n    <tr>\n      <th>2015-01-09 00:00:00+00:00</th>\n      <td>3.835378e+06</td>\n      <td>0.12</td>\n      <td>15.08</td>\n      <td>000001.SZ</td>\n      <td>15.87</td>\n      <td>14.71</td>\n      <td>14.90</td>\n      <td>0.8000</td>\n      <td>14.96</td>\n      <td>2508500.23</td>\n    </tr>\n    <tr>\n      <th>...</th>\n      <td>...</td>\n      <td>...</td>\n      <td>...</td>\n      <td>...</td>\n      <td>...</td>\n      <td>...</td>\n      <td>...</td>\n      <td>...</td>\n      <td>...</td>\n      <td>...</td>\n    </tr>\n    <tr>\n      <th>2020-05-08 00:00:00+00:00</th>\n      <td>1.297925e+06</td>\n      <td>0.26</td>\n      <td>13.95</td>\n      <td>000001.SZ</td>\n      <td>14.02</td>\n      <td>13.68</td>\n      <td>13.76</td>\n      <td>1.8992</td>\n      <td>13.69</td>\n      <td>934781.70</td>\n    </tr>\n    <tr>\n      <th>2020-05-11 00:00:00+00:00</th>\n      <td>8.591566e+05</td>\n      <td>0.05</td>\n      <td>14.00</td>\n      <td>000001.SZ</td>\n      <td>14.13</td>\n      <td>13.90</td>\n      <td>13.92</td>\n      <td>0.3584</td>\n      <td>13.95</td>\n      <td>612862.29</td>\n    </tr>\n    <tr>\n      <th>2020-05-12 00:00:00+00:00</th>\n      <td>7.721095e+05</td>\n      <td>-0.21</td>\n      <td>13.79</td>\n      <td>000001.SZ</td>\n      <td>14.05</td>\n      <td>13.72</td>\n      <td>13.95</td>\n      <td>-1.5000</td>\n      <td>14.00</td>\n      <td>558511.14</td>\n    </tr>\n    <tr>\n      <th>2020-05-13 00:00:00+00:00</th>\n      <td>8.710620e+05</td>\n      <td>-0.16</td>\n      <td>13.63</td>\n      <td>000001.SZ</td>\n      <td>13.78</td>\n      <td>13.53</td>\n      <td>13.75</td>\n      <td>-1.1603</td>\n      <td>13.79</td>\n      <td>640358.79</td>\n    </tr>\n    <tr>\n      <th>2020-05-14 00:00:00+00:00</th>\n      <td>1.259441e+06</td>\n      <td>-0.33</td>\n      <td>13.30</td>\n      <td>000001.SZ</td>\n      <td>13.59</td>\n      <td>13.22</td>\n      <td>13.55</td>\n      <td>-2.4211</td>\n      <td>13.63</td>\n      <td>944672.09</td>\n    </tr>\n  </tbody>\n</table>\n<p>1305 rows × 10 columns</p>\n</div>"
     },
     "metadata": {},
     "execution_count": 10
    }
   ],
   "source": [
    "res['stock']"
   ]
  },
  {
   "cell_type": "code",
   "execution_count": null,
   "metadata": {},
   "outputs": [],
   "source": []
  }
 ],
 "metadata": {
  "language_info": {
   "codemirror_mode": {
    "name": "ipython",
    "version": 3
   },
   "file_extension": ".py",
   "mimetype": "text/x-python",
   "name": "python",
   "nbconvert_exporter": "python",
   "pygments_lexer": "ipython3",
   "version": "3.7.0-final"
  },
  "orig_nbformat": 2,
  "kernelspec": {
   "name": "python37064bitvenvvenv9b985edbe97245bb8788e43a93e26b9f",
   "display_name": "Python 3.7.0 64-bit ('venv': venv)"
  }
 },
 "nbformat": 4,
 "nbformat_minor": 2
}