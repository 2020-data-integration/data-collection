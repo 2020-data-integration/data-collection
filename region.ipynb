{
 "cells": [
  {
   "cell_type": "code",
   "execution_count": 1,
   "metadata": {},
   "outputs": [],
   "source": [
    "import pandas as pd\n",
    "import re"
   ]
  },
  {
   "cell_type": "code",
   "execution_count": 2,
   "metadata": {},
   "outputs": [],
   "source": [
    "company_df = pd.read_csv('import/company.csv')"
   ]
  },
  {
   "cell_type": "code",
   "execution_count": 3,
   "metadata": {},
   "outputs": [
    {
     "output_type": "execute_result",
     "data": {
      "text/plain": "  companyId:ID(Company) name:string area:string industry:string  \\\n0             000001.SZ        平安银行          深圳              银行   \n1             000002.SZ         万科A          深圳            全国地产   \n2             000004.SZ        国农科技          深圳            生物制药   \n3             000005.SZ        世纪星源          深圳            环境保护   \n4             000006.SZ        深振业A          深圳            区域地产   \n\n   fullname:string listDate:date   :LABEL  \n0       平安银行股份有限公司    1991-04-03  Company  \n1       万科企业股份有限公司    1991-01-29  Company  \n2   深圳中国农大科技股份有限公司    1991-01-14  Company  \n3     深圳世纪星源股份有限公司    1990-12-10  Company  \n4  深圳市振业(集团)股份有限公司    1992-04-27  Company  ",
      "text/html": "<div>\n<style scoped>\n    .dataframe tbody tr th:only-of-type {\n        vertical-align: middle;\n    }\n\n    .dataframe tbody tr th {\n        vertical-align: top;\n    }\n\n    .dataframe thead th {\n        text-align: right;\n    }\n</style>\n<table border=\"1\" class=\"dataframe\">\n  <thead>\n    <tr style=\"text-align: right;\">\n      <th></th>\n      <th>companyId:ID(Company)</th>\n      <th>name:string</th>\n      <th>area:string</th>\n      <th>industry:string</th>\n      <th>fullname:string</th>\n      <th>listDate:date</th>\n      <th>:LABEL</th>\n    </tr>\n  </thead>\n  <tbody>\n    <tr>\n      <th>0</th>\n      <td>000001.SZ</td>\n      <td>平安银行</td>\n      <td>深圳</td>\n      <td>银行</td>\n      <td>平安银行股份有限公司</td>\n      <td>1991-04-03</td>\n      <td>Company</td>\n    </tr>\n    <tr>\n      <th>1</th>\n      <td>000002.SZ</td>\n      <td>万科A</td>\n      <td>深圳</td>\n      <td>全国地产</td>\n      <td>万科企业股份有限公司</td>\n      <td>1991-01-29</td>\n      <td>Company</td>\n    </tr>\n    <tr>\n      <th>2</th>\n      <td>000004.SZ</td>\n      <td>国农科技</td>\n      <td>深圳</td>\n      <td>生物制药</td>\n      <td>深圳中国农大科技股份有限公司</td>\n      <td>1991-01-14</td>\n      <td>Company</td>\n    </tr>\n    <tr>\n      <th>3</th>\n      <td>000005.SZ</td>\n      <td>世纪星源</td>\n      <td>深圳</td>\n      <td>环境保护</td>\n      <td>深圳世纪星源股份有限公司</td>\n      <td>1990-12-10</td>\n      <td>Company</td>\n    </tr>\n    <tr>\n      <th>4</th>\n      <td>000006.SZ</td>\n      <td>深振业A</td>\n      <td>深圳</td>\n      <td>区域地产</td>\n      <td>深圳市振业(集团)股份有限公司</td>\n      <td>1992-04-27</td>\n      <td>Company</td>\n    </tr>\n  </tbody>\n</table>\n</div>"
     },
     "metadata": {},
     "execution_count": 3
    }
   ],
   "source": [
    "company_df.head()"
   ]
  },
  {
   "cell_type": "code",
   "execution_count": 4,
   "metadata": {},
   "outputs": [],
   "source": [
    "regions = set(company_df['area:string'])"
   ]
  },
  {
   "cell_type": "code",
   "execution_count": 5,
   "metadata": {},
   "outputs": [
    {
     "output_type": "execute_result",
     "data": {
      "text/plain": "32"
     },
     "metadata": {},
     "execution_count": 5
    }
   ],
   "source": [
    "len(regions)"
   ]
  },
  {
   "cell_type": "code",
   "execution_count": 6,
   "metadata": {},
   "outputs": [],
   "source": [
    "prov_eco_df = pd.read_excel('分省年度数据.xls', header=3, nrows=31)"
   ]
  },
  {
   "cell_type": "code",
   "execution_count": 7,
   "metadata": {},
   "outputs": [
    {
     "output_type": "execute_result",
     "data": {
      "text/plain": "          地区      2019年     2018年     2017年     2016年     2015年\n0        北京市   35371.28  33105.97  28014.94  25669.13  23014.59\n1        天津市   14104.28  13362.92  18549.19  17885.39  16538.19\n2        河北省   35104.52  32494.61  34016.32  32070.45  29806.11\n3        山西省   17026.68  15958.13  15528.42  13050.41  12766.49\n4     内蒙古自治区   17212.53  16140.76  16096.21  18128.10  17831.51\n5        辽宁省   24909.45  23510.54  23409.24  22246.90  28669.02\n6        吉林省   11726.82  11253.81  14944.53  14776.80  14063.13\n7       黑龙江省   13612.68  12846.48  15902.68  15386.09  15083.67\n8        上海市   38155.32  36011.82  30632.99  28178.65  25123.45\n9        江苏省   99631.52  93207.55  85869.76  77388.28  70116.38\n10       浙江省   62351.74  58002.84  51768.26  47251.36  42886.49\n11       安徽省   37113.98  34010.91  27018.00  24407.62  22005.63\n12       福建省   42395.00  38687.77  32182.09  28810.58  25979.82\n13       江西省   24757.50  22716.51  20006.31  18499.00  16723.78\n14       山东省   71067.53  66648.87  72634.15  68024.49  63002.33\n15       河南省   54259.20  49935.90  44552.83  40471.79  37002.16\n16       湖北省   45828.31  42021.95  35478.09  32665.38  29550.19\n17       湖南省   39752.12  36329.68  33902.96  31551.37  28902.21\n18       广东省  107671.07  99945.22  89705.23  80854.91  72812.55\n19   广西壮族自治区   21237.14  19627.81  18523.26  18317.64  16803.12\n20       海南省    5308.93   4910.69   4462.54   4053.20   3702.76\n21       重庆市   23605.77  21588.80  19424.73  17740.59  15717.27\n22       四川省   46615.82  42902.10  36980.22  32934.54  30053.10\n23       贵州省   16769.34  15353.21  13540.83  11776.73  10502.56\n24       云南省   23223.75  20880.63  16376.34  14788.42  13619.17\n25     西藏自治区    1697.82   1548.39   1310.92   1151.41   1026.39\n26       陕西省   25793.17  23941.88  21898.81  19399.59  18021.86\n27       甘肃省    8718.30   8104.07   7459.90   7200.37   6790.32\n28       青海省    2965.95   2748.00   2624.83   2572.49   2417.05\n29   宁夏回族自治区    3748.48   3510.21   3443.56   3168.59   2911.77\n30  新疆维吾尔自治区   13597.11  12809.39  10881.96   9649.70   9324.80",
      "text/html": "<div>\n<style scoped>\n    .dataframe tbody tr th:only-of-type {\n        vertical-align: middle;\n    }\n\n    .dataframe tbody tr th {\n        vertical-align: top;\n    }\n\n    .dataframe thead th {\n        text-align: right;\n    }\n</style>\n<table border=\"1\" class=\"dataframe\">\n  <thead>\n    <tr style=\"text-align: right;\">\n      <th></th>\n      <th>地区</th>\n      <th>2019年</th>\n      <th>2018年</th>\n      <th>2017年</th>\n      <th>2016年</th>\n      <th>2015年</th>\n    </tr>\n  </thead>\n  <tbody>\n    <tr>\n      <th>0</th>\n      <td>北京市</td>\n      <td>35371.28</td>\n      <td>33105.97</td>\n      <td>28014.94</td>\n      <td>25669.13</td>\n      <td>23014.59</td>\n    </tr>\n    <tr>\n      <th>1</th>\n      <td>天津市</td>\n      <td>14104.28</td>\n      <td>13362.92</td>\n      <td>18549.19</td>\n      <td>17885.39</td>\n      <td>16538.19</td>\n    </tr>\n    <tr>\n      <th>2</th>\n      <td>河北省</td>\n      <td>35104.52</td>\n      <td>32494.61</td>\n      <td>34016.32</td>\n      <td>32070.45</td>\n      <td>29806.11</td>\n    </tr>\n    <tr>\n      <th>3</th>\n      <td>山西省</td>\n      <td>17026.68</td>\n      <td>15958.13</td>\n      <td>15528.42</td>\n      <td>13050.41</td>\n      <td>12766.49</td>\n    </tr>\n    <tr>\n      <th>4</th>\n      <td>内蒙古自治区</td>\n      <td>17212.53</td>\n      <td>16140.76</td>\n      <td>16096.21</td>\n      <td>18128.10</td>\n      <td>17831.51</td>\n    </tr>\n    <tr>\n      <th>5</th>\n      <td>辽宁省</td>\n      <td>24909.45</td>\n      <td>23510.54</td>\n      <td>23409.24</td>\n      <td>22246.90</td>\n      <td>28669.02</td>\n    </tr>\n    <tr>\n      <th>6</th>\n      <td>吉林省</td>\n      <td>11726.82</td>\n      <td>11253.81</td>\n      <td>14944.53</td>\n      <td>14776.80</td>\n      <td>14063.13</td>\n    </tr>\n    <tr>\n      <th>7</th>\n      <td>黑龙江省</td>\n      <td>13612.68</td>\n      <td>12846.48</td>\n      <td>15902.68</td>\n      <td>15386.09</td>\n      <td>15083.67</td>\n    </tr>\n    <tr>\n      <th>8</th>\n      <td>上海市</td>\n      <td>38155.32</td>\n      <td>36011.82</td>\n      <td>30632.99</td>\n      <td>28178.65</td>\n      <td>25123.45</td>\n    </tr>\n    <tr>\n      <th>9</th>\n      <td>江苏省</td>\n      <td>99631.52</td>\n      <td>93207.55</td>\n      <td>85869.76</td>\n      <td>77388.28</td>\n      <td>70116.38</td>\n    </tr>\n    <tr>\n      <th>10</th>\n      <td>浙江省</td>\n      <td>62351.74</td>\n      <td>58002.84</td>\n      <td>51768.26</td>\n      <td>47251.36</td>\n      <td>42886.49</td>\n    </tr>\n    <tr>\n      <th>11</th>\n      <td>安徽省</td>\n      <td>37113.98</td>\n      <td>34010.91</td>\n      <td>27018.00</td>\n      <td>24407.62</td>\n      <td>22005.63</td>\n    </tr>\n    <tr>\n      <th>12</th>\n      <td>福建省</td>\n      <td>42395.00</td>\n      <td>38687.77</td>\n      <td>32182.09</td>\n      <td>28810.58</td>\n      <td>25979.82</td>\n    </tr>\n    <tr>\n      <th>13</th>\n      <td>江西省</td>\n      <td>24757.50</td>\n      <td>22716.51</td>\n      <td>20006.31</td>\n      <td>18499.00</td>\n      <td>16723.78</td>\n    </tr>\n    <tr>\n      <th>14</th>\n      <td>山东省</td>\n      <td>71067.53</td>\n      <td>66648.87</td>\n      <td>72634.15</td>\n      <td>68024.49</td>\n      <td>63002.33</td>\n    </tr>\n    <tr>\n      <th>15</th>\n      <td>河南省</td>\n      <td>54259.20</td>\n      <td>49935.90</td>\n      <td>44552.83</td>\n      <td>40471.79</td>\n      <td>37002.16</td>\n    </tr>\n    <tr>\n      <th>16</th>\n      <td>湖北省</td>\n      <td>45828.31</td>\n      <td>42021.95</td>\n      <td>35478.09</td>\n      <td>32665.38</td>\n      <td>29550.19</td>\n    </tr>\n    <tr>\n      <th>17</th>\n      <td>湖南省</td>\n      <td>39752.12</td>\n      <td>36329.68</td>\n      <td>33902.96</td>\n      <td>31551.37</td>\n      <td>28902.21</td>\n    </tr>\n    <tr>\n      <th>18</th>\n      <td>广东省</td>\n      <td>107671.07</td>\n      <td>99945.22</td>\n      <td>89705.23</td>\n      <td>80854.91</td>\n      <td>72812.55</td>\n    </tr>\n    <tr>\n      <th>19</th>\n      <td>广西壮族自治区</td>\n      <td>21237.14</td>\n      <td>19627.81</td>\n      <td>18523.26</td>\n      <td>18317.64</td>\n      <td>16803.12</td>\n    </tr>\n    <tr>\n      <th>20</th>\n      <td>海南省</td>\n      <td>5308.93</td>\n      <td>4910.69</td>\n      <td>4462.54</td>\n      <td>4053.20</td>\n      <td>3702.76</td>\n    </tr>\n    <tr>\n      <th>21</th>\n      <td>重庆市</td>\n      <td>23605.77</td>\n      <td>21588.80</td>\n      <td>19424.73</td>\n      <td>17740.59</td>\n      <td>15717.27</td>\n    </tr>\n    <tr>\n      <th>22</th>\n      <td>四川省</td>\n      <td>46615.82</td>\n      <td>42902.10</td>\n      <td>36980.22</td>\n      <td>32934.54</td>\n      <td>30053.10</td>\n    </tr>\n    <tr>\n      <th>23</th>\n      <td>贵州省</td>\n      <td>16769.34</td>\n      <td>15353.21</td>\n      <td>13540.83</td>\n      <td>11776.73</td>\n      <td>10502.56</td>\n    </tr>\n    <tr>\n      <th>24</th>\n      <td>云南省</td>\n      <td>23223.75</td>\n      <td>20880.63</td>\n      <td>16376.34</td>\n      <td>14788.42</td>\n      <td>13619.17</td>\n    </tr>\n    <tr>\n      <th>25</th>\n      <td>西藏自治区</td>\n      <td>1697.82</td>\n      <td>1548.39</td>\n      <td>1310.92</td>\n      <td>1151.41</td>\n      <td>1026.39</td>\n    </tr>\n    <tr>\n      <th>26</th>\n      <td>陕西省</td>\n      <td>25793.17</td>\n      <td>23941.88</td>\n      <td>21898.81</td>\n      <td>19399.59</td>\n      <td>18021.86</td>\n    </tr>\n    <tr>\n      <th>27</th>\n      <td>甘肃省</td>\n      <td>8718.30</td>\n      <td>8104.07</td>\n      <td>7459.90</td>\n      <td>7200.37</td>\n      <td>6790.32</td>\n    </tr>\n    <tr>\n      <th>28</th>\n      <td>青海省</td>\n      <td>2965.95</td>\n      <td>2748.00</td>\n      <td>2624.83</td>\n      <td>2572.49</td>\n      <td>2417.05</td>\n    </tr>\n    <tr>\n      <th>29</th>\n      <td>宁夏回族自治区</td>\n      <td>3748.48</td>\n      <td>3510.21</td>\n      <td>3443.56</td>\n      <td>3168.59</td>\n      <td>2911.77</td>\n    </tr>\n    <tr>\n      <th>30</th>\n      <td>新疆维吾尔自治区</td>\n      <td>13597.11</td>\n      <td>12809.39</td>\n      <td>10881.96</td>\n      <td>9649.70</td>\n      <td>9324.80</td>\n    </tr>\n  </tbody>\n</table>\n</div>"
     },
     "metadata": {},
     "execution_count": 7
    }
   ],
   "source": [
    "prov_eco_df"
   ]
  },
  {
   "cell_type": "code",
   "execution_count": 8,
   "metadata": {},
   "outputs": [],
   "source": [
    "def parse_prov_name(x: pd.Series) -> str:\n",
    "    s = x['地区']\n",
    "    # 去掉内容\n",
    "    s = re.sub('省|自治区|回族|维吾尔|壮族|市|古', '', s)\n",
    "    return s"
   ]
  },
  {
   "cell_type": "code",
   "execution_count": 9,
   "metadata": {},
   "outputs": [],
   "source": [
    "prov_eco_df['地区'] = prov_eco_df.apply(parse_prov_name, axis=1)"
   ]
  },
  {
   "cell_type": "code",
   "execution_count": 10,
   "metadata": {},
   "outputs": [
    {
     "output_type": "execute_result",
     "data": {
      "text/plain": "     地区      2019年     2018年     2017年     2016年     2015年\n0    北京   35371.28  33105.97  28014.94  25669.13  23014.59\n1    天津   14104.28  13362.92  18549.19  17885.39  16538.19\n2    河北   35104.52  32494.61  34016.32  32070.45  29806.11\n3    山西   17026.68  15958.13  15528.42  13050.41  12766.49\n4    内蒙   17212.53  16140.76  16096.21  18128.10  17831.51\n5    辽宁   24909.45  23510.54  23409.24  22246.90  28669.02\n6    吉林   11726.82  11253.81  14944.53  14776.80  14063.13\n7   黑龙江   13612.68  12846.48  15902.68  15386.09  15083.67\n8    上海   38155.32  36011.82  30632.99  28178.65  25123.45\n9    江苏   99631.52  93207.55  85869.76  77388.28  70116.38\n10   浙江   62351.74  58002.84  51768.26  47251.36  42886.49\n11   安徽   37113.98  34010.91  27018.00  24407.62  22005.63\n12   福建   42395.00  38687.77  32182.09  28810.58  25979.82\n13   江西   24757.50  22716.51  20006.31  18499.00  16723.78\n14   山东   71067.53  66648.87  72634.15  68024.49  63002.33\n15   河南   54259.20  49935.90  44552.83  40471.79  37002.16\n16   湖北   45828.31  42021.95  35478.09  32665.38  29550.19\n17   湖南   39752.12  36329.68  33902.96  31551.37  28902.21\n18   广东  107671.07  99945.22  89705.23  80854.91  72812.55\n19   广西   21237.14  19627.81  18523.26  18317.64  16803.12\n20   海南    5308.93   4910.69   4462.54   4053.20   3702.76\n21   重庆   23605.77  21588.80  19424.73  17740.59  15717.27\n22   四川   46615.82  42902.10  36980.22  32934.54  30053.10\n23   贵州   16769.34  15353.21  13540.83  11776.73  10502.56\n24   云南   23223.75  20880.63  16376.34  14788.42  13619.17\n25   西藏    1697.82   1548.39   1310.92   1151.41   1026.39\n26   陕西   25793.17  23941.88  21898.81  19399.59  18021.86\n27   甘肃    8718.30   8104.07   7459.90   7200.37   6790.32\n28   青海    2965.95   2748.00   2624.83   2572.49   2417.05\n29   宁夏    3748.48   3510.21   3443.56   3168.59   2911.77\n30   新疆   13597.11  12809.39  10881.96   9649.70   9324.80",
      "text/html": "<div>\n<style scoped>\n    .dataframe tbody tr th:only-of-type {\n        vertical-align: middle;\n    }\n\n    .dataframe tbody tr th {\n        vertical-align: top;\n    }\n\n    .dataframe thead th {\n        text-align: right;\n    }\n</style>\n<table border=\"1\" class=\"dataframe\">\n  <thead>\n    <tr style=\"text-align: right;\">\n      <th></th>\n      <th>地区</th>\n      <th>2019年</th>\n      <th>2018年</th>\n      <th>2017年</th>\n      <th>2016年</th>\n      <th>2015年</th>\n    </tr>\n  </thead>\n  <tbody>\n    <tr>\n      <th>0</th>\n      <td>北京</td>\n      <td>35371.28</td>\n      <td>33105.97</td>\n      <td>28014.94</td>\n      <td>25669.13</td>\n      <td>23014.59</td>\n    </tr>\n    <tr>\n      <th>1</th>\n      <td>天津</td>\n      <td>14104.28</td>\n      <td>13362.92</td>\n      <td>18549.19</td>\n      <td>17885.39</td>\n      <td>16538.19</td>\n    </tr>\n    <tr>\n      <th>2</th>\n      <td>河北</td>\n      <td>35104.52</td>\n      <td>32494.61</td>\n      <td>34016.32</td>\n      <td>32070.45</td>\n      <td>29806.11</td>\n    </tr>\n    <tr>\n      <th>3</th>\n      <td>山西</td>\n      <td>17026.68</td>\n      <td>15958.13</td>\n      <td>15528.42</td>\n      <td>13050.41</td>\n      <td>12766.49</td>\n    </tr>\n    <tr>\n      <th>4</th>\n      <td>内蒙</td>\n      <td>17212.53</td>\n      <td>16140.76</td>\n      <td>16096.21</td>\n      <td>18128.10</td>\n      <td>17831.51</td>\n    </tr>\n    <tr>\n      <th>5</th>\n      <td>辽宁</td>\n      <td>24909.45</td>\n      <td>23510.54</td>\n      <td>23409.24</td>\n      <td>22246.90</td>\n      <td>28669.02</td>\n    </tr>\n    <tr>\n      <th>6</th>\n      <td>吉林</td>\n      <td>11726.82</td>\n      <td>11253.81</td>\n      <td>14944.53</td>\n      <td>14776.80</td>\n      <td>14063.13</td>\n    </tr>\n    <tr>\n      <th>7</th>\n      <td>黑龙江</td>\n      <td>13612.68</td>\n      <td>12846.48</td>\n      <td>15902.68</td>\n      <td>15386.09</td>\n      <td>15083.67</td>\n    </tr>\n    <tr>\n      <th>8</th>\n      <td>上海</td>\n      <td>38155.32</td>\n      <td>36011.82</td>\n      <td>30632.99</td>\n      <td>28178.65</td>\n      <td>25123.45</td>\n    </tr>\n    <tr>\n      <th>9</th>\n      <td>江苏</td>\n      <td>99631.52</td>\n      <td>93207.55</td>\n      <td>85869.76</td>\n      <td>77388.28</td>\n      <td>70116.38</td>\n    </tr>\n    <tr>\n      <th>10</th>\n      <td>浙江</td>\n      <td>62351.74</td>\n      <td>58002.84</td>\n      <td>51768.26</td>\n      <td>47251.36</td>\n      <td>42886.49</td>\n    </tr>\n    <tr>\n      <th>11</th>\n      <td>安徽</td>\n      <td>37113.98</td>\n      <td>34010.91</td>\n      <td>27018.00</td>\n      <td>24407.62</td>\n      <td>22005.63</td>\n    </tr>\n    <tr>\n      <th>12</th>\n      <td>福建</td>\n      <td>42395.00</td>\n      <td>38687.77</td>\n      <td>32182.09</td>\n      <td>28810.58</td>\n      <td>25979.82</td>\n    </tr>\n    <tr>\n      <th>13</th>\n      <td>江西</td>\n      <td>24757.50</td>\n      <td>22716.51</td>\n      <td>20006.31</td>\n      <td>18499.00</td>\n      <td>16723.78</td>\n    </tr>\n    <tr>\n      <th>14</th>\n      <td>山东</td>\n      <td>71067.53</td>\n      <td>66648.87</td>\n      <td>72634.15</td>\n      <td>68024.49</td>\n      <td>63002.33</td>\n    </tr>\n    <tr>\n      <th>15</th>\n      <td>河南</td>\n      <td>54259.20</td>\n      <td>49935.90</td>\n      <td>44552.83</td>\n      <td>40471.79</td>\n      <td>37002.16</td>\n    </tr>\n    <tr>\n      <th>16</th>\n      <td>湖北</td>\n      <td>45828.31</td>\n      <td>42021.95</td>\n      <td>35478.09</td>\n      <td>32665.38</td>\n      <td>29550.19</td>\n    </tr>\n    <tr>\n      <th>17</th>\n      <td>湖南</td>\n      <td>39752.12</td>\n      <td>36329.68</td>\n      <td>33902.96</td>\n      <td>31551.37</td>\n      <td>28902.21</td>\n    </tr>\n    <tr>\n      <th>18</th>\n      <td>广东</td>\n      <td>107671.07</td>\n      <td>99945.22</td>\n      <td>89705.23</td>\n      <td>80854.91</td>\n      <td>72812.55</td>\n    </tr>\n    <tr>\n      <th>19</th>\n      <td>广西</td>\n      <td>21237.14</td>\n      <td>19627.81</td>\n      <td>18523.26</td>\n      <td>18317.64</td>\n      <td>16803.12</td>\n    </tr>\n    <tr>\n      <th>20</th>\n      <td>海南</td>\n      <td>5308.93</td>\n      <td>4910.69</td>\n      <td>4462.54</td>\n      <td>4053.20</td>\n      <td>3702.76</td>\n    </tr>\n    <tr>\n      <th>21</th>\n      <td>重庆</td>\n      <td>23605.77</td>\n      <td>21588.80</td>\n      <td>19424.73</td>\n      <td>17740.59</td>\n      <td>15717.27</td>\n    </tr>\n    <tr>\n      <th>22</th>\n      <td>四川</td>\n      <td>46615.82</td>\n      <td>42902.10</td>\n      <td>36980.22</td>\n      <td>32934.54</td>\n      <td>30053.10</td>\n    </tr>\n    <tr>\n      <th>23</th>\n      <td>贵州</td>\n      <td>16769.34</td>\n      <td>15353.21</td>\n      <td>13540.83</td>\n      <td>11776.73</td>\n      <td>10502.56</td>\n    </tr>\n    <tr>\n      <th>24</th>\n      <td>云南</td>\n      <td>23223.75</td>\n      <td>20880.63</td>\n      <td>16376.34</td>\n      <td>14788.42</td>\n      <td>13619.17</td>\n    </tr>\n    <tr>\n      <th>25</th>\n      <td>西藏</td>\n      <td>1697.82</td>\n      <td>1548.39</td>\n      <td>1310.92</td>\n      <td>1151.41</td>\n      <td>1026.39</td>\n    </tr>\n    <tr>\n      <th>26</th>\n      <td>陕西</td>\n      <td>25793.17</td>\n      <td>23941.88</td>\n      <td>21898.81</td>\n      <td>19399.59</td>\n      <td>18021.86</td>\n    </tr>\n    <tr>\n      <th>27</th>\n      <td>甘肃</td>\n      <td>8718.30</td>\n      <td>8104.07</td>\n      <td>7459.90</td>\n      <td>7200.37</td>\n      <td>6790.32</td>\n    </tr>\n    <tr>\n      <th>28</th>\n      <td>青海</td>\n      <td>2965.95</td>\n      <td>2748.00</td>\n      <td>2624.83</td>\n      <td>2572.49</td>\n      <td>2417.05</td>\n    </tr>\n    <tr>\n      <th>29</th>\n      <td>宁夏</td>\n      <td>3748.48</td>\n      <td>3510.21</td>\n      <td>3443.56</td>\n      <td>3168.59</td>\n      <td>2911.77</td>\n    </tr>\n    <tr>\n      <th>30</th>\n      <td>新疆</td>\n      <td>13597.11</td>\n      <td>12809.39</td>\n      <td>10881.96</td>\n      <td>9649.70</td>\n      <td>9324.80</td>\n    </tr>\n  </tbody>\n</table>\n</div>"
     },
     "metadata": {},
     "execution_count": 10
    }
   ],
   "source": [
    "prov_eco_df"
   ]
  },
  {
   "cell_type": "code",
   "execution_count": 11,
   "metadata": {},
   "outputs": [],
   "source": [
    "city_eco_df = pd.read_excel('主要城市年度数据.xls', header=3, nrows=36)"
   ]
  },
  {
   "cell_type": "code",
   "execution_count": 12,
   "metadata": {},
   "outputs": [
    {
     "output_type": "execute_result",
     "data": {
      "text/plain": "      地区     2019年     2018年     2017年     2016年     2015年\n0     北京  35371.28  33105.97  28014.94  25669.13  23014.59\n1     天津  14104.28  13362.92  18549.19  17885.39  16538.19\n2    石家庄       NaN   6082.62   6460.88   5927.73   5440.60\n3     太原       NaN   3884.48   3382.18   2955.60   2735.34\n4   呼和浩特       NaN   2903.50   2743.72   3173.59   3090.52\n5     沈阳       NaN   6292.40   5864.97   5546.45   7272.31\n6     大连       NaN   7668.48   7363.92   6810.20   7731.64\n7     长春       NaN   7175.71   6530.03   5986.42   5530.03\n8    哈尔滨       NaN   6300.48   6355.05   6101.61   5751.21\n9     上海  38155.32  36011.82  30632.99  28178.65  25123.45\n10    南京       NaN  12820.40  11715.10  10503.02   9720.77\n11    杭州       NaN  13509.15  12603.36  11313.72  10050.21\n12    宁波       NaN  10745.46   9842.10   8686.49   8003.61\n13    合肥       NaN   7822.91   7213.45   6274.38   5660.27\n14    福州       NaN   7856.81   7103.40   6197.64   5618.08\n15    厦门       NaN   4791.41   4351.70   3784.27   3466.03\n16    南昌       NaN   5274.67   5003.19   4354.99   4000.01\n17    济南       NaN   7856.56   7201.96   6536.12   6100.23\n18    青岛       NaN  12001.52  11037.28  10011.29   9300.07\n19    郑州       NaN  10143.32   9130.20   8113.97   7311.52\n20    武汉       NaN  14847.29  13410.34  11912.61  10905.60\n21    长沙       NaN  11003.41  10535.51   9356.91   8510.13\n22    广州       NaN  22859.35  21503.15  19547.44  18100.41\n23    深圳       NaN  24221.98  22490.06  19492.60  17502.86\n24    南宁       NaN   4026.91   4118.83   3703.33   3410.09\n25    海口       NaN   1510.51   1390.58   1257.67   1161.96\n26    重庆  23605.77  21588.80  19424.73  17740.59  15717.27\n27    成都       NaN  15342.77  13889.39  12170.23  10801.16\n28    贵阳       NaN   3798.45   3537.96   3157.70   2891.16\n29    昆明       NaN   5206.90   4857.64   4300.08   3968.01\n30    拉萨       NaN    540.78    479.25    424.95    376.73\n31    西安       NaN   8349.86   7469.85   6257.18   5801.20\n32    兰州       NaN   2732.94   2523.54   2264.23   2095.99\n33    西宁       NaN   1286.41   1284.91   1248.17   1131.62\n34    银川       NaN   1901.48   1803.26   1617.71   1493.86\n35  乌鲁木齐       NaN   3099.77   2743.82   2458.98   2631.64",
      "text/html": "<div>\n<style scoped>\n    .dataframe tbody tr th:only-of-type {\n        vertical-align: middle;\n    }\n\n    .dataframe tbody tr th {\n        vertical-align: top;\n    }\n\n    .dataframe thead th {\n        text-align: right;\n    }\n</style>\n<table border=\"1\" class=\"dataframe\">\n  <thead>\n    <tr style=\"text-align: right;\">\n      <th></th>\n      <th>地区</th>\n      <th>2019年</th>\n      <th>2018年</th>\n      <th>2017年</th>\n      <th>2016年</th>\n      <th>2015年</th>\n    </tr>\n  </thead>\n  <tbody>\n    <tr>\n      <th>0</th>\n      <td>北京</td>\n      <td>35371.28</td>\n      <td>33105.97</td>\n      <td>28014.94</td>\n      <td>25669.13</td>\n      <td>23014.59</td>\n    </tr>\n    <tr>\n      <th>1</th>\n      <td>天津</td>\n      <td>14104.28</td>\n      <td>13362.92</td>\n      <td>18549.19</td>\n      <td>17885.39</td>\n      <td>16538.19</td>\n    </tr>\n    <tr>\n      <th>2</th>\n      <td>石家庄</td>\n      <td>NaN</td>\n      <td>6082.62</td>\n      <td>6460.88</td>\n      <td>5927.73</td>\n      <td>5440.60</td>\n    </tr>\n    <tr>\n      <th>3</th>\n      <td>太原</td>\n      <td>NaN</td>\n      <td>3884.48</td>\n      <td>3382.18</td>\n      <td>2955.60</td>\n      <td>2735.34</td>\n    </tr>\n    <tr>\n      <th>4</th>\n      <td>呼和浩特</td>\n      <td>NaN</td>\n      <td>2903.50</td>\n      <td>2743.72</td>\n      <td>3173.59</td>\n      <td>3090.52</td>\n    </tr>\n    <tr>\n      <th>5</th>\n      <td>沈阳</td>\n      <td>NaN</td>\n      <td>6292.40</td>\n      <td>5864.97</td>\n      <td>5546.45</td>\n      <td>7272.31</td>\n    </tr>\n    <tr>\n      <th>6</th>\n      <td>大连</td>\n      <td>NaN</td>\n      <td>7668.48</td>\n      <td>7363.92</td>\n      <td>6810.20</td>\n      <td>7731.64</td>\n    </tr>\n    <tr>\n      <th>7</th>\n      <td>长春</td>\n      <td>NaN</td>\n      <td>7175.71</td>\n      <td>6530.03</td>\n      <td>5986.42</td>\n      <td>5530.03</td>\n    </tr>\n    <tr>\n      <th>8</th>\n      <td>哈尔滨</td>\n      <td>NaN</td>\n      <td>6300.48</td>\n      <td>6355.05</td>\n      <td>6101.61</td>\n      <td>5751.21</td>\n    </tr>\n    <tr>\n      <th>9</th>\n      <td>上海</td>\n      <td>38155.32</td>\n      <td>36011.82</td>\n      <td>30632.99</td>\n      <td>28178.65</td>\n      <td>25123.45</td>\n    </tr>\n    <tr>\n      <th>10</th>\n      <td>南京</td>\n      <td>NaN</td>\n      <td>12820.40</td>\n      <td>11715.10</td>\n      <td>10503.02</td>\n      <td>9720.77</td>\n    </tr>\n    <tr>\n      <th>11</th>\n      <td>杭州</td>\n      <td>NaN</td>\n      <td>13509.15</td>\n      <td>12603.36</td>\n      <td>11313.72</td>\n      <td>10050.21</td>\n    </tr>\n    <tr>\n      <th>12</th>\n      <td>宁波</td>\n      <td>NaN</td>\n      <td>10745.46</td>\n      <td>9842.10</td>\n      <td>8686.49</td>\n      <td>8003.61</td>\n    </tr>\n    <tr>\n      <th>13</th>\n      <td>合肥</td>\n      <td>NaN</td>\n      <td>7822.91</td>\n      <td>7213.45</td>\n      <td>6274.38</td>\n      <td>5660.27</td>\n    </tr>\n    <tr>\n      <th>14</th>\n      <td>福州</td>\n      <td>NaN</td>\n      <td>7856.81</td>\n      <td>7103.40</td>\n      <td>6197.64</td>\n      <td>5618.08</td>\n    </tr>\n    <tr>\n      <th>15</th>\n      <td>厦门</td>\n      <td>NaN</td>\n      <td>4791.41</td>\n      <td>4351.70</td>\n      <td>3784.27</td>\n      <td>3466.03</td>\n    </tr>\n    <tr>\n      <th>16</th>\n      <td>南昌</td>\n      <td>NaN</td>\n      <td>5274.67</td>\n      <td>5003.19</td>\n      <td>4354.99</td>\n      <td>4000.01</td>\n    </tr>\n    <tr>\n      <th>17</th>\n      <td>济南</td>\n      <td>NaN</td>\n      <td>7856.56</td>\n      <td>7201.96</td>\n      <td>6536.12</td>\n      <td>6100.23</td>\n    </tr>\n    <tr>\n      <th>18</th>\n      <td>青岛</td>\n      <td>NaN</td>\n      <td>12001.52</td>\n      <td>11037.28</td>\n      <td>10011.29</td>\n      <td>9300.07</td>\n    </tr>\n    <tr>\n      <th>19</th>\n      <td>郑州</td>\n      <td>NaN</td>\n      <td>10143.32</td>\n      <td>9130.20</td>\n      <td>8113.97</td>\n      <td>7311.52</td>\n    </tr>\n    <tr>\n      <th>20</th>\n      <td>武汉</td>\n      <td>NaN</td>\n      <td>14847.29</td>\n      <td>13410.34</td>\n      <td>11912.61</td>\n      <td>10905.60</td>\n    </tr>\n    <tr>\n      <th>21</th>\n      <td>长沙</td>\n      <td>NaN</td>\n      <td>11003.41</td>\n      <td>10535.51</td>\n      <td>9356.91</td>\n      <td>8510.13</td>\n    </tr>\n    <tr>\n      <th>22</th>\n      <td>广州</td>\n      <td>NaN</td>\n      <td>22859.35</td>\n      <td>21503.15</td>\n      <td>19547.44</td>\n      <td>18100.41</td>\n    </tr>\n    <tr>\n      <th>23</th>\n      <td>深圳</td>\n      <td>NaN</td>\n      <td>24221.98</td>\n      <td>22490.06</td>\n      <td>19492.60</td>\n      <td>17502.86</td>\n    </tr>\n    <tr>\n      <th>24</th>\n      <td>南宁</td>\n      <td>NaN</td>\n      <td>4026.91</td>\n      <td>4118.83</td>\n      <td>3703.33</td>\n      <td>3410.09</td>\n    </tr>\n    <tr>\n      <th>25</th>\n      <td>海口</td>\n      <td>NaN</td>\n      <td>1510.51</td>\n      <td>1390.58</td>\n      <td>1257.67</td>\n      <td>1161.96</td>\n    </tr>\n    <tr>\n      <th>26</th>\n      <td>重庆</td>\n      <td>23605.77</td>\n      <td>21588.80</td>\n      <td>19424.73</td>\n      <td>17740.59</td>\n      <td>15717.27</td>\n    </tr>\n    <tr>\n      <th>27</th>\n      <td>成都</td>\n      <td>NaN</td>\n      <td>15342.77</td>\n      <td>13889.39</td>\n      <td>12170.23</td>\n      <td>10801.16</td>\n    </tr>\n    <tr>\n      <th>28</th>\n      <td>贵阳</td>\n      <td>NaN</td>\n      <td>3798.45</td>\n      <td>3537.96</td>\n      <td>3157.70</td>\n      <td>2891.16</td>\n    </tr>\n    <tr>\n      <th>29</th>\n      <td>昆明</td>\n      <td>NaN</td>\n      <td>5206.90</td>\n      <td>4857.64</td>\n      <td>4300.08</td>\n      <td>3968.01</td>\n    </tr>\n    <tr>\n      <th>30</th>\n      <td>拉萨</td>\n      <td>NaN</td>\n      <td>540.78</td>\n      <td>479.25</td>\n      <td>424.95</td>\n      <td>376.73</td>\n    </tr>\n    <tr>\n      <th>31</th>\n      <td>西安</td>\n      <td>NaN</td>\n      <td>8349.86</td>\n      <td>7469.85</td>\n      <td>6257.18</td>\n      <td>5801.20</td>\n    </tr>\n    <tr>\n      <th>32</th>\n      <td>兰州</td>\n      <td>NaN</td>\n      <td>2732.94</td>\n      <td>2523.54</td>\n      <td>2264.23</td>\n      <td>2095.99</td>\n    </tr>\n    <tr>\n      <th>33</th>\n      <td>西宁</td>\n      <td>NaN</td>\n      <td>1286.41</td>\n      <td>1284.91</td>\n      <td>1248.17</td>\n      <td>1131.62</td>\n    </tr>\n    <tr>\n      <th>34</th>\n      <td>银川</td>\n      <td>NaN</td>\n      <td>1901.48</td>\n      <td>1803.26</td>\n      <td>1617.71</td>\n      <td>1493.86</td>\n    </tr>\n    <tr>\n      <th>35</th>\n      <td>乌鲁木齐</td>\n      <td>NaN</td>\n      <td>3099.77</td>\n      <td>2743.82</td>\n      <td>2458.98</td>\n      <td>2631.64</td>\n    </tr>\n  </tbody>\n</table>\n</div>"
     },
     "metadata": {},
     "execution_count": 12
    }
   ],
   "source": [
    "city_eco_df"
   ]
  },
  {
   "cell_type": "code",
   "execution_count": 13,
   "metadata": {},
   "outputs": [],
   "source": [
    "area_eco_df = pd.concat([prov_eco_df, city_eco_df])"
   ]
  },
  {
   "cell_type": "code",
   "execution_count": 14,
   "metadata": {},
   "outputs": [
    {
     "output_type": "execute_result",
     "data": {
      "text/plain": "67"
     },
     "metadata": {},
     "execution_count": 14
    }
   ],
   "source": [
    "len(area_eco_df)"
   ]
  },
  {
   "cell_type": "code",
   "execution_count": 15,
   "metadata": {},
   "outputs": [],
   "source": [
    "area_eco_df = area_eco_df.drop_duplicates('地区')"
   ]
  },
  {
   "cell_type": "code",
   "execution_count": 16,
   "metadata": {},
   "outputs": [
    {
     "output_type": "execute_result",
     "data": {
      "text/plain": "    地区     2019年    2018年     2017年     2016年     2015年\n21  重庆  23605.77  21588.8  19424.73  17740.59  15717.27",
      "text/html": "<div>\n<style scoped>\n    .dataframe tbody tr th:only-of-type {\n        vertical-align: middle;\n    }\n\n    .dataframe tbody tr th {\n        vertical-align: top;\n    }\n\n    .dataframe thead th {\n        text-align: right;\n    }\n</style>\n<table border=\"1\" class=\"dataframe\">\n  <thead>\n    <tr style=\"text-align: right;\">\n      <th></th>\n      <th>地区</th>\n      <th>2019年</th>\n      <th>2018年</th>\n      <th>2017年</th>\n      <th>2016年</th>\n      <th>2015年</th>\n    </tr>\n  </thead>\n  <tbody>\n    <tr>\n      <th>21</th>\n      <td>重庆</td>\n      <td>23605.77</td>\n      <td>21588.8</td>\n      <td>19424.73</td>\n      <td>17740.59</td>\n      <td>15717.27</td>\n    </tr>\n  </tbody>\n</table>\n</div>"
     },
     "metadata": {},
     "execution_count": 16
    }
   ],
   "source": [
    "area_eco_df[area_eco_df['地区'] == '重庆']"
   ]
  },
  {
   "cell_type": "code",
   "execution_count": 17,
   "metadata": {},
   "outputs": [
    {
     "output_type": "execute_result",
     "data": {
      "text/plain": "63"
     },
     "metadata": {},
     "execution_count": 17
    }
   ],
   "source": [
    "len(area_eco_df)"
   ]
  },
  {
   "cell_type": "code",
   "execution_count": 18,
   "metadata": {},
   "outputs": [
    {
     "output_type": "execute_result",
     "data": {
      "text/plain": "True"
     },
     "metadata": {},
     "execution_count": 18
    }
   ],
   "source": [
    "all(x in set(area_eco_df['地区']) for x in regions)"
   ]
  },
  {
   "cell_type": "code",
   "execution_count": 19,
   "metadata": {},
   "outputs": [],
   "source": [
    "area_eco_df.columns = ['area', '2019', '2018', '2017', '2016', '2015']"
   ]
  },
  {
   "cell_type": "code",
   "execution_count": 45,
   "metadata": {},
   "outputs": [
    {
     "output_type": "execute_result",
     "data": {
      "text/plain": "    area  2019      2018      2017      2016      2015\n2    石家庄   NaN   6082.62   6460.88   5927.73   5440.60\n3     太原   NaN   3884.48   3382.18   2955.60   2735.34\n4   呼和浩特   NaN   2903.50   2743.72   3173.59   3090.52\n5     沈阳   NaN   6292.40   5864.97   5546.45   7272.31\n6     大连   NaN   7668.48   7363.92   6810.20   7731.64\n7     长春   NaN   7175.71   6530.03   5986.42   5530.03\n8    哈尔滨   NaN   6300.48   6355.05   6101.61   5751.21\n10    南京   NaN  12820.40  11715.10  10503.02   9720.77\n11    杭州   NaN  13509.15  12603.36  11313.72  10050.21\n12    宁波   NaN  10745.46   9842.10   8686.49   8003.61\n13    合肥   NaN   7822.91   7213.45   6274.38   5660.27\n14    福州   NaN   7856.81   7103.40   6197.64   5618.08\n15    厦门   NaN   4791.41   4351.70   3784.27   3466.03\n16    南昌   NaN   5274.67   5003.19   4354.99   4000.01\n17    济南   NaN   7856.56   7201.96   6536.12   6100.23\n18    青岛   NaN  12001.52  11037.28  10011.29   9300.07\n19    郑州   NaN  10143.32   9130.20   8113.97   7311.52\n20    武汉   NaN  14847.29  13410.34  11912.61  10905.60\n21    长沙   NaN  11003.41  10535.51   9356.91   8510.13\n22    广州   NaN  22859.35  21503.15  19547.44  18100.41\n23    深圳   NaN  24221.98  22490.06  19492.60  17502.86\n24    南宁   NaN   4026.91   4118.83   3703.33   3410.09\n25    海口   NaN   1510.51   1390.58   1257.67   1161.96\n27    成都   NaN  15342.77  13889.39  12170.23  10801.16\n28    贵阳   NaN   3798.45   3537.96   3157.70   2891.16\n29    昆明   NaN   5206.90   4857.64   4300.08   3968.01\n30    拉萨   NaN    540.78    479.25    424.95    376.73\n31    西安   NaN   8349.86   7469.85   6257.18   5801.20\n32    兰州   NaN   2732.94   2523.54   2264.23   2095.99\n33    西宁   NaN   1286.41   1284.91   1248.17   1131.62\n34    银川   NaN   1901.48   1803.26   1617.71   1493.86\n35  乌鲁木齐   NaN   3099.77   2743.82   2458.98   2631.64",
      "text/html": "<div>\n<style scoped>\n    .dataframe tbody tr th:only-of-type {\n        vertical-align: middle;\n    }\n\n    .dataframe tbody tr th {\n        vertical-align: top;\n    }\n\n    .dataframe thead th {\n        text-align: right;\n    }\n</style>\n<table border=\"1\" class=\"dataframe\">\n  <thead>\n    <tr style=\"text-align: right;\">\n      <th></th>\n      <th>area</th>\n      <th>2019</th>\n      <th>2018</th>\n      <th>2017</th>\n      <th>2016</th>\n      <th>2015</th>\n    </tr>\n  </thead>\n  <tbody>\n    <tr>\n      <th>2</th>\n      <td>石家庄</td>\n      <td>NaN</td>\n      <td>6082.62</td>\n      <td>6460.88</td>\n      <td>5927.73</td>\n      <td>5440.60</td>\n    </tr>\n    <tr>\n      <th>3</th>\n      <td>太原</td>\n      <td>NaN</td>\n      <td>3884.48</td>\n      <td>3382.18</td>\n      <td>2955.60</td>\n      <td>2735.34</td>\n    </tr>\n    <tr>\n      <th>4</th>\n      <td>呼和浩特</td>\n      <td>NaN</td>\n      <td>2903.50</td>\n      <td>2743.72</td>\n      <td>3173.59</td>\n      <td>3090.52</td>\n    </tr>\n    <tr>\n      <th>5</th>\n      <td>沈阳</td>\n      <td>NaN</td>\n      <td>6292.40</td>\n      <td>5864.97</td>\n      <td>5546.45</td>\n      <td>7272.31</td>\n    </tr>\n    <tr>\n      <th>6</th>\n      <td>大连</td>\n      <td>NaN</td>\n      <td>7668.48</td>\n      <td>7363.92</td>\n      <td>6810.20</td>\n      <td>7731.64</td>\n    </tr>\n    <tr>\n      <th>7</th>\n      <td>长春</td>\n      <td>NaN</td>\n      <td>7175.71</td>\n      <td>6530.03</td>\n      <td>5986.42</td>\n      <td>5530.03</td>\n    </tr>\n    <tr>\n      <th>8</th>\n      <td>哈尔滨</td>\n      <td>NaN</td>\n      <td>6300.48</td>\n      <td>6355.05</td>\n      <td>6101.61</td>\n      <td>5751.21</td>\n    </tr>\n    <tr>\n      <th>10</th>\n      <td>南京</td>\n      <td>NaN</td>\n      <td>12820.40</td>\n      <td>11715.10</td>\n      <td>10503.02</td>\n      <td>9720.77</td>\n    </tr>\n    <tr>\n      <th>11</th>\n      <td>杭州</td>\n      <td>NaN</td>\n      <td>13509.15</td>\n      <td>12603.36</td>\n      <td>11313.72</td>\n      <td>10050.21</td>\n    </tr>\n    <tr>\n      <th>12</th>\n      <td>宁波</td>\n      <td>NaN</td>\n      <td>10745.46</td>\n      <td>9842.10</td>\n      <td>8686.49</td>\n      <td>8003.61</td>\n    </tr>\n    <tr>\n      <th>13</th>\n      <td>合肥</td>\n      <td>NaN</td>\n      <td>7822.91</td>\n      <td>7213.45</td>\n      <td>6274.38</td>\n      <td>5660.27</td>\n    </tr>\n    <tr>\n      <th>14</th>\n      <td>福州</td>\n      <td>NaN</td>\n      <td>7856.81</td>\n      <td>7103.40</td>\n      <td>6197.64</td>\n      <td>5618.08</td>\n    </tr>\n    <tr>\n      <th>15</th>\n      <td>厦门</td>\n      <td>NaN</td>\n      <td>4791.41</td>\n      <td>4351.70</td>\n      <td>3784.27</td>\n      <td>3466.03</td>\n    </tr>\n    <tr>\n      <th>16</th>\n      <td>南昌</td>\n      <td>NaN</td>\n      <td>5274.67</td>\n      <td>5003.19</td>\n      <td>4354.99</td>\n      <td>4000.01</td>\n    </tr>\n    <tr>\n      <th>17</th>\n      <td>济南</td>\n      <td>NaN</td>\n      <td>7856.56</td>\n      <td>7201.96</td>\n      <td>6536.12</td>\n      <td>6100.23</td>\n    </tr>\n    <tr>\n      <th>18</th>\n      <td>青岛</td>\n      <td>NaN</td>\n      <td>12001.52</td>\n      <td>11037.28</td>\n      <td>10011.29</td>\n      <td>9300.07</td>\n    </tr>\n    <tr>\n      <th>19</th>\n      <td>郑州</td>\n      <td>NaN</td>\n      <td>10143.32</td>\n      <td>9130.20</td>\n      <td>8113.97</td>\n      <td>7311.52</td>\n    </tr>\n    <tr>\n      <th>20</th>\n      <td>武汉</td>\n      <td>NaN</td>\n      <td>14847.29</td>\n      <td>13410.34</td>\n      <td>11912.61</td>\n      <td>10905.60</td>\n    </tr>\n    <tr>\n      <th>21</th>\n      <td>长沙</td>\n      <td>NaN</td>\n      <td>11003.41</td>\n      <td>10535.51</td>\n      <td>9356.91</td>\n      <td>8510.13</td>\n    </tr>\n    <tr>\n      <th>22</th>\n      <td>广州</td>\n      <td>NaN</td>\n      <td>22859.35</td>\n      <td>21503.15</td>\n      <td>19547.44</td>\n      <td>18100.41</td>\n    </tr>\n    <tr>\n      <th>23</th>\n      <td>深圳</td>\n      <td>NaN</td>\n      <td>24221.98</td>\n      <td>22490.06</td>\n      <td>19492.60</td>\n      <td>17502.86</td>\n    </tr>\n    <tr>\n      <th>24</th>\n      <td>南宁</td>\n      <td>NaN</td>\n      <td>4026.91</td>\n      <td>4118.83</td>\n      <td>3703.33</td>\n      <td>3410.09</td>\n    </tr>\n    <tr>\n      <th>25</th>\n      <td>海口</td>\n      <td>NaN</td>\n      <td>1510.51</td>\n      <td>1390.58</td>\n      <td>1257.67</td>\n      <td>1161.96</td>\n    </tr>\n    <tr>\n      <th>27</th>\n      <td>成都</td>\n      <td>NaN</td>\n      <td>15342.77</td>\n      <td>13889.39</td>\n      <td>12170.23</td>\n      <td>10801.16</td>\n    </tr>\n    <tr>\n      <th>28</th>\n      <td>贵阳</td>\n      <td>NaN</td>\n      <td>3798.45</td>\n      <td>3537.96</td>\n      <td>3157.70</td>\n      <td>2891.16</td>\n    </tr>\n    <tr>\n      <th>29</th>\n      <td>昆明</td>\n      <td>NaN</td>\n      <td>5206.90</td>\n      <td>4857.64</td>\n      <td>4300.08</td>\n      <td>3968.01</td>\n    </tr>\n    <tr>\n      <th>30</th>\n      <td>拉萨</td>\n      <td>NaN</td>\n      <td>540.78</td>\n      <td>479.25</td>\n      <td>424.95</td>\n      <td>376.73</td>\n    </tr>\n    <tr>\n      <th>31</th>\n      <td>西安</td>\n      <td>NaN</td>\n      <td>8349.86</td>\n      <td>7469.85</td>\n      <td>6257.18</td>\n      <td>5801.20</td>\n    </tr>\n    <tr>\n      <th>32</th>\n      <td>兰州</td>\n      <td>NaN</td>\n      <td>2732.94</td>\n      <td>2523.54</td>\n      <td>2264.23</td>\n      <td>2095.99</td>\n    </tr>\n    <tr>\n      <th>33</th>\n      <td>西宁</td>\n      <td>NaN</td>\n      <td>1286.41</td>\n      <td>1284.91</td>\n      <td>1248.17</td>\n      <td>1131.62</td>\n    </tr>\n    <tr>\n      <th>34</th>\n      <td>银川</td>\n      <td>NaN</td>\n      <td>1901.48</td>\n      <td>1803.26</td>\n      <td>1617.71</td>\n      <td>1493.86</td>\n    </tr>\n    <tr>\n      <th>35</th>\n      <td>乌鲁木齐</td>\n      <td>NaN</td>\n      <td>3099.77</td>\n      <td>2743.82</td>\n      <td>2458.98</td>\n      <td>2631.64</td>\n    </tr>\n  </tbody>\n</table>\n</div>"
     },
     "metadata": {},
     "execution_count": 45
    }
   ],
   "source": [
    "area_eco_df[pd.isna(area_eco_df['2019'])]"
   ]
  },
  {
   "cell_type": "code",
   "execution_count": 61,
   "metadata": {},
   "outputs": [],
   "source": [
    "js = []\n",
    "for i, row in area_eco_df.iterrows():\n",
    "    objs = [\n",
    "        {\n",
    "            \"measurement\": 'economy',\n",
    "            \"tags\": {\n",
    "                'area': row['area']\n",
    "            },\n",
    "            \"time\": '{}-12-31'.format(year),\n",
    "            \"fields\": {\n",
    "                'gdp': 0.0 if pd.isna(row[year]) else row[year]\n",
    "            }\n",
    "        }\n",
    "        for year in ['2019', '2018', '2017', '2016', '2015']\n",
    "    ]\n",
    "    js += objs"
   ]
  },
  {
   "cell_type": "code",
   "execution_count": 62,
   "metadata": {},
   "outputs": [
    {
     "output_type": "execute_result",
     "data": {
      "text/plain": "{'measurement': 'economy',\n 'tags': {'area': '北京'},\n 'time': '2019-12-31',\n 'fields': {'gdp': 35371.28}}"
     },
     "metadata": {},
     "execution_count": 62
    }
   ],
   "source": [
    "js[0]"
   ]
  },
  {
   "cell_type": "code",
   "execution_count": 63,
   "metadata": {},
   "outputs": [
    {
     "output_type": "stream",
     "name": "stdout",
     "text": "{'measurement': 'economy', 'tags': {'area': '石家庄'}, 'time': '2019-12-31', 'fields': {'gdp': 0.0}}\n"
    }
   ],
   "source": [
    "for json in js:\n",
    "    if json['fields']['gdp'] == 0:\n",
    "        print(json)\n",
    "        break"
   ]
  },
  {
   "cell_type": "code",
   "execution_count": 64,
   "metadata": {},
   "outputs": [
    {
     "output_type": "execute_result",
     "data": {
      "text/plain": "315"
     },
     "metadata": {},
     "execution_count": 64
    }
   ],
   "source": [
    "len(js)"
   ]
  },
  {
   "cell_type": "code",
   "execution_count": 65,
   "metadata": {},
   "outputs": [],
   "source": [
    "from influxdb import InfluxDBClient"
   ]
  },
  {
   "cell_type": "code",
   "execution_count": 66,
   "metadata": {},
   "outputs": [],
   "source": [
    "client = InfluxDBClient('47.101.33.219', 8086, database='stock', username='influx', password='2020liufeng')"
   ]
  },
  {
   "cell_type": "code",
   "execution_count": 67,
   "metadata": {},
   "outputs": [
    {
     "output_type": "execute_result",
     "data": {
      "text/plain": "True"
     },
     "metadata": {},
     "execution_count": 67
    }
   ],
   "source": [
    "client.write_points(js)"
   ]
  },
  {
   "cell_type": "code",
   "execution_count": null,
   "metadata": {},
   "outputs": [],
   "source": []
  }
 ],
 "metadata": {
  "language_info": {
   "codemirror_mode": {
    "name": "ipython",
    "version": 3
   },
   "file_extension": ".py",
   "mimetype": "text/x-python",
   "name": "python",
   "nbconvert_exporter": "python",
   "pygments_lexer": "ipython3",
   "version": "3.7.0-final"
  },
  "orig_nbformat": 2,
  "kernelspec": {
   "name": "python37064bitvenvvenv9b985edbe97245bb8788e43a93e26b9f",
   "display_name": "Python 3.7.0 64-bit ('venv': venv)"
  }
 },
 "nbformat": 4,
 "nbformat_minor": 2
}