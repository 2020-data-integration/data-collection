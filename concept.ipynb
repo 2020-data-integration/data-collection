{
 "cells": [
  {
   "cell_type": "code",
   "execution_count": 1,
   "metadata": {},
   "outputs": [],
   "source": [
    "import tushare as ts\n",
    "import pandas as pd"
   ]
  },
  {
   "cell_type": "code",
   "execution_count": 2,
   "metadata": {},
   "outputs": [],
   "source": [
    "ts.set_token('53cd3b985c649c978160c6ec04bce24f4fbd2ebcb4673e8f2fba9a43')\n",
    "\n",
    "pro = ts.pro_api()"
   ]
  },
  {
   "cell_type": "code",
   "execution_count": 3,
   "metadata": {},
   "outputs": [],
   "source": [
    "concept = pro.concept()"
   ]
  },
  {
   "cell_type": "code",
   "execution_count": 4,
   "metadata": {},
   "outputs": [
    {
     "output_type": "execute_result",
     "data": {
      "text/plain": "359"
     },
     "metadata": {},
     "execution_count": 4
    }
   ],
   "source": [
    "len(concept)"
   ]
  },
  {
   "cell_type": "code",
   "execution_count": 5,
   "metadata": {},
   "outputs": [
    {
     "output_type": "execute_result",
     "data": {
      "text/plain": "  code   name src\n0  TS0   密集调研  ts\n1  TS1  南北船合并  ts\n2  TS2     5G  ts\n3  TS3     机场  ts\n4  TS4    高价股  ts",
      "text/html": "<div>\n<style scoped>\n    .dataframe tbody tr th:only-of-type {\n        vertical-align: middle;\n    }\n\n    .dataframe tbody tr th {\n        vertical-align: top;\n    }\n\n    .dataframe thead th {\n        text-align: right;\n    }\n</style>\n<table border=\"1\" class=\"dataframe\">\n  <thead>\n    <tr style=\"text-align: right;\">\n      <th></th>\n      <th>code</th>\n      <th>name</th>\n      <th>src</th>\n    </tr>\n  </thead>\n  <tbody>\n    <tr>\n      <th>0</th>\n      <td>TS0</td>\n      <td>密集调研</td>\n      <td>ts</td>\n    </tr>\n    <tr>\n      <th>1</th>\n      <td>TS1</td>\n      <td>南北船合并</td>\n      <td>ts</td>\n    </tr>\n    <tr>\n      <th>2</th>\n      <td>TS2</td>\n      <td>5G</td>\n      <td>ts</td>\n    </tr>\n    <tr>\n      <th>3</th>\n      <td>TS3</td>\n      <td>机场</td>\n      <td>ts</td>\n    </tr>\n    <tr>\n      <th>4</th>\n      <td>TS4</td>\n      <td>高价股</td>\n      <td>ts</td>\n    </tr>\n  </tbody>\n</table>\n</div>"
     },
     "metadata": {},
     "execution_count": 5
    }
   ],
   "source": [
    "concept.head()"
   ]
  },
  {
   "cell_type": "code",
   "execution_count": 6,
   "metadata": {},
   "outputs": [],
   "source": [
    "concept = concept.drop(columns=['src'])\n",
    "concept.columns = ['concept_code:ID(Concept)', 'concept_name:string']\n",
    "concept[':LABEL'] = 'Concept'"
   ]
  },
  {
   "cell_type": "code",
   "execution_count": 7,
   "metadata": {},
   "outputs": [
    {
     "output_type": "execute_result",
     "data": {
      "text/plain": "359"
     },
     "metadata": {},
     "execution_count": 7
    }
   ],
   "source": [
    "len(concept)"
   ]
  },
  {
   "cell_type": "code",
   "execution_count": 8,
   "metadata": {},
   "outputs": [
    {
     "output_type": "execute_result",
     "data": {
      "text/plain": "  concept_code:ID(Concept) concept_name:string   :LABEL\n0                      TS0                密集调研  Concept\n1                      TS1               南北船合并  Concept\n2                      TS2                  5G  Concept\n3                      TS3                  机场  Concept\n4                      TS4                 高价股  Concept",
      "text/html": "<div>\n<style scoped>\n    .dataframe tbody tr th:only-of-type {\n        vertical-align: middle;\n    }\n\n    .dataframe tbody tr th {\n        vertical-align: top;\n    }\n\n    .dataframe thead th {\n        text-align: right;\n    }\n</style>\n<table border=\"1\" class=\"dataframe\">\n  <thead>\n    <tr style=\"text-align: right;\">\n      <th></th>\n      <th>concept_code:ID(Concept)</th>\n      <th>concept_name:string</th>\n      <th>:LABEL</th>\n    </tr>\n  </thead>\n  <tbody>\n    <tr>\n      <th>0</th>\n      <td>TS0</td>\n      <td>密集调研</td>\n      <td>Concept</td>\n    </tr>\n    <tr>\n      <th>1</th>\n      <td>TS1</td>\n      <td>南北船合并</td>\n      <td>Concept</td>\n    </tr>\n    <tr>\n      <th>2</th>\n      <td>TS2</td>\n      <td>5G</td>\n      <td>Concept</td>\n    </tr>\n    <tr>\n      <th>3</th>\n      <td>TS3</td>\n      <td>机场</td>\n      <td>Concept</td>\n    </tr>\n    <tr>\n      <th>4</th>\n      <td>TS4</td>\n      <td>高价股</td>\n      <td>Concept</td>\n    </tr>\n  </tbody>\n</table>\n</div>"
     },
     "metadata": {},
     "execution_count": 8
    }
   ],
   "source": [
    "concept.head()"
   ]
  },
  {
   "cell_type": "code",
   "execution_count": 9,
   "metadata": {},
   "outputs": [
    {
     "output_type": "execute_result",
     "data": {
      "text/plain": "    id    ts_code\n0  TS0  000301.SZ\n1  TS0  000401.SZ\n2  TS0  000932.SZ\n3  TS0  002013.SZ\n4  TS0  002106.SZ",
      "text/html": "<div>\n<style scoped>\n    .dataframe tbody tr th:only-of-type {\n        vertical-align: middle;\n    }\n\n    .dataframe tbody tr th {\n        vertical-align: top;\n    }\n\n    .dataframe thead th {\n        text-align: right;\n    }\n</style>\n<table border=\"1\" class=\"dataframe\">\n  <thead>\n    <tr style=\"text-align: right;\">\n      <th></th>\n      <th>id</th>\n      <th>ts_code</th>\n    </tr>\n  </thead>\n  <tbody>\n    <tr>\n      <th>0</th>\n      <td>TS0</td>\n      <td>000301.SZ</td>\n    </tr>\n    <tr>\n      <th>1</th>\n      <td>TS0</td>\n      <td>000401.SZ</td>\n    </tr>\n    <tr>\n      <th>2</th>\n      <td>TS0</td>\n      <td>000932.SZ</td>\n    </tr>\n    <tr>\n      <th>3</th>\n      <td>TS0</td>\n      <td>002013.SZ</td>\n    </tr>\n    <tr>\n      <th>4</th>\n      <td>TS0</td>\n      <td>002106.SZ</td>\n    </tr>\n  </tbody>\n</table>\n</div>"
     },
     "metadata": {},
     "execution_count": 9
    }
   ],
   "source": [
    "pro.concept_detail(id = 'TS0', fields='id,ts_code').head()"
   ]
  },
  {
   "cell_type": "code",
   "execution_count": 11,
   "metadata": {},
   "outputs": [],
   "source": [
    "import time\n",
    "\n",
    "company_concept = []\n",
    "for i, row in concept.iterrows():\n",
    "    concept_code = row['concept_code:ID(Concept)']\n",
    "    concept2company = pro.concept_detail(id = concept_code, fields='id,ts_code')\n",
    "    company_concept.append(concept2company)\n",
    "    time.sleep(0.5)\n",
    "\n",
    "company_concept = pd.concat(company_concept)"
   ]
  },
  {
   "cell_type": "code",
   "execution_count": 12,
   "metadata": {},
   "outputs": [],
   "source": [
    "company_concept.columns = [':END_ID(Concept)', ':START_ID(Company)']\n",
    "company_concept[':TYPE'] = 'in_concept'"
   ]
  },
  {
   "cell_type": "code",
   "execution_count": 13,
   "metadata": {},
   "outputs": [],
   "source": [
    "companys = pro.stock_basic(exchange='', list_status='L', fields='ts_code')\n",
    "companys = set(companys['ts_code'])"
   ]
  },
  {
   "cell_type": "code",
   "execution_count": 14,
   "metadata": {},
   "outputs": [],
   "source": [
    "m = company_concept.apply(lambda x: x[':START_ID(Company)'] in companys, axis=1)"
   ]
  },
  {
   "cell_type": "code",
   "execution_count": 15,
   "metadata": {},
   "outputs": [],
   "source": [
    "company_concept = company_concept[m]"
   ]
  },
  {
   "cell_type": "code",
   "execution_count": 16,
   "metadata": {},
   "outputs": [
    {
     "output_type": "execute_result",
     "data": {
      "text/plain": "  :END_ID(Concept) :START_ID(Company)       :TYPE\n0              TS0          000301.SZ  in_concept\n1              TS0          000401.SZ  in_concept\n2              TS0          000932.SZ  in_concept\n3              TS0          002013.SZ  in_concept\n4              TS0          002106.SZ  in_concept",
      "text/html": "<div>\n<style scoped>\n    .dataframe tbody tr th:only-of-type {\n        vertical-align: middle;\n    }\n\n    .dataframe tbody tr th {\n        vertical-align: top;\n    }\n\n    .dataframe thead th {\n        text-align: right;\n    }\n</style>\n<table border=\"1\" class=\"dataframe\">\n  <thead>\n    <tr style=\"text-align: right;\">\n      <th></th>\n      <th>:END_ID(Concept)</th>\n      <th>:START_ID(Company)</th>\n      <th>:TYPE</th>\n    </tr>\n  </thead>\n  <tbody>\n    <tr>\n      <th>0</th>\n      <td>TS0</td>\n      <td>000301.SZ</td>\n      <td>in_concept</td>\n    </tr>\n    <tr>\n      <th>1</th>\n      <td>TS0</td>\n      <td>000401.SZ</td>\n      <td>in_concept</td>\n    </tr>\n    <tr>\n      <th>2</th>\n      <td>TS0</td>\n      <td>000932.SZ</td>\n      <td>in_concept</td>\n    </tr>\n    <tr>\n      <th>3</th>\n      <td>TS0</td>\n      <td>002013.SZ</td>\n      <td>in_concept</td>\n    </tr>\n    <tr>\n      <th>4</th>\n      <td>TS0</td>\n      <td>002106.SZ</td>\n      <td>in_concept</td>\n    </tr>\n  </tbody>\n</table>\n</div>"
     },
     "metadata": {},
     "execution_count": 16
    }
   ],
   "source": [
    "company_concept.head()"
   ]
  },
  {
   "cell_type": "code",
   "execution_count": 17,
   "metadata": {},
   "outputs": [
    {
     "output_type": "execute_result",
     "data": {
      "text/plain": "  concept_code:ID(Concept) concept_name:string   :LABEL\n0                      TS0                密集调研  Concept\n1                      TS1               南北船合并  Concept\n2                      TS2                  5G  Concept\n3                      TS3                  机场  Concept\n4                      TS4                 高价股  Concept",
      "text/html": "<div>\n<style scoped>\n    .dataframe tbody tr th:only-of-type {\n        vertical-align: middle;\n    }\n\n    .dataframe tbody tr th {\n        vertical-align: top;\n    }\n\n    .dataframe thead th {\n        text-align: right;\n    }\n</style>\n<table border=\"1\" class=\"dataframe\">\n  <thead>\n    <tr style=\"text-align: right;\">\n      <th></th>\n      <th>concept_code:ID(Concept)</th>\n      <th>concept_name:string</th>\n      <th>:LABEL</th>\n    </tr>\n  </thead>\n  <tbody>\n    <tr>\n      <th>0</th>\n      <td>TS0</td>\n      <td>密集调研</td>\n      <td>Concept</td>\n    </tr>\n    <tr>\n      <th>1</th>\n      <td>TS1</td>\n      <td>南北船合并</td>\n      <td>Concept</td>\n    </tr>\n    <tr>\n      <th>2</th>\n      <td>TS2</td>\n      <td>5G</td>\n      <td>Concept</td>\n    </tr>\n    <tr>\n      <th>3</th>\n      <td>TS3</td>\n      <td>机场</td>\n      <td>Concept</td>\n    </tr>\n    <tr>\n      <th>4</th>\n      <td>TS4</td>\n      <td>高价股</td>\n      <td>Concept</td>\n    </tr>\n  </tbody>\n</table>\n</div>"
     },
     "metadata": {},
     "execution_count": 17
    }
   ],
   "source": [
    "concept.head()"
   ]
  },
  {
   "cell_type": "code",
   "execution_count": 18,
   "metadata": {},
   "outputs": [],
   "source": [
    "concept.to_csv('import/concept.csv', index=False)\n",
    "company_concept.to_csv('import/company_concept.csv', index=False)"
   ]
  },
  {
   "cell_type": "code",
   "execution_count": null,
   "metadata": {},
   "outputs": [],
   "source": []
  }
 ],
 "metadata": {
  "language_info": {
   "codemirror_mode": {
    "name": "ipython",
    "version": 3
   },
   "file_extension": ".py",
   "mimetype": "text/x-python",
   "name": "python",
   "nbconvert_exporter": "python",
   "pygments_lexer": "ipython3",
   "version": "3.7.0-final"
  },
  "orig_nbformat": 2,
  "kernelspec": {
   "name": "python37064bitvenvvenv9b985edbe97245bb8788e43a93e26b9f",
   "display_name": "Python 3.7.0 64-bit ('venv': venv)"
  }
 },
 "nbformat": 4,
 "nbformat_minor": 2
}