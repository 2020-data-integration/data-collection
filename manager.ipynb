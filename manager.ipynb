{
 "cells": [
  {
   "cell_type": "code",
   "execution_count": 1,
   "metadata": {},
   "outputs": [],
   "source": [
    "import tushare as ts\n",
    "import pandas as pd\n",
    "import time"
   ]
  },
  {
   "cell_type": "code",
   "execution_count": 2,
   "metadata": {},
   "outputs": [],
   "source": [
    "ts.set_token('53cd3b985c649c978160c6ec04bce24f4fbd2ebcb4673e8f2fba9a43')\n",
    "\n",
    "pro = ts.pro_api()"
   ]
  },
  {
   "cell_type": "code",
   "execution_count": 3,
   "metadata": {},
   "outputs": [],
   "source": [
    "companys = pro.stock_basic(exchange='', list_status='L', fields='ts_code')"
   ]
  },
  {
   "cell_type": "code",
   "execution_count": 4,
   "metadata": {},
   "outputs": [
    {
     "output_type": "execute_result",
     "data": {
      "text/plain": "     ts_code\n0  000001.SZ\n1  000002.SZ\n2  000004.SZ\n3  000005.SZ\n4  000006.SZ",
      "text/html": "<div>\n<style scoped>\n    .dataframe tbody tr th:only-of-type {\n        vertical-align: middle;\n    }\n\n    .dataframe tbody tr th {\n        vertical-align: top;\n    }\n\n    .dataframe thead th {\n        text-align: right;\n    }\n</style>\n<table border=\"1\" class=\"dataframe\">\n  <thead>\n    <tr style=\"text-align: right;\">\n      <th></th>\n      <th>ts_code</th>\n    </tr>\n  </thead>\n  <tbody>\n    <tr>\n      <th>0</th>\n      <td>000001.SZ</td>\n    </tr>\n    <tr>\n      <th>1</th>\n      <td>000002.SZ</td>\n    </tr>\n    <tr>\n      <th>2</th>\n      <td>000004.SZ</td>\n    </tr>\n    <tr>\n      <th>3</th>\n      <td>000005.SZ</td>\n    </tr>\n    <tr>\n      <th>4</th>\n      <td>000006.SZ</td>\n    </tr>\n  </tbody>\n</table>\n</div>"
     },
     "metadata": {},
     "execution_count": 4
    }
   ],
   "source": [
    "companys.head()"
   ]
  },
  {
   "cell_type": "code",
   "execution_count": 5,
   "metadata": {},
   "outputs": [],
   "source": [
    "companys = list(companys['ts_code'])"
   ]
  },
  {
   "cell_type": "code",
   "execution_count": 6,
   "metadata": {},
   "outputs": [
    {
     "output_type": "execute_result",
     "data": {
      "text/plain": "3829"
     },
     "metadata": {},
     "execution_count": 6
    }
   ],
   "source": [
    "len(companys)"
   ]
  },
  {
   "cell_type": "code",
   "execution_count": 7,
   "metadata": {},
   "outputs": [],
   "source": [
    "managers = []\n",
    "i = 0\n",
    "while i < len(companys):\n",
    "    com_slice = companys[i:min(i+100, len(companys))]\n",
    "    com_str = ','.join(com_slice)\n",
    "    df = pro.stk_managers(ts_code=com_str)\n",
    "    managers.append(df)\n",
    "    i += 100\n",
    "    time.sleep(0.5)"
   ]
  },
  {
   "cell_type": "code",
   "execution_count": 8,
   "metadata": {},
   "outputs": [
    {
     "output_type": "execute_result",
     "data": {
      "text/plain": "39"
     },
     "metadata": {},
     "execution_count": 8
    }
   ],
   "source": [
    "len(managers)"
   ]
  },
  {
   "cell_type": "code",
   "execution_count": 68,
   "metadata": {},
   "outputs": [],
   "source": [
    "managers_df = pd.concat(managers)"
   ]
  },
  {
   "cell_type": "code",
   "execution_count": 69,
   "metadata": {},
   "outputs": [
    {
     "output_type": "execute_result",
     "data": {
      "text/plain": "     ts_code  ann_date name gender    lev title edu national birthday  \\\n0  000058.SZ  20190925  徐腊平      M  董事会成员    董事  博士       中国     1978   \n1  000058.SZ  20190925   张良      M  董事会成员    董事  硕士       中国     1971   \n2  000058.SZ  20190925  张宇杰      M     监事    监事  硕士       中国     1963   \n3  000058.SZ  20190925  高建柏      M  董事会成员    董事  硕士       中国     1964   \n4  000058.SZ  20190925  李立武      M  董事会成员    董事  本科       中国     1980   \n\n  begin_date end_date  \n0   20170721     None  \n1   20180329     None  \n2   20180329     None  \n3   20180913     None  \n4   20190423     None  ",
      "text/html": "<div>\n<style scoped>\n    .dataframe tbody tr th:only-of-type {\n        vertical-align: middle;\n    }\n\n    .dataframe tbody tr th {\n        vertical-align: top;\n    }\n\n    .dataframe thead th {\n        text-align: right;\n    }\n</style>\n<table border=\"1\" class=\"dataframe\">\n  <thead>\n    <tr style=\"text-align: right;\">\n      <th></th>\n      <th>ts_code</th>\n      <th>ann_date</th>\n      <th>name</th>\n      <th>gender</th>\n      <th>lev</th>\n      <th>title</th>\n      <th>edu</th>\n      <th>national</th>\n      <th>birthday</th>\n      <th>begin_date</th>\n      <th>end_date</th>\n    </tr>\n  </thead>\n  <tbody>\n    <tr>\n      <th>0</th>\n      <td>000058.SZ</td>\n      <td>20190925</td>\n      <td>徐腊平</td>\n      <td>M</td>\n      <td>董事会成员</td>\n      <td>董事</td>\n      <td>博士</td>\n      <td>中国</td>\n      <td>1978</td>\n      <td>20170721</td>\n      <td>None</td>\n    </tr>\n    <tr>\n      <th>1</th>\n      <td>000058.SZ</td>\n      <td>20190925</td>\n      <td>张良</td>\n      <td>M</td>\n      <td>董事会成员</td>\n      <td>董事</td>\n      <td>硕士</td>\n      <td>中国</td>\n      <td>1971</td>\n      <td>20180329</td>\n      <td>None</td>\n    </tr>\n    <tr>\n      <th>2</th>\n      <td>000058.SZ</td>\n      <td>20190925</td>\n      <td>张宇杰</td>\n      <td>M</td>\n      <td>监事</td>\n      <td>监事</td>\n      <td>硕士</td>\n      <td>中国</td>\n      <td>1963</td>\n      <td>20180329</td>\n      <td>None</td>\n    </tr>\n    <tr>\n      <th>3</th>\n      <td>000058.SZ</td>\n      <td>20190925</td>\n      <td>高建柏</td>\n      <td>M</td>\n      <td>董事会成员</td>\n      <td>董事</td>\n      <td>硕士</td>\n      <td>中国</td>\n      <td>1964</td>\n      <td>20180913</td>\n      <td>None</td>\n    </tr>\n    <tr>\n      <th>4</th>\n      <td>000058.SZ</td>\n      <td>20190925</td>\n      <td>李立武</td>\n      <td>M</td>\n      <td>董事会成员</td>\n      <td>董事</td>\n      <td>本科</td>\n      <td>中国</td>\n      <td>1980</td>\n      <td>20190423</td>\n      <td>None</td>\n    </tr>\n  </tbody>\n</table>\n</div>"
     },
     "metadata": {},
     "execution_count": 69
    }
   ],
   "source": [
    "managers_df.head()"
   ]
  },
  {
   "cell_type": "code",
   "execution_count": 70,
   "metadata": {},
   "outputs": [
    {
     "output_type": "execute_result",
     "data": {
      "text/plain": "150842"
     },
     "metadata": {},
     "execution_count": 70
    }
   ],
   "source": [
    "len(managers_df)"
   ]
  },
  {
   "cell_type": "code",
   "execution_count": 71,
   "metadata": {},
   "outputs": [],
   "source": [
    "def append_date(field: str):\n",
    "    def func(x):\n",
    "        f_str = x[field]\n",
    "        if f_str is None:\n",
    "            return None\n",
    "        if len(f_str) == 4:\n",
    "            return f_str + '0101'\n",
    "        elif len(f_str) == 6:\n",
    "            return f_str + '01'\n",
    "        elif len(f_str) == 8:\n",
    "            return f_str\n",
    "        else:\n",
    "            return None\n",
    "    return func"
   ]
  },
  {
   "cell_type": "code",
   "execution_count": 72,
   "metadata": {},
   "outputs": [],
   "source": [
    "managers_df['begin_date'] = managers_df.apply(append_date('begin_date'), axis=1)"
   ]
  },
  {
   "cell_type": "code",
   "execution_count": 73,
   "metadata": {},
   "outputs": [],
   "source": [
    "managers_df['end_date'] = managers_df.apply(append_date('end_date'), axis=1)"
   ]
  },
  {
   "cell_type": "code",
   "execution_count": 74,
   "metadata": {},
   "outputs": [],
   "source": [
    "managers_df['begin_date'] = pd.to_datetime(managers_df['begin_date'])"
   ]
  },
  {
   "cell_type": "code",
   "execution_count": 75,
   "metadata": {},
   "outputs": [],
   "source": [
    "managers_df['end_date'] = pd.to_datetime(managers_df['end_date'])"
   ]
  },
  {
   "cell_type": "code",
   "execution_count": 76,
   "metadata": {},
   "outputs": [
    {
     "output_type": "execute_result",
     "data": {
      "text/plain": "     ts_code  ann_date name gender    lev title edu national birthday  \\\n0  000058.SZ  20190925  徐腊平      M  董事会成员    董事  博士       中国     1978   \n1  000058.SZ  20190925   张良      M  董事会成员    董事  硕士       中国     1971   \n2  000058.SZ  20190925  张宇杰      M     监事    监事  硕士       中国     1963   \n3  000058.SZ  20190925  高建柏      M  董事会成员    董事  硕士       中国     1964   \n4  000058.SZ  20190925  李立武      M  董事会成员    董事  本科       中国     1980   \n\n  begin_date end_date  \n0 2017-07-21      NaT  \n1 2018-03-29      NaT  \n2 2018-03-29      NaT  \n3 2018-09-13      NaT  \n4 2019-04-23      NaT  ",
      "text/html": "<div>\n<style scoped>\n    .dataframe tbody tr th:only-of-type {\n        vertical-align: middle;\n    }\n\n    .dataframe tbody tr th {\n        vertical-align: top;\n    }\n\n    .dataframe thead th {\n        text-align: right;\n    }\n</style>\n<table border=\"1\" class=\"dataframe\">\n  <thead>\n    <tr style=\"text-align: right;\">\n      <th></th>\n      <th>ts_code</th>\n      <th>ann_date</th>\n      <th>name</th>\n      <th>gender</th>\n      <th>lev</th>\n      <th>title</th>\n      <th>edu</th>\n      <th>national</th>\n      <th>birthday</th>\n      <th>begin_date</th>\n      <th>end_date</th>\n    </tr>\n  </thead>\n  <tbody>\n    <tr>\n      <th>0</th>\n      <td>000058.SZ</td>\n      <td>20190925</td>\n      <td>徐腊平</td>\n      <td>M</td>\n      <td>董事会成员</td>\n      <td>董事</td>\n      <td>博士</td>\n      <td>中国</td>\n      <td>1978</td>\n      <td>2017-07-21</td>\n      <td>NaT</td>\n    </tr>\n    <tr>\n      <th>1</th>\n      <td>000058.SZ</td>\n      <td>20190925</td>\n      <td>张良</td>\n      <td>M</td>\n      <td>董事会成员</td>\n      <td>董事</td>\n      <td>硕士</td>\n      <td>中国</td>\n      <td>1971</td>\n      <td>2018-03-29</td>\n      <td>NaT</td>\n    </tr>\n    <tr>\n      <th>2</th>\n      <td>000058.SZ</td>\n      <td>20190925</td>\n      <td>张宇杰</td>\n      <td>M</td>\n      <td>监事</td>\n      <td>监事</td>\n      <td>硕士</td>\n      <td>中国</td>\n      <td>1963</td>\n      <td>2018-03-29</td>\n      <td>NaT</td>\n    </tr>\n    <tr>\n      <th>3</th>\n      <td>000058.SZ</td>\n      <td>20190925</td>\n      <td>高建柏</td>\n      <td>M</td>\n      <td>董事会成员</td>\n      <td>董事</td>\n      <td>硕士</td>\n      <td>中国</td>\n      <td>1964</td>\n      <td>2018-09-13</td>\n      <td>NaT</td>\n    </tr>\n    <tr>\n      <th>4</th>\n      <td>000058.SZ</td>\n      <td>20190925</td>\n      <td>李立武</td>\n      <td>M</td>\n      <td>董事会成员</td>\n      <td>董事</td>\n      <td>本科</td>\n      <td>中国</td>\n      <td>1980</td>\n      <td>2019-04-23</td>\n      <td>NaT</td>\n    </tr>\n  </tbody>\n</table>\n</div>"
     },
     "metadata": {},
     "execution_count": 76
    }
   ],
   "source": [
    "managers_df.head()"
   ]
  },
  {
   "cell_type": "code",
   "execution_count": 77,
   "metadata": {},
   "outputs": [],
   "source": [
    "only_man_df = managers_df[['name', 'gender', 'edu', 'birthday']]"
   ]
  },
  {
   "cell_type": "code",
   "execution_count": 78,
   "metadata": {},
   "outputs": [
    {
     "output_type": "execute_result",
     "data": {
      "text/plain": "150842"
     },
     "metadata": {},
     "execution_count": 78
    }
   ],
   "source": [
    "len(only_man_df)"
   ]
  },
  {
   "cell_type": "code",
   "execution_count": 79,
   "metadata": {},
   "outputs": [],
   "source": [
    "only_man_df = only_man_df.drop_duplicates()"
   ]
  },
  {
   "cell_type": "code",
   "execution_count": 80,
   "metadata": {},
   "outputs": [
    {
     "output_type": "execute_result",
     "data": {
      "text/plain": "59929"
     },
     "metadata": {},
     "execution_count": 80
    }
   ],
   "source": [
    "len(only_man_df)"
   ]
  },
  {
   "cell_type": "code",
   "execution_count": 81,
   "metadata": {},
   "outputs": [],
   "source": [
    "only_man_df = only_man_df.reset_index(drop=True)"
   ]
  },
  {
   "cell_type": "code",
   "execution_count": 82,
   "metadata": {},
   "outputs": [],
   "source": [
    "only_man_df['managerId'] = only_man_df.index"
   ]
  },
  {
   "cell_type": "code",
   "execution_count": 83,
   "metadata": {},
   "outputs": [
    {
     "output_type": "execute_result",
     "data": {
      "text/plain": "  name gender edu birthday  managerId\n0  徐腊平      M  博士     1978          0\n1   张良      M  硕士     1971          1\n2  张宇杰      M  硕士     1963          2\n3  高建柏      M  硕士     1964          3\n4  李立武      M  本科     1980          4",
      "text/html": "<div>\n<style scoped>\n    .dataframe tbody tr th:only-of-type {\n        vertical-align: middle;\n    }\n\n    .dataframe tbody tr th {\n        vertical-align: top;\n    }\n\n    .dataframe thead th {\n        text-align: right;\n    }\n</style>\n<table border=\"1\" class=\"dataframe\">\n  <thead>\n    <tr style=\"text-align: right;\">\n      <th></th>\n      <th>name</th>\n      <th>gender</th>\n      <th>edu</th>\n      <th>birthday</th>\n      <th>managerId</th>\n    </tr>\n  </thead>\n  <tbody>\n    <tr>\n      <th>0</th>\n      <td>徐腊平</td>\n      <td>M</td>\n      <td>博士</td>\n      <td>1978</td>\n      <td>0</td>\n    </tr>\n    <tr>\n      <th>1</th>\n      <td>张良</td>\n      <td>M</td>\n      <td>硕士</td>\n      <td>1971</td>\n      <td>1</td>\n    </tr>\n    <tr>\n      <th>2</th>\n      <td>张宇杰</td>\n      <td>M</td>\n      <td>硕士</td>\n      <td>1963</td>\n      <td>2</td>\n    </tr>\n    <tr>\n      <th>3</th>\n      <td>高建柏</td>\n      <td>M</td>\n      <td>硕士</td>\n      <td>1964</td>\n      <td>3</td>\n    </tr>\n    <tr>\n      <th>4</th>\n      <td>李立武</td>\n      <td>M</td>\n      <td>本科</td>\n      <td>1980</td>\n      <td>4</td>\n    </tr>\n  </tbody>\n</table>\n</div>"
     },
     "metadata": {},
     "execution_count": 83
    }
   ],
   "source": [
    "only_man_df.head()"
   ]
  },
  {
   "cell_type": "code",
   "execution_count": 84,
   "metadata": {},
   "outputs": [
    {
     "output_type": "execute_result",
     "data": {
      "text/plain": "          managerId\ncount  59929.000000\nmean   29964.000000\nstd    17300.156478\nmin        0.000000\n25%    14982.000000\n50%    29964.000000\n75%    44946.000000\nmax    59928.000000",
      "text/html": "<div>\n<style scoped>\n    .dataframe tbody tr th:only-of-type {\n        vertical-align: middle;\n    }\n\n    .dataframe tbody tr th {\n        vertical-align: top;\n    }\n\n    .dataframe thead th {\n        text-align: right;\n    }\n</style>\n<table border=\"1\" class=\"dataframe\">\n  <thead>\n    <tr style=\"text-align: right;\">\n      <th></th>\n      <th>managerId</th>\n    </tr>\n  </thead>\n  <tbody>\n    <tr>\n      <th>count</th>\n      <td>59929.000000</td>\n    </tr>\n    <tr>\n      <th>mean</th>\n      <td>29964.000000</td>\n    </tr>\n    <tr>\n      <th>std</th>\n      <td>17300.156478</td>\n    </tr>\n    <tr>\n      <th>min</th>\n      <td>0.000000</td>\n    </tr>\n    <tr>\n      <th>25%</th>\n      <td>14982.000000</td>\n    </tr>\n    <tr>\n      <th>50%</th>\n      <td>29964.000000</td>\n    </tr>\n    <tr>\n      <th>75%</th>\n      <td>44946.000000</td>\n    </tr>\n    <tr>\n      <th>max</th>\n      <td>59928.000000</td>\n    </tr>\n  </tbody>\n</table>\n</div>"
     },
     "metadata": {},
     "execution_count": 84
    }
   ],
   "source": [
    "only_man_df.describe()"
   ]
  },
  {
   "cell_type": "code",
   "execution_count": 85,
   "metadata": {},
   "outputs": [],
   "source": [
    "man2code = {\n",
    "    (row['name'], row['gender'], row['edu'], row['birthday']): row['managerId']\n",
    "    for i, row in only_man_df.iterrows()\n",
    "}"
   ]
  },
  {
   "cell_type": "code",
   "execution_count": 86,
   "metadata": {},
   "outputs": [],
   "source": [
    "def build_relation(row):\n",
    "    code = man2code[row['name'], row['gender'], row['edu'], row['birthday']]\n",
    "    return [row['ts_code'], code, row['title'], row['begin_date'], row['end_date']]"
   ]
  },
  {
   "cell_type": "code",
   "execution_count": 87,
   "metadata": {},
   "outputs": [],
   "source": [
    "relation_list = managers_df.apply(build_relation, axis=1)"
   ]
  },
  {
   "cell_type": "code",
   "execution_count": 88,
   "metadata": {},
   "outputs": [],
   "source": [
    "relation_list = [x for x in relation_list]"
   ]
  },
  {
   "cell_type": "code",
   "execution_count": 89,
   "metadata": {},
   "outputs": [],
   "source": [
    "relation_df = pd.DataFrame(relation_list, columns=[':END_ID(Company)', ':START_ID(Manager)', 'title:string', 'beginDate:date', 'endDate:date'])"
   ]
  },
  {
   "cell_type": "code",
   "execution_count": 90,
   "metadata": {},
   "outputs": [],
   "source": [
    "only_man_df.columns = ['name:string', 'gender:string', 'edu:string', 'birthday:long', 'managerId:ID(Manager)']"
   ]
  },
  {
   "cell_type": "code",
   "execution_count": 91,
   "metadata": {},
   "outputs": [],
   "source": [
    "only_man_df[':LABEL'] = 'Manager'\n",
    "relation_df[':TYPE'] = 'work_in'"
   ]
  },
  {
   "cell_type": "code",
   "execution_count": 92,
   "metadata": {},
   "outputs": [
    {
     "output_type": "execute_result",
     "data": {
      "text/plain": "  name:string gender:string edu:string birthday:long  managerId:ID(Manager)  \\\n0         徐腊平             M         博士          1978                      0   \n1          张良             M         硕士          1971                      1   \n2         张宇杰             M         硕士          1963                      2   \n3         高建柏             M         硕士          1964                      3   \n4         李立武             M         本科          1980                      4   \n\n    :LABEL  \n0  Manager  \n1  Manager  \n2  Manager  \n3  Manager  \n4  Manager  ",
      "text/html": "<div>\n<style scoped>\n    .dataframe tbody tr th:only-of-type {\n        vertical-align: middle;\n    }\n\n    .dataframe tbody tr th {\n        vertical-align: top;\n    }\n\n    .dataframe thead th {\n        text-align: right;\n    }\n</style>\n<table border=\"1\" class=\"dataframe\">\n  <thead>\n    <tr style=\"text-align: right;\">\n      <th></th>\n      <th>name:string</th>\n      <th>gender:string</th>\n      <th>edu:string</th>\n      <th>birthday:long</th>\n      <th>managerId:ID(Manager)</th>\n      <th>:LABEL</th>\n    </tr>\n  </thead>\n  <tbody>\n    <tr>\n      <th>0</th>\n      <td>徐腊平</td>\n      <td>M</td>\n      <td>博士</td>\n      <td>1978</td>\n      <td>0</td>\n      <td>Manager</td>\n    </tr>\n    <tr>\n      <th>1</th>\n      <td>张良</td>\n      <td>M</td>\n      <td>硕士</td>\n      <td>1971</td>\n      <td>1</td>\n      <td>Manager</td>\n    </tr>\n    <tr>\n      <th>2</th>\n      <td>张宇杰</td>\n      <td>M</td>\n      <td>硕士</td>\n      <td>1963</td>\n      <td>2</td>\n      <td>Manager</td>\n    </tr>\n    <tr>\n      <th>3</th>\n      <td>高建柏</td>\n      <td>M</td>\n      <td>硕士</td>\n      <td>1964</td>\n      <td>3</td>\n      <td>Manager</td>\n    </tr>\n    <tr>\n      <th>4</th>\n      <td>李立武</td>\n      <td>M</td>\n      <td>本科</td>\n      <td>1980</td>\n      <td>4</td>\n      <td>Manager</td>\n    </tr>\n  </tbody>\n</table>\n</div>"
     },
     "metadata": {},
     "execution_count": 92
    }
   ],
   "source": [
    "only_man_df.head()"
   ]
  },
  {
   "cell_type": "code",
   "execution_count": 93,
   "metadata": {},
   "outputs": [
    {
     "output_type": "execute_result",
     "data": {
      "text/plain": "  :END_ID(Company)  :START_ID(Manager) title:string beginDate:date  \\\n0        000058.SZ                   0           董事     2017-07-21   \n1        000058.SZ                   1           董事     2018-03-29   \n2        000058.SZ                   2           监事     2018-03-29   \n3        000058.SZ                   3           董事     2018-09-13   \n4        000058.SZ                   4           董事     2019-04-23   \n\n  endDate:date    :TYPE  \n0          NaT  work_in  \n1          NaT  work_in  \n2          NaT  work_in  \n3          NaT  work_in  \n4          NaT  work_in  ",
      "text/html": "<div>\n<style scoped>\n    .dataframe tbody tr th:only-of-type {\n        vertical-align: middle;\n    }\n\n    .dataframe tbody tr th {\n        vertical-align: top;\n    }\n\n    .dataframe thead th {\n        text-align: right;\n    }\n</style>\n<table border=\"1\" class=\"dataframe\">\n  <thead>\n    <tr style=\"text-align: right;\">\n      <th></th>\n      <th>:END_ID(Company)</th>\n      <th>:START_ID(Manager)</th>\n      <th>title:string</th>\n      <th>beginDate:date</th>\n      <th>endDate:date</th>\n      <th>:TYPE</th>\n    </tr>\n  </thead>\n  <tbody>\n    <tr>\n      <th>0</th>\n      <td>000058.SZ</td>\n      <td>0</td>\n      <td>董事</td>\n      <td>2017-07-21</td>\n      <td>NaT</td>\n      <td>work_in</td>\n    </tr>\n    <tr>\n      <th>1</th>\n      <td>000058.SZ</td>\n      <td>1</td>\n      <td>董事</td>\n      <td>2018-03-29</td>\n      <td>NaT</td>\n      <td>work_in</td>\n    </tr>\n    <tr>\n      <th>2</th>\n      <td>000058.SZ</td>\n      <td>2</td>\n      <td>监事</td>\n      <td>2018-03-29</td>\n      <td>NaT</td>\n      <td>work_in</td>\n    </tr>\n    <tr>\n      <th>3</th>\n      <td>000058.SZ</td>\n      <td>3</td>\n      <td>董事</td>\n      <td>2018-09-13</td>\n      <td>NaT</td>\n      <td>work_in</td>\n    </tr>\n    <tr>\n      <th>4</th>\n      <td>000058.SZ</td>\n      <td>4</td>\n      <td>董事</td>\n      <td>2019-04-23</td>\n      <td>NaT</td>\n      <td>work_in</td>\n    </tr>\n  </tbody>\n</table>\n</div>"
     },
     "metadata": {},
     "execution_count": 93
    }
   ],
   "source": [
    "relation_df.head()"
   ]
  },
  {
   "cell_type": "code",
   "execution_count": 94,
   "metadata": {},
   "outputs": [],
   "source": [
    "only_man_df.to_csv('import/manager.csv', index=False)\n",
    "relation_df.to_csv('import/manager_company.csv', index=False)"
   ]
  },
  {
   "cell_type": "code",
   "execution_count": null,
   "metadata": {},
   "outputs": [],
   "source": []
  }
 ],
 "metadata": {
  "language_info": {
   "codemirror_mode": {
    "name": "ipython",
    "version": 3
   },
   "file_extension": ".py",
   "mimetype": "text/x-python",
   "name": "python",
   "nbconvert_exporter": "python",
   "pygments_lexer": "ipython3",
   "version": "3.7.0-final"
  },
  "orig_nbformat": 2,
  "kernelspec": {
   "name": "python37064bitvenvvenv9b985edbe97245bb8788e43a93e26b9f",
   "display_name": "Python 3.7.0 64-bit ('venv': venv)"
  }
 },
 "nbformat": 4,
 "nbformat_minor": 2
}