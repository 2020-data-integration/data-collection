{
 "cells": [
  {
   "cell_type": "code",
   "execution_count": 1,
   "metadata": {},
   "outputs": [],
   "source": [
    "import tushare as ts\n",
    "import pandas as pd\n",
    "from influxdb import InfluxDBClient\n",
    "import datetime\n",
    "from tqdm import tqdm\n",
    "import time"
   ]
  },
  {
   "cell_type": "code",
   "execution_count": 2,
   "metadata": {},
   "outputs": [],
   "source": [
    "ts.set_token('53cd3b985c649c978160c6ec04bce24f4fbd2ebcb4673e8f2fba9a43')\n",
    "pro = ts.pro_api()"
   ]
  },
  {
   "cell_type": "code",
   "execution_count": 4,
   "metadata": {},
   "outputs": [
    {
     "output_type": "stream",
     "name": "stderr",
     "text": "100%|██████████| 1973/1973 [1:36:16<00:00,  2.93s/it]\n"
    }
   ],
   "source": [
    "data = []\n",
    "for date in tqdm(pd.date_range(start='2015-01-01', end='2020-05-26')):\n",
    "    date_str = date.strftime(\"%Y%m%d\")\n",
    "    df = pro.anns(ann_date=date_str)\n",
    "    data.append(df)\n",
    "    time.sleep(2)"
   ]
  },
  {
   "cell_type": "code",
   "execution_count": 17,
   "metadata": {},
   "outputs": [],
   "source": [
    "ann_df = pd.concat(data)"
   ]
  },
  {
   "cell_type": "code",
   "execution_count": 18,
   "metadata": {},
   "outputs": [],
   "source": [
    "ann_df['ann_date'] = pd.to_datetime(ann_df['ann_date'])\n",
    "ann_df['title'] = ann_df['title'].astype(str)\n",
    "ann_df['content'] = ann_df['content'].astype(str)"
   ]
  },
  {
   "cell_type": "code",
   "execution_count": 19,
   "metadata": {},
   "outputs": [
    {
     "output_type": "execute_result",
     "data": {
      "text/plain": "79648"
     },
     "metadata": {},
     "execution_count": 19
    }
   ],
   "source": [
    "len(ann_df)"
   ]
  },
  {
   "cell_type": "code",
   "execution_count": 20,
   "metadata": {},
   "outputs": [
    {
     "output_type": "execute_result",
     "data": {
      "text/plain": "     ts_code   ann_date                  title  \\\n0  300081.SZ 2015-01-01      关于重大资产重组进展暨延期复牌公告   \n1  600789.SH 2015-01-01           2014年度业绩预亏公告   \n2  300068.SZ 2015-01-01   关于持股5%以上股东减持股份的提示性公告   \n3  300109.SZ 2015-01-01  关于召开2015年第一次临时股东大会的通知   \n4  600458.SH 2015-01-01   第六届监事会第十八次（临时）会议决议公告   \n\n                                             content  \n0  证券代码：300081            证券简称：恒信移动              ...  \n1  证券代码:600789           股票简称:鲁抗医药             公告...  \n2   \\n证券代码：300068                证券简称：南都电源       ...  \n3  证券代码：300109            证券简称：新开源       公告编号：201...  \n4   \\n股票代码：600458          股票简称：时代新材           编号...  ",
      "text/html": "<div>\n<style scoped>\n    .dataframe tbody tr th:only-of-type {\n        vertical-align: middle;\n    }\n\n    .dataframe tbody tr th {\n        vertical-align: top;\n    }\n\n    .dataframe thead th {\n        text-align: right;\n    }\n</style>\n<table border=\"1\" class=\"dataframe\">\n  <thead>\n    <tr style=\"text-align: right;\">\n      <th></th>\n      <th>ts_code</th>\n      <th>ann_date</th>\n      <th>title</th>\n      <th>content</th>\n    </tr>\n  </thead>\n  <tbody>\n    <tr>\n      <th>0</th>\n      <td>300081.SZ</td>\n      <td>2015-01-01</td>\n      <td>关于重大资产重组进展暨延期复牌公告</td>\n      <td>证券代码：300081            证券简称：恒信移动              ...</td>\n    </tr>\n    <tr>\n      <th>1</th>\n      <td>600789.SH</td>\n      <td>2015-01-01</td>\n      <td>2014年度业绩预亏公告</td>\n      <td>证券代码:600789           股票简称:鲁抗医药             公告...</td>\n    </tr>\n    <tr>\n      <th>2</th>\n      <td>300068.SZ</td>\n      <td>2015-01-01</td>\n      <td>关于持股5%以上股东减持股份的提示性公告</td>\n      <td>\\n证券代码：300068                证券简称：南都电源       ...</td>\n    </tr>\n    <tr>\n      <th>3</th>\n      <td>300109.SZ</td>\n      <td>2015-01-01</td>\n      <td>关于召开2015年第一次临时股东大会的通知</td>\n      <td>证券代码：300109            证券简称：新开源       公告编号：201...</td>\n    </tr>\n    <tr>\n      <th>4</th>\n      <td>600458.SH</td>\n      <td>2015-01-01</td>\n      <td>第六届监事会第十八次（临时）会议决议公告</td>\n      <td>\\n股票代码：600458          股票简称：时代新材           编号...</td>\n    </tr>\n  </tbody>\n</table>\n</div>"
     },
     "metadata": {},
     "execution_count": 20
    }
   ],
   "source": [
    "ann_df.head()"
   ]
  },
  {
   "cell_type": "code",
   "execution_count": 40,
   "metadata": {},
   "outputs": [],
   "source": [
    "client = InfluxDBClient('localhost', 8086, database='stock')"
   ]
  },
  {
   "cell_type": "code",
   "execution_count": 41,
   "metadata": {},
   "outputs": [],
   "source": [
    "js = []\n",
    "for i, row in ann_df.iterrows():\n",
    "    objs = {\n",
    "        \"measurement\": 'announcement',\n",
    "        \"tags\": {\n",
    "            'companyId': row['ts_code']\n",
    "        },\n",
    "        \"time\": row['ann_date'],\n",
    "        \"fields\": {\n",
    "            'title': row['title'],\n",
    "            'content': row['content']\n",
    "        }\n",
    "    }\n",
    "    js.append(objs)"
   ]
  },
  {
   "cell_type": "code",
   "execution_count": 42,
   "metadata": {},
   "outputs": [
    {
     "output_type": "execute_result",
     "data": {
      "text/plain": "{'measurement': 'announcement',\n 'tags': {'companyId': '300081.SZ'},\n 'time': Timestamp('2015-01-01 00:00:00'),\n 'fields': {'title': '关于重大资产重组进展暨延期复牌公告',\n  'content': '证券代码：300081            证券简称：恒信移动              公告编号：2014-053 \\n \\n恒信移动商务股份有限公司 \\n关于重大资产重组进展暨延期复牌公告 \\n本公司及其董事会全体成员保证公告内容真实、准确和完整，公告不存在虚\\n假记载、误导性陈述或重大遗漏 \\n \\n     恒信移动商务股份有限公司（以下简称“公司”）于2014年12月5日披露了《重\\n大事项停牌公告》，公司股票于2014年12月5日开市起停牌。2014年12月19日，\\n公司披露了《重大资产重组停牌公告》，公司正在筹划重大资产重组事项。2014\\n年12月25日，公司召开第五届董事会第八次会议，审议通过了《关于同意公司筹\\n划重大资产重组事项的议案》，同意公司筹划重大资产重组事项，并于当天披露\\n了《重大资产重组进展公告》。 \\n本公司原预计于2015年1月5日前按照《公开发行证券的公司信息披露内容与\\n格式准则第26 号－上市公司重大资产重组申请文件》的要求披露重大资产重组\\n预案，自停牌以来，公司、重组有关各方及聘请的中介机构积极推动各项工作，\\n目前正在抓紧对涉及重组事项的相关资产进行尽职调查、审计、评估等。截至本\\n公告日，公司本次重大资产重组事项的相关准备工作尚未全部完成，重组方案的\\n相关内容仍需要进一步商讨、论证和完善。为保护广大投资者权益，公司已向深\\n交所申请延长股票停牌时间，公司股票将于2015 年1月5日起继续停牌，预计于\\n2015年2月5日前复牌并披露本次重大资产重组预案或报告书。 \\n    逾期未能披露发行股份购买资产预案或报告书的，公司将根据重组推进情况\\n确定是否向交易所申请延期复牌。公司未提出延期复牌申请或延期复牌申请未获\\n同意的，公司股票将于2015 年2月5日恢复交易，并自公司股票复牌之日起六个\\n月内不再筹划重大资产重组事项。如公司在停牌期限内终止筹划重大资产重组\\n的，公司将及时披露终止筹划重大资产重组公告，并承诺自复牌之日起六个月内\\n不再筹划重大资产重组事项，公司股票将在公司披露终止筹划重大资产重组相关\\n公告后恢复交易。 \\n公司将与有关各方一起加快推进本次重大资产重组的相关工作。继续停牌期间，公司将根据法律法规及监管部门的有关规定，及时地履行信息披露义务，每\\n周发布一次重大资产重组事项进展情况公告。 \\n公司筹划的重大资产重组事项仍存在不确定性，敬请广大投资者注意风险。 \\n特此公告。 \\n      \\n \\n 恒信移动商务股份有限公司董事会 \\n                                                  2014年12月31日 \\n '}}"
     },
     "metadata": {},
     "execution_count": 42
    }
   ],
   "source": [
    "js[0]"
   ]
  },
  {
   "cell_type": "code",
   "execution_count": 44,
   "metadata": {},
   "outputs": [
    {
     "output_type": "execute_result",
     "data": {
      "text/plain": "79648"
     },
     "metadata": {},
     "execution_count": 44
    }
   ],
   "source": [
    "len(js)"
   ]
  },
  {
   "cell_type": "code",
   "execution_count": 46,
   "metadata": {},
   "outputs": [
    {
     "output_type": "execute_result",
     "data": {
      "text/plain": "True"
     },
     "metadata": {},
     "execution_count": 46
    }
   ],
   "source": [
    "client.write_points(js, batch_size=100)"
   ]
  },
  {
   "cell_type": "code",
   "execution_count": null,
   "metadata": {},
   "outputs": [],
   "source": []
  }
 ],
 "metadata": {
  "language_info": {
   "codemirror_mode": {
    "name": "ipython",
    "version": 3
   },
   "file_extension": ".py",
   "mimetype": "text/x-python",
   "name": "python",
   "nbconvert_exporter": "python",
   "pygments_lexer": "ipython3",
   "version": "3.7.0-final"
  },
  "orig_nbformat": 2,
  "kernelspec": {
   "name": "python37064bitvenvvenv9b985edbe97245bb8788e43a93e26b9f",
   "display_name": "Python 3.7.0 64-bit ('venv': venv)"
  }
 },
 "nbformat": 4,
 "nbformat_minor": 2
}