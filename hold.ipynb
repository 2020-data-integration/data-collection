{
 "cells": [
  {
   "cell_type": "code",
   "execution_count": 37,
   "metadata": {},
   "outputs": [],
   "source": [
    "import tushare as ts\n",
    "import pandas as pd\n",
    "import time\n",
    "import datetime\n",
    "from tqdm import tqdm\n",
    "import re\n",
    "import pprint"
   ]
  },
  {
   "cell_type": "code",
   "execution_count": 2,
   "metadata": {},
   "outputs": [],
   "source": [
    "ts.set_token('53cd3b985c649c978160c6ec04bce24f4fbd2ebcb4673e8f2fba9a43')\n",
    "\n",
    "pro = ts.pro_api()"
   ]
  },
  {
   "cell_type": "code",
   "execution_count": 3,
   "metadata": {},
   "outputs": [],
   "source": [
    "companys = pro.stock_basic(exchange='', list_status='L', fields='ts_code')\n",
    "com_list = list(companys['ts_code'])"
   ]
  },
  {
   "cell_type": "code",
   "execution_count": 13,
   "metadata": {},
   "outputs": [],
   "source": [
    "today = datetime.date.today()\n",
    "end = today.strftime('%Y%m%d')"
   ]
  },
  {
   "cell_type": "code",
   "execution_count": 14,
   "metadata": {},
   "outputs": [
    {
     "output_type": "stream",
     "name": "stderr",
     "text": "100%|██████████| 3829/3829 [46:22<00:00,  1.38it/s]\n"
    }
   ],
   "source": [
    "holder_list = []\n",
    "for code in tqdm(com_list):\n",
    "    time_df = pro.top10_holders(ts_code=code, end_date=end)\n",
    "    ann_date = time_df.iloc[0, 1]\n",
    "    df = pro.top10_holders(ts_code=code, ann_date=ann_date)\n",
    "    holder_list.append(df)\n",
    "    time.sleep(0.5)"
   ]
  },
  {
   "cell_type": "code",
   "execution_count": 198,
   "metadata": {},
   "outputs": [],
   "source": [
    "relation_df = pd.concat(holder_list)"
   ]
  },
  {
   "cell_type": "code",
   "execution_count": 199,
   "metadata": {},
   "outputs": [
    {
     "output_type": "execute_result",
     "data": {
      "text/plain": "53316"
     },
     "metadata": {},
     "execution_count": 199
    }
   ],
   "source": [
    "len(relation_df)"
   ]
  },
  {
   "cell_type": "code",
   "execution_count": 200,
   "metadata": {},
   "outputs": [
    {
     "output_type": "execute_result",
     "data": {
      "text/plain": "     ts_code  ann_date  end_date                 holder_name   hold_amount  \\\n0  000001.SZ  20200421  20200331  中国平安保险(集团)股份有限公司-集团本级-自有资金  9.618540e+09   \n1  000001.SZ  20200421  20200331             香港中央结算有限公司(陆股通)  1.669875e+09   \n2  000001.SZ  20200421  20200331         中国平安人寿保险股份有限公司-自有资金  1.186100e+09   \n3  000001.SZ  20200421  20200331    中国平安人寿保险股份有限公司-传统-普通保险产品  4.404787e+08   \n4  000001.SZ  20200421  20200331                中国证券金融股份有限公司  4.292327e+08   \n\n   hold_ratio  \n0       49.56  \n1        8.60  \n2        6.11  \n3        2.27  \n4        2.21  ",
      "text/html": "<div>\n<style scoped>\n    .dataframe tbody tr th:only-of-type {\n        vertical-align: middle;\n    }\n\n    .dataframe tbody tr th {\n        vertical-align: top;\n    }\n\n    .dataframe thead th {\n        text-align: right;\n    }\n</style>\n<table border=\"1\" class=\"dataframe\">\n  <thead>\n    <tr style=\"text-align: right;\">\n      <th></th>\n      <th>ts_code</th>\n      <th>ann_date</th>\n      <th>end_date</th>\n      <th>holder_name</th>\n      <th>hold_amount</th>\n      <th>hold_ratio</th>\n    </tr>\n  </thead>\n  <tbody>\n    <tr>\n      <th>0</th>\n      <td>000001.SZ</td>\n      <td>20200421</td>\n      <td>20200331</td>\n      <td>中国平安保险(集团)股份有限公司-集团本级-自有资金</td>\n      <td>9.618540e+09</td>\n      <td>49.56</td>\n    </tr>\n    <tr>\n      <th>1</th>\n      <td>000001.SZ</td>\n      <td>20200421</td>\n      <td>20200331</td>\n      <td>香港中央结算有限公司(陆股通)</td>\n      <td>1.669875e+09</td>\n      <td>8.60</td>\n    </tr>\n    <tr>\n      <th>2</th>\n      <td>000001.SZ</td>\n      <td>20200421</td>\n      <td>20200331</td>\n      <td>中国平安人寿保险股份有限公司-自有资金</td>\n      <td>1.186100e+09</td>\n      <td>6.11</td>\n    </tr>\n    <tr>\n      <th>3</th>\n      <td>000001.SZ</td>\n      <td>20200421</td>\n      <td>20200331</td>\n      <td>中国平安人寿保险股份有限公司-传统-普通保险产品</td>\n      <td>4.404787e+08</td>\n      <td>2.27</td>\n    </tr>\n    <tr>\n      <th>4</th>\n      <td>000001.SZ</td>\n      <td>20200421</td>\n      <td>20200331</td>\n      <td>中国证券金融股份有限公司</td>\n      <td>4.292327e+08</td>\n      <td>2.21</td>\n    </tr>\n  </tbody>\n</table>\n</div>"
     },
     "metadata": {},
     "execution_count": 200
    }
   ],
   "source": [
    "relation_df.head()"
   ]
  },
  {
   "cell_type": "code",
   "execution_count": 201,
   "metadata": {},
   "outputs": [
    {
     "output_type": "execute_result",
     "data": {
      "text/plain": "      ts_code  ann_date  end_date     holder_name  hold_amount  hold_ratio\n10  300428.SZ  20200416  20200331  天津中冀万泰投资管理有限公司    2832861.0        0.49\n26  300428.SZ  20200416  20191231  天津中冀万泰投资管理有限公司    2832861.0        0.49",
      "text/html": "<div>\n<style scoped>\n    .dataframe tbody tr th:only-of-type {\n        vertical-align: middle;\n    }\n\n    .dataframe tbody tr th {\n        vertical-align: top;\n    }\n\n    .dataframe thead th {\n        text-align: right;\n    }\n</style>\n<table border=\"1\" class=\"dataframe\">\n  <thead>\n    <tr style=\"text-align: right;\">\n      <th></th>\n      <th>ts_code</th>\n      <th>ann_date</th>\n      <th>end_date</th>\n      <th>holder_name</th>\n      <th>hold_amount</th>\n      <th>hold_ratio</th>\n    </tr>\n  </thead>\n  <tbody>\n    <tr>\n      <th>10</th>\n      <td>300428.SZ</td>\n      <td>20200416</td>\n      <td>20200331</td>\n      <td>天津中冀万泰投资管理有限公司</td>\n      <td>2832861.0</td>\n      <td>0.49</td>\n    </tr>\n    <tr>\n      <th>26</th>\n      <td>300428.SZ</td>\n      <td>20200416</td>\n      <td>20191231</td>\n      <td>天津中冀万泰投资管理有限公司</td>\n      <td>2832861.0</td>\n      <td>0.49</td>\n    </tr>\n  </tbody>\n</table>\n</div>"
     },
     "metadata": {},
     "execution_count": 201
    }
   ],
   "source": [
    "relation_df[relation_df['holder_name'] == '天津中冀万泰投资管理有限公司']"
   ]
  },
  {
   "cell_type": "code",
   "execution_count": 202,
   "metadata": {},
   "outputs": [],
   "source": [
    "relation_df = relation_df.drop_duplicates(['ts_code', 'ann_date', 'holder_name'])"
   ]
  },
  {
   "cell_type": "code",
   "execution_count": 203,
   "metadata": {},
   "outputs": [
    {
     "output_type": "execute_result",
     "data": {
      "text/plain": "39534"
     },
     "metadata": {},
     "execution_count": 203
    }
   ],
   "source": [
    "len(relation_df)"
   ]
  },
  {
   "cell_type": "code",
   "execution_count": 204,
   "metadata": {},
   "outputs": [],
   "source": [
    "def filter_func(x: pd.Series) -> str:\n",
    "    s = x['holder_name']\n",
    "    s = s.split('-')[0]  # 去掉横杠\n",
    "    s = s.split('一')[0]\n",
    "    s = re.sub('\\\\(.*\\\\)', '', s)  # 去掉空格和内容\n",
    "    s = re.sub('股份|责任|有限|公司|集团|省|市', '', s)\n",
    "    return s"
   ]
  },
  {
   "cell_type": "code",
   "execution_count": 205,
   "metadata": {},
   "outputs": [],
   "source": [
    "relation_df['name'] = relation_df.apply(filter_func, axis=1)"
   ]
  },
  {
   "cell_type": "code",
   "execution_count": 206,
   "metadata": {},
   "outputs": [
    {
     "output_type": "execute_result",
     "data": {
      "text/plain": "     ts_code  ann_date  end_date                 holder_name   hold_amount  \\\n0  000001.SZ  20200421  20200331  中国平安保险(集团)股份有限公司-集团本级-自有资金  9.618540e+09   \n1  000001.SZ  20200421  20200331             香港中央结算有限公司(陆股通)  1.669875e+09   \n2  000001.SZ  20200421  20200331         中国平安人寿保险股份有限公司-自有资金  1.186100e+09   \n3  000001.SZ  20200421  20200331    中国平安人寿保险股份有限公司-传统-普通保险产品  4.404787e+08   \n4  000001.SZ  20200421  20200331                中国证券金融股份有限公司  4.292327e+08   \n\n   hold_ratio      name  \n0       49.56    中国平安保险  \n1        8.60    香港中央结算  \n2        6.11  中国平安人寿保险  \n3        2.27  中国平安人寿保险  \n4        2.21    中国证券金融  ",
      "text/html": "<div>\n<style scoped>\n    .dataframe tbody tr th:only-of-type {\n        vertical-align: middle;\n    }\n\n    .dataframe tbody tr th {\n        vertical-align: top;\n    }\n\n    .dataframe thead th {\n        text-align: right;\n    }\n</style>\n<table border=\"1\" class=\"dataframe\">\n  <thead>\n    <tr style=\"text-align: right;\">\n      <th></th>\n      <th>ts_code</th>\n      <th>ann_date</th>\n      <th>end_date</th>\n      <th>holder_name</th>\n      <th>hold_amount</th>\n      <th>hold_ratio</th>\n      <th>name</th>\n    </tr>\n  </thead>\n  <tbody>\n    <tr>\n      <th>0</th>\n      <td>000001.SZ</td>\n      <td>20200421</td>\n      <td>20200331</td>\n      <td>中国平安保险(集团)股份有限公司-集团本级-自有资金</td>\n      <td>9.618540e+09</td>\n      <td>49.56</td>\n      <td>中国平安保险</td>\n    </tr>\n    <tr>\n      <th>1</th>\n      <td>000001.SZ</td>\n      <td>20200421</td>\n      <td>20200331</td>\n      <td>香港中央结算有限公司(陆股通)</td>\n      <td>1.669875e+09</td>\n      <td>8.60</td>\n      <td>香港中央结算</td>\n    </tr>\n    <tr>\n      <th>2</th>\n      <td>000001.SZ</td>\n      <td>20200421</td>\n      <td>20200331</td>\n      <td>中国平安人寿保险股份有限公司-自有资金</td>\n      <td>1.186100e+09</td>\n      <td>6.11</td>\n      <td>中国平安人寿保险</td>\n    </tr>\n    <tr>\n      <th>3</th>\n      <td>000001.SZ</td>\n      <td>20200421</td>\n      <td>20200331</td>\n      <td>中国平安人寿保险股份有限公司-传统-普通保险产品</td>\n      <td>4.404787e+08</td>\n      <td>2.27</td>\n      <td>中国平安人寿保险</td>\n    </tr>\n    <tr>\n      <th>4</th>\n      <td>000001.SZ</td>\n      <td>20200421</td>\n      <td>20200331</td>\n      <td>中国证券金融股份有限公司</td>\n      <td>4.292327e+08</td>\n      <td>2.21</td>\n      <td>中国证券金融</td>\n    </tr>\n  </tbody>\n</table>\n</div>"
     },
     "metadata": {},
     "execution_count": 206
    }
   ],
   "source": [
    "relation_df.head()"
   ]
  },
  {
   "cell_type": "code",
   "execution_count": 207,
   "metadata": {
    "tags": [
     "outputPrepend",
     "outputPrepend",
     "outputPrepend",
     "outputPrepend",
     "outputPrepend",
     "outputPrepend",
     "outputPrepend",
     "outputPrepend",
     "outputPrepend",
     "outputPrepend",
     "outputPrepend",
     "outputPrepend",
     "outputPrepend",
     "outputPrepend"
    ]
   },
   "outputs": [
    {
     "output_type": "execute_result",
     "data": {
      "text/plain": "26865"
     },
     "metadata": {},
     "execution_count": 207
    }
   ],
   "source": [
    "len(set(relation_df['name']))"
   ]
  },
  {
   "cell_type": "code",
   "execution_count": 208,
   "metadata": {},
   "outputs": [
    {
     "output_type": "execute_result",
     "data": {
      "text/plain": "28758"
     },
     "metadata": {},
     "execution_count": 208
    }
   ],
   "source": [
    "len(set(relation_df['holder_name']))"
   ]
  },
  {
   "cell_type": "code",
   "execution_count": 209,
   "metadata": {},
   "outputs": [],
   "source": [
    "holder_df = relation_df['name'].to_frame()"
   ]
  },
  {
   "cell_type": "code",
   "execution_count": 210,
   "metadata": {},
   "outputs": [],
   "source": [
    "holder_df = holder_df.drop_duplicates()\n",
    "holder_df = holder_df.reset_index(drop=True)"
   ]
  },
  {
   "cell_type": "code",
   "execution_count": 211,
   "metadata": {},
   "outputs": [
    {
     "output_type": "execute_result",
     "data": {
      "text/plain": "26865"
     },
     "metadata": {},
     "execution_count": 211
    }
   ],
   "source": [
    "len(holder_df)"
   ]
  },
  {
   "cell_type": "code",
   "execution_count": 212,
   "metadata": {},
   "outputs": [],
   "source": [
    "holder_df['holderId:ID(Holder)'] = holder_df.index"
   ]
  },
  {
   "cell_type": "code",
   "execution_count": 213,
   "metadata": {},
   "outputs": [
    {
     "output_type": "execute_result",
     "data": {
      "text/plain": "     name  holderId:ID(Holder)\n7  全国社保基金                    7",
      "text/html": "<div>\n<style scoped>\n    .dataframe tbody tr th:only-of-type {\n        vertical-align: middle;\n    }\n\n    .dataframe tbody tr th {\n        vertical-align: top;\n    }\n\n    .dataframe thead th {\n        text-align: right;\n    }\n</style>\n<table border=\"1\" class=\"dataframe\">\n  <thead>\n    <tr style=\"text-align: right;\">\n      <th></th>\n      <th>name</th>\n      <th>holderId:ID(Holder)</th>\n    </tr>\n  </thead>\n  <tbody>\n    <tr>\n      <th>7</th>\n      <td>全国社保基金</td>\n      <td>7</td>\n    </tr>\n  </tbody>\n</table>\n</div>"
     },
     "metadata": {},
     "execution_count": 213
    }
   ],
   "source": [
    "holder_df[holder_df['holderId:ID(Holder)'] == 7]"
   ]
  },
  {
   "cell_type": "code",
   "execution_count": 214,
   "metadata": {},
   "outputs": [],
   "source": [
    "hold2id = {\n",
    "    row['name']: row['holderId:ID(Holder)']\n",
    "    for i, row in holder_df.iterrows()\n",
    "}"
   ]
  },
  {
   "cell_type": "code",
   "execution_count": 215,
   "metadata": {},
   "outputs": [],
   "source": [
    "relation_df[':START_ID(Holder)'] = relation_df.apply(lambda x: hold2id[x['name']], axis=1)"
   ]
  },
  {
   "cell_type": "code",
   "execution_count": 216,
   "metadata": {},
   "outputs": [
    {
     "output_type": "execute_result",
     "data": {
      "text/plain": "     ts_code  ann_date  end_date                 holder_name   hold_amount  \\\n0  000001.SZ  20200421  20200331  中国平安保险(集团)股份有限公司-集团本级-自有资金  9.618540e+09   \n1  000001.SZ  20200421  20200331             香港中央结算有限公司(陆股通)  1.669875e+09   \n2  000001.SZ  20200421  20200331         中国平安人寿保险股份有限公司-自有资金  1.186100e+09   \n3  000001.SZ  20200421  20200331    中国平安人寿保险股份有限公司-传统-普通保险产品  4.404787e+08   \n4  000001.SZ  20200421  20200331                中国证券金融股份有限公司  4.292327e+08   \n\n   hold_ratio      name  :START_ID(Holder)  \n0       49.56    中国平安保险                  0  \n1        8.60    香港中央结算                  1  \n2        6.11  中国平安人寿保险                  2  \n3        2.27  中国平安人寿保险                  2  \n4        2.21    中国证券金融                  3  ",
      "text/html": "<div>\n<style scoped>\n    .dataframe tbody tr th:only-of-type {\n        vertical-align: middle;\n    }\n\n    .dataframe tbody tr th {\n        vertical-align: top;\n    }\n\n    .dataframe thead th {\n        text-align: right;\n    }\n</style>\n<table border=\"1\" class=\"dataframe\">\n  <thead>\n    <tr style=\"text-align: right;\">\n      <th></th>\n      <th>ts_code</th>\n      <th>ann_date</th>\n      <th>end_date</th>\n      <th>holder_name</th>\n      <th>hold_amount</th>\n      <th>hold_ratio</th>\n      <th>name</th>\n      <th>:START_ID(Holder)</th>\n    </tr>\n  </thead>\n  <tbody>\n    <tr>\n      <th>0</th>\n      <td>000001.SZ</td>\n      <td>20200421</td>\n      <td>20200331</td>\n      <td>中国平安保险(集团)股份有限公司-集团本级-自有资金</td>\n      <td>9.618540e+09</td>\n      <td>49.56</td>\n      <td>中国平安保险</td>\n      <td>0</td>\n    </tr>\n    <tr>\n      <th>1</th>\n      <td>000001.SZ</td>\n      <td>20200421</td>\n      <td>20200331</td>\n      <td>香港中央结算有限公司(陆股通)</td>\n      <td>1.669875e+09</td>\n      <td>8.60</td>\n      <td>香港中央结算</td>\n      <td>1</td>\n    </tr>\n    <tr>\n      <th>2</th>\n      <td>000001.SZ</td>\n      <td>20200421</td>\n      <td>20200331</td>\n      <td>中国平安人寿保险股份有限公司-自有资金</td>\n      <td>1.186100e+09</td>\n      <td>6.11</td>\n      <td>中国平安人寿保险</td>\n      <td>2</td>\n    </tr>\n    <tr>\n      <th>3</th>\n      <td>000001.SZ</td>\n      <td>20200421</td>\n      <td>20200331</td>\n      <td>中国平安人寿保险股份有限公司-传统-普通保险产品</td>\n      <td>4.404787e+08</td>\n      <td>2.27</td>\n      <td>中国平安人寿保险</td>\n      <td>2</td>\n    </tr>\n    <tr>\n      <th>4</th>\n      <td>000001.SZ</td>\n      <td>20200421</td>\n      <td>20200331</td>\n      <td>中国证券金融股份有限公司</td>\n      <td>4.292327e+08</td>\n      <td>2.21</td>\n      <td>中国证券金融</td>\n      <td>3</td>\n    </tr>\n  </tbody>\n</table>\n</div>"
     },
     "metadata": {},
     "execution_count": 216
    }
   ],
   "source": [
    "relation_df.head()"
   ]
  },
  {
   "cell_type": "code",
   "execution_count": 217,
   "metadata": {},
   "outputs": [],
   "source": [
    "relation_df = relation_df.drop(columns=['end_date', 'hold_amount', 'name'])"
   ]
  },
  {
   "cell_type": "code",
   "execution_count": 218,
   "metadata": {},
   "outputs": [
    {
     "output_type": "execute_result",
     "data": {
      "text/plain": "     ts_code  ann_date                 holder_name  hold_ratio  \\\n0  000001.SZ  20200421  中国平安保险(集团)股份有限公司-集团本级-自有资金       49.56   \n1  000001.SZ  20200421             香港中央结算有限公司(陆股通)        8.60   \n2  000001.SZ  20200421         中国平安人寿保险股份有限公司-自有资金        6.11   \n3  000001.SZ  20200421    中国平安人寿保险股份有限公司-传统-普通保险产品        2.27   \n4  000001.SZ  20200421                中国证券金融股份有限公司        2.21   \n\n   :START_ID(Holder)  \n0                  0  \n1                  1  \n2                  2  \n3                  2  \n4                  3  ",
      "text/html": "<div>\n<style scoped>\n    .dataframe tbody tr th:only-of-type {\n        vertical-align: middle;\n    }\n\n    .dataframe tbody tr th {\n        vertical-align: top;\n    }\n\n    .dataframe thead th {\n        text-align: right;\n    }\n</style>\n<table border=\"1\" class=\"dataframe\">\n  <thead>\n    <tr style=\"text-align: right;\">\n      <th></th>\n      <th>ts_code</th>\n      <th>ann_date</th>\n      <th>holder_name</th>\n      <th>hold_ratio</th>\n      <th>:START_ID(Holder)</th>\n    </tr>\n  </thead>\n  <tbody>\n    <tr>\n      <th>0</th>\n      <td>000001.SZ</td>\n      <td>20200421</td>\n      <td>中国平安保险(集团)股份有限公司-集团本级-自有资金</td>\n      <td>49.56</td>\n      <td>0</td>\n    </tr>\n    <tr>\n      <th>1</th>\n      <td>000001.SZ</td>\n      <td>20200421</td>\n      <td>香港中央结算有限公司(陆股通)</td>\n      <td>8.60</td>\n      <td>1</td>\n    </tr>\n    <tr>\n      <th>2</th>\n      <td>000001.SZ</td>\n      <td>20200421</td>\n      <td>中国平安人寿保险股份有限公司-自有资金</td>\n      <td>6.11</td>\n      <td>2</td>\n    </tr>\n    <tr>\n      <th>3</th>\n      <td>000001.SZ</td>\n      <td>20200421</td>\n      <td>中国平安人寿保险股份有限公司-传统-普通保险产品</td>\n      <td>2.27</td>\n      <td>2</td>\n    </tr>\n    <tr>\n      <th>4</th>\n      <td>000001.SZ</td>\n      <td>20200421</td>\n      <td>中国证券金融股份有限公司</td>\n      <td>2.21</td>\n      <td>3</td>\n    </tr>\n  </tbody>\n</table>\n</div>"
     },
     "metadata": {},
     "execution_count": 218
    }
   ],
   "source": [
    "relation_df.head()"
   ]
  },
  {
   "cell_type": "code",
   "execution_count": 219,
   "metadata": {},
   "outputs": [],
   "source": [
    "relation_df['ann_date'] = pd.to_datetime(relation_df['ann_date'])"
   ]
  },
  {
   "cell_type": "code",
   "execution_count": 220,
   "metadata": {},
   "outputs": [],
   "source": [
    "relation_df.columns = [':END_ID(Company)', 'annDate:date','holderFullname:string', 'holdRatio:double', ':START_ID(Holder)']"
   ]
  },
  {
   "cell_type": "code",
   "execution_count": 221,
   "metadata": {},
   "outputs": [],
   "source": [
    "holder_df[':LABEL'] = 'Holder'\n",
    "relation_df[':TYPE'] = 'top10_holder'"
   ]
  },
  {
   "cell_type": "code",
   "execution_count": 222,
   "metadata": {},
   "outputs": [
    {
     "output_type": "execute_result",
     "data": {
      "text/plain": "       name  holderId:ID(Holder)  :LABEL\n0    中国平安保险                    0  Holder\n1    香港中央结算                    1  Holder\n2  中国平安人寿保险                    2  Holder\n3    中国证券金融                    3  Holder\n4  中央汇金资产管理                    4  Holder",
      "text/html": "<div>\n<style scoped>\n    .dataframe tbody tr th:only-of-type {\n        vertical-align: middle;\n    }\n\n    .dataframe tbody tr th {\n        vertical-align: top;\n    }\n\n    .dataframe thead th {\n        text-align: right;\n    }\n</style>\n<table border=\"1\" class=\"dataframe\">\n  <thead>\n    <tr style=\"text-align: right;\">\n      <th></th>\n      <th>name</th>\n      <th>holderId:ID(Holder)</th>\n      <th>:LABEL</th>\n    </tr>\n  </thead>\n  <tbody>\n    <tr>\n      <th>0</th>\n      <td>中国平安保险</td>\n      <td>0</td>\n      <td>Holder</td>\n    </tr>\n    <tr>\n      <th>1</th>\n      <td>香港中央结算</td>\n      <td>1</td>\n      <td>Holder</td>\n    </tr>\n    <tr>\n      <th>2</th>\n      <td>中国平安人寿保险</td>\n      <td>2</td>\n      <td>Holder</td>\n    </tr>\n    <tr>\n      <th>3</th>\n      <td>中国证券金融</td>\n      <td>3</td>\n      <td>Holder</td>\n    </tr>\n    <tr>\n      <th>4</th>\n      <td>中央汇金资产管理</td>\n      <td>4</td>\n      <td>Holder</td>\n    </tr>\n  </tbody>\n</table>\n</div>"
     },
     "metadata": {},
     "execution_count": 222
    }
   ],
   "source": [
    "holder_df.head()"
   ]
  },
  {
   "cell_type": "code",
   "execution_count": 223,
   "metadata": {},
   "outputs": [
    {
     "output_type": "execute_result",
     "data": {
      "text/plain": "  :END_ID(Company) annDate:date       holderFullname:string  holdRatio:double  \\\n0        000001.SZ   2020-04-21  中国平安保险(集团)股份有限公司-集团本级-自有资金             49.56   \n1        000001.SZ   2020-04-21             香港中央结算有限公司(陆股通)              8.60   \n2        000001.SZ   2020-04-21         中国平安人寿保险股份有限公司-自有资金              6.11   \n3        000001.SZ   2020-04-21    中国平安人寿保险股份有限公司-传统-普通保险产品              2.27   \n4        000001.SZ   2020-04-21                中国证券金融股份有限公司              2.21   \n\n   :START_ID(Holder)         :TYPE  \n0                  0  top10_holder  \n1                  1  top10_holder  \n2                  2  top10_holder  \n3                  2  top10_holder  \n4                  3  top10_holder  ",
      "text/html": "<div>\n<style scoped>\n    .dataframe tbody tr th:only-of-type {\n        vertical-align: middle;\n    }\n\n    .dataframe tbody tr th {\n        vertical-align: top;\n    }\n\n    .dataframe thead th {\n        text-align: right;\n    }\n</style>\n<table border=\"1\" class=\"dataframe\">\n  <thead>\n    <tr style=\"text-align: right;\">\n      <th></th>\n      <th>:END_ID(Company)</th>\n      <th>annDate:date</th>\n      <th>holderFullname:string</th>\n      <th>holdRatio:double</th>\n      <th>:START_ID(Holder)</th>\n      <th>:TYPE</th>\n    </tr>\n  </thead>\n  <tbody>\n    <tr>\n      <th>0</th>\n      <td>000001.SZ</td>\n      <td>2020-04-21</td>\n      <td>中国平安保险(集团)股份有限公司-集团本级-自有资金</td>\n      <td>49.56</td>\n      <td>0</td>\n      <td>top10_holder</td>\n    </tr>\n    <tr>\n      <th>1</th>\n      <td>000001.SZ</td>\n      <td>2020-04-21</td>\n      <td>香港中央结算有限公司(陆股通)</td>\n      <td>8.60</td>\n      <td>1</td>\n      <td>top10_holder</td>\n    </tr>\n    <tr>\n      <th>2</th>\n      <td>000001.SZ</td>\n      <td>2020-04-21</td>\n      <td>中国平安人寿保险股份有限公司-自有资金</td>\n      <td>6.11</td>\n      <td>2</td>\n      <td>top10_holder</td>\n    </tr>\n    <tr>\n      <th>3</th>\n      <td>000001.SZ</td>\n      <td>2020-04-21</td>\n      <td>中国平安人寿保险股份有限公司-传统-普通保险产品</td>\n      <td>2.27</td>\n      <td>2</td>\n      <td>top10_holder</td>\n    </tr>\n    <tr>\n      <th>4</th>\n      <td>000001.SZ</td>\n      <td>2020-04-21</td>\n      <td>中国证券金融股份有限公司</td>\n      <td>2.21</td>\n      <td>3</td>\n      <td>top10_holder</td>\n    </tr>\n  </tbody>\n</table>\n</div>"
     },
     "metadata": {},
     "execution_count": 223
    }
   ],
   "source": [
    "relation_df.head()"
   ]
  },
  {
   "cell_type": "code",
   "execution_count": 224,
   "metadata": {},
   "outputs": [],
   "source": [
    "holder_df.to_csv('import/holder.csv', index=False)\n",
    "relation_df.to_csv('import/holder_company.csv', index=False)"
   ]
  },
  {
   "cell_type": "code",
   "execution_count": null,
   "metadata": {},
   "outputs": [],
   "source": []
  }
 ],
 "metadata": {
  "language_info": {
   "codemirror_mode": {
    "name": "ipython",
    "version": 3
   },
   "file_extension": ".py",
   "mimetype": "text/x-python",
   "name": "python",
   "nbconvert_exporter": "python",
   "pygments_lexer": "ipython3",
   "version": "3.7.0-final"
  },
  "orig_nbformat": 2,
  "kernelspec": {
   "name": "python37064bitvenvvenv9b985edbe97245bb8788e43a93e26b9f",
   "display_name": "Python 3.7.0 64-bit ('venv': venv)"
  }
 },
 "nbformat": 4,
 "nbformat_minor": 2
}