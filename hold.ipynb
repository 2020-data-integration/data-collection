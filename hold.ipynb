{
 "cells": [
  {
   "cell_type": "code",
   "execution_count": 1,
   "metadata": {},
   "outputs": [],
   "source": [
    "import tushare as ts\n",
    "import pandas as pd\n",
    "import time\n",
    "import datetime\n",
    "from tqdm import tqdm\n",
    "import re\n",
    "import pprint\n",
    "import json"
   ]
  },
  {
   "cell_type": "code",
   "execution_count": null,
   "metadata": {},
   "outputs": [],
   "source": [
    "ts.set_token('53cd3b985c649c978160c6ec04bce24f4fbd2ebcb4673e8f2fba9a43')\n",
    "\n",
    "pro = ts.pro_api()"
   ]
  },
  {
   "cell_type": "code",
   "execution_count": null,
   "metadata": {},
   "outputs": [],
   "source": [
    "# 注意这里的股票列表应该从本地csv获取，避免出现新增股票\n",
    "codes = []\n",
    "with open('new_import/stock_codes.json', 'r') as f:\n",
    "    js = json.load(f)\n",
    "    for k, v in js.items():\n",
    "        for s in v:\n",
    "            s = s[2:] + '.' + s[:2]\n",
    "            s = s.upper()\n",
    "            codes.append(s)"
   ]
  },
  {
   "cell_type": "code",
   "execution_count": null,
   "metadata": {},
   "outputs": [],
   "source": [
    "today = datetime.date.today()\n",
    "today = today.strftime('%Y%m%d')"
   ]
  },
  {
   "cell_type": "code",
   "execution_count": null,
   "metadata": {},
   "outputs": [],
   "source": [
    "pro.top10_holders(ts_code='000001.SZ', start_date='20200101', end_date=today).drop_duplicates().iloc[:10]"
   ]
  },
  {
   "cell_type": "code",
   "execution_count": null,
   "metadata": {},
   "outputs": [],
   "source": [
    "holder_list = []\n",
    "i = 0\n",
    "for code in tqdm(codes):\n",
    "    df = pro.top10_holders(ts_code=code, start_date='20200101', end_date=today).drop_duplicates().iloc[:10]\n",
    "    holder_list.append(df)\n",
    "    time.sleep(6)\n",
    "    i += 1"
   ]
  },
  {
   "cell_type": "code",
   "execution_count": null,
   "metadata": {},
   "outputs": [],
   "source": [
    "i"
   ]
  },
  {
   "cell_type": "code",
   "execution_count": null,
   "metadata": {},
   "outputs": [],
   "source": [
    "relation_df = pd.concat(holder_list)"
   ]
  },
  {
   "source": [
    "# 从这里开始"
   ],
   "cell_type": "markdown",
   "metadata": {}
  },
  {
   "cell_type": "code",
   "execution_count": 2,
   "metadata": {},
   "outputs": [],
   "source": [
    "relation_df = pd.read_csv('relation.csv')"
   ]
  },
  {
   "cell_type": "code",
   "execution_count": 3,
   "metadata": {},
   "outputs": [
    {
     "output_type": "execute_result",
     "data": {
      "text/plain": [
       "6700"
      ]
     },
     "metadata": {},
     "execution_count": 3
    }
   ],
   "source": [
    "len(relation_df)"
   ]
  },
  {
   "cell_type": "code",
   "execution_count": 4,
   "metadata": {},
   "outputs": [
    {
     "output_type": "execute_result",
     "data": {
      "text/plain": [
       "     ts_code  ann_date  end_date                 holder_name  hold_amount  \\\n",
       "0  600075.SH  20201016  20200930                         李慧琼   18364944.0   \n",
       "1  600075.SH  20201016  20200930                新疆天业(集团)有限公司  728351574.0   \n",
       "2  600075.SH  20201016  20200930          石河子市锦富国有资本投资运营有限公司   67760942.0   \n",
       "3  600075.SH  20201016  20200930   上海银叶投资有限公司-银叶攻玉5号私募证券投资基金   30508800.0   \n",
       "4  600075.SH  20201016  20200930  万家共赢-中信银行-万家共赢安泰1号专项资产管理计划   26874176.0   \n",
       "\n",
       "   hold_ratio  \n",
       "0        1.35  \n",
       "1       53.57  \n",
       "2        4.98  \n",
       "3        2.24  \n",
       "4        1.98  "
      ],
      "text/html": "<div>\n<style scoped>\n    .dataframe tbody tr th:only-of-type {\n        vertical-align: middle;\n    }\n\n    .dataframe tbody tr th {\n        vertical-align: top;\n    }\n\n    .dataframe thead th {\n        text-align: right;\n    }\n</style>\n<table border=\"1\" class=\"dataframe\">\n  <thead>\n    <tr style=\"text-align: right;\">\n      <th></th>\n      <th>ts_code</th>\n      <th>ann_date</th>\n      <th>end_date</th>\n      <th>holder_name</th>\n      <th>hold_amount</th>\n      <th>hold_ratio</th>\n    </tr>\n  </thead>\n  <tbody>\n    <tr>\n      <th>0</th>\n      <td>600075.SH</td>\n      <td>20201016</td>\n      <td>20200930</td>\n      <td>李慧琼</td>\n      <td>18364944.0</td>\n      <td>1.35</td>\n    </tr>\n    <tr>\n      <th>1</th>\n      <td>600075.SH</td>\n      <td>20201016</td>\n      <td>20200930</td>\n      <td>新疆天业(集团)有限公司</td>\n      <td>728351574.0</td>\n      <td>53.57</td>\n    </tr>\n    <tr>\n      <th>2</th>\n      <td>600075.SH</td>\n      <td>20201016</td>\n      <td>20200930</td>\n      <td>石河子市锦富国有资本投资运营有限公司</td>\n      <td>67760942.0</td>\n      <td>4.98</td>\n    </tr>\n    <tr>\n      <th>3</th>\n      <td>600075.SH</td>\n      <td>20201016</td>\n      <td>20200930</td>\n      <td>上海银叶投资有限公司-银叶攻玉5号私募证券投资基金</td>\n      <td>30508800.0</td>\n      <td>2.24</td>\n    </tr>\n    <tr>\n      <th>4</th>\n      <td>600075.SH</td>\n      <td>20201016</td>\n      <td>20200930</td>\n      <td>万家共赢-中信银行-万家共赢安泰1号专项资产管理计划</td>\n      <td>26874176.0</td>\n      <td>1.98</td>\n    </tr>\n  </tbody>\n</table>\n</div>"
     },
     "metadata": {},
     "execution_count": 4
    }
   ],
   "source": [
    "relation_df.head()"
   ]
  },
  {
   "cell_type": "code",
   "execution_count": 5,
   "metadata": {},
   "outputs": [
    {
     "output_type": "execute_result",
     "data": {
      "text/plain": [
       "        ts_code  ann_date  end_date     holder_name  hold_amount  hold_ratio\n",
       "4316  000657.SZ  20201029  20200930  天津中冀万泰投资管理有限公司   11764705.0        1.12"
      ],
      "text/html": "<div>\n<style scoped>\n    .dataframe tbody tr th:only-of-type {\n        vertical-align: middle;\n    }\n\n    .dataframe tbody tr th {\n        vertical-align: top;\n    }\n\n    .dataframe thead th {\n        text-align: right;\n    }\n</style>\n<table border=\"1\" class=\"dataframe\">\n  <thead>\n    <tr style=\"text-align: right;\">\n      <th></th>\n      <th>ts_code</th>\n      <th>ann_date</th>\n      <th>end_date</th>\n      <th>holder_name</th>\n      <th>hold_amount</th>\n      <th>hold_ratio</th>\n    </tr>\n  </thead>\n  <tbody>\n    <tr>\n      <th>4316</th>\n      <td>000657.SZ</td>\n      <td>20201029</td>\n      <td>20200930</td>\n      <td>天津中冀万泰投资管理有限公司</td>\n      <td>11764705.0</td>\n      <td>1.12</td>\n    </tr>\n  </tbody>\n</table>\n</div>"
     },
     "metadata": {},
     "execution_count": 5
    }
   ],
   "source": [
    "relation_df[relation_df['holder_name'] == '天津中冀万泰投资管理有限公司']"
   ]
  },
  {
   "cell_type": "code",
   "execution_count": 6,
   "metadata": {},
   "outputs": [],
   "source": [
    "relation_df = relation_df.drop_duplicates(['ts_code', 'ann_date', 'holder_name'])"
   ]
  },
  {
   "cell_type": "code",
   "execution_count": 7,
   "metadata": {},
   "outputs": [
    {
     "output_type": "execute_result",
     "data": {
      "text/plain": [
       "6685"
      ]
     },
     "metadata": {},
     "execution_count": 7
    }
   ],
   "source": [
    "len(relation_df)"
   ]
  },
  {
   "cell_type": "code",
   "execution_count": 8,
   "metadata": {},
   "outputs": [],
   "source": [
    "def filter_func(x: pd.Series) -> str:\n",
    "    s = x['holder_name']\n",
    "    s = s.split('-')[0]  # 去掉横杠\n",
    "    s = s.split('一')[0]\n",
    "    s = re.sub('\\\\(.*\\\\)', '', s)  # 去掉空格和内容\n",
    "    s = re.sub('股份|责任|有限|公司|集团|省|市', '', s)\n",
    "    return s"
   ]
  },
  {
   "cell_type": "code",
   "execution_count": 9,
   "metadata": {},
   "outputs": [],
   "source": [
    "relation_df['name'] = relation_df.apply(filter_func, axis=1)"
   ]
  },
  {
   "cell_type": "code",
   "execution_count": 10,
   "metadata": {},
   "outputs": [
    {
     "output_type": "execute_result",
     "data": {
      "text/plain": [
       "     ts_code  ann_date  end_date                 holder_name  hold_amount  \\\n",
       "0  600075.SH  20201016  20200930                         李慧琼   18364944.0   \n",
       "1  600075.SH  20201016  20200930                新疆天业(集团)有限公司  728351574.0   \n",
       "2  600075.SH  20201016  20200930          石河子市锦富国有资本投资运营有限公司   67760942.0   \n",
       "3  600075.SH  20201016  20200930   上海银叶投资有限公司-银叶攻玉5号私募证券投资基金   30508800.0   \n",
       "4  600075.SH  20201016  20200930  万家共赢-中信银行-万家共赢安泰1号专项资产管理计划   26874176.0   \n",
       "\n",
       "   hold_ratio           name  \n",
       "0        1.35            李慧琼  \n",
       "1       53.57           新疆天业  \n",
       "2        4.98  石河子锦富国有资本投资运营  \n",
       "3        2.24         上海银叶投资  \n",
       "4        1.98           万家共赢  "
      ],
      "text/html": "<div>\n<style scoped>\n    .dataframe tbody tr th:only-of-type {\n        vertical-align: middle;\n    }\n\n    .dataframe tbody tr th {\n        vertical-align: top;\n    }\n\n    .dataframe thead th {\n        text-align: right;\n    }\n</style>\n<table border=\"1\" class=\"dataframe\">\n  <thead>\n    <tr style=\"text-align: right;\">\n      <th></th>\n      <th>ts_code</th>\n      <th>ann_date</th>\n      <th>end_date</th>\n      <th>holder_name</th>\n      <th>hold_amount</th>\n      <th>hold_ratio</th>\n      <th>name</th>\n    </tr>\n  </thead>\n  <tbody>\n    <tr>\n      <th>0</th>\n      <td>600075.SH</td>\n      <td>20201016</td>\n      <td>20200930</td>\n      <td>李慧琼</td>\n      <td>18364944.0</td>\n      <td>1.35</td>\n      <td>李慧琼</td>\n    </tr>\n    <tr>\n      <th>1</th>\n      <td>600075.SH</td>\n      <td>20201016</td>\n      <td>20200930</td>\n      <td>新疆天业(集团)有限公司</td>\n      <td>728351574.0</td>\n      <td>53.57</td>\n      <td>新疆天业</td>\n    </tr>\n    <tr>\n      <th>2</th>\n      <td>600075.SH</td>\n      <td>20201016</td>\n      <td>20200930</td>\n      <td>石河子市锦富国有资本投资运营有限公司</td>\n      <td>67760942.0</td>\n      <td>4.98</td>\n      <td>石河子锦富国有资本投资运营</td>\n    </tr>\n    <tr>\n      <th>3</th>\n      <td>600075.SH</td>\n      <td>20201016</td>\n      <td>20200930</td>\n      <td>上海银叶投资有限公司-银叶攻玉5号私募证券投资基金</td>\n      <td>30508800.0</td>\n      <td>2.24</td>\n      <td>上海银叶投资</td>\n    </tr>\n    <tr>\n      <th>4</th>\n      <td>600075.SH</td>\n      <td>20201016</td>\n      <td>20200930</td>\n      <td>万家共赢-中信银行-万家共赢安泰1号专项资产管理计划</td>\n      <td>26874176.0</td>\n      <td>1.98</td>\n      <td>万家共赢</td>\n    </tr>\n  </tbody>\n</table>\n</div>"
     },
     "metadata": {},
     "execution_count": 10
    }
   ],
   "source": [
    "relation_df.head()"
   ]
  },
  {
   "cell_type": "code",
   "execution_count": 11,
   "metadata": {
    "tags": []
   },
   "outputs": [
    {
     "output_type": "execute_result",
     "data": {
      "text/plain": [
       "4863"
      ]
     },
     "metadata": {},
     "execution_count": 11
    }
   ],
   "source": [
    "len(set(relation_df['name']))"
   ]
  },
  {
   "cell_type": "code",
   "execution_count": 12,
   "metadata": {},
   "outputs": [
    {
     "output_type": "execute_result",
     "data": {
      "text/plain": [
       "5289"
      ]
     },
     "metadata": {},
     "execution_count": 12
    }
   ],
   "source": [
    "len(set(relation_df['holder_name']))"
   ]
  },
  {
   "cell_type": "code",
   "execution_count": 13,
   "metadata": {},
   "outputs": [],
   "source": [
    "holder_df = relation_df['name'].to_frame()"
   ]
  },
  {
   "cell_type": "code",
   "execution_count": 14,
   "metadata": {},
   "outputs": [],
   "source": [
    "holder_df = holder_df.drop_duplicates()\n",
    "holder_df = holder_df.reset_index(drop=True)"
   ]
  },
  {
   "cell_type": "code",
   "execution_count": 15,
   "metadata": {},
   "outputs": [
    {
     "output_type": "execute_result",
     "data": {
      "text/plain": [
       "4863"
      ]
     },
     "metadata": {},
     "execution_count": 15
    }
   ],
   "source": [
    "len(holder_df)"
   ]
  },
  {
   "cell_type": "code",
   "execution_count": 16,
   "metadata": {},
   "outputs": [],
   "source": [
    "holder_df['holderId:ID(Holder)'] = holder_df.index"
   ]
  },
  {
   "cell_type": "code",
   "execution_count": 17,
   "metadata": {},
   "outputs": [
    {
     "output_type": "execute_result",
     "data": {
      "text/plain": [
       "   name  holderId:ID(Holder)\n",
       "7  金石期货                    7"
      ],
      "text/html": "<div>\n<style scoped>\n    .dataframe tbody tr th:only-of-type {\n        vertical-align: middle;\n    }\n\n    .dataframe tbody tr th {\n        vertical-align: top;\n    }\n\n    .dataframe thead th {\n        text-align: right;\n    }\n</style>\n<table border=\"1\" class=\"dataframe\">\n  <thead>\n    <tr style=\"text-align: right;\">\n      <th></th>\n      <th>name</th>\n      <th>holderId:ID(Holder)</th>\n    </tr>\n  </thead>\n  <tbody>\n    <tr>\n      <th>7</th>\n      <td>金石期货</td>\n      <td>7</td>\n    </tr>\n  </tbody>\n</table>\n</div>"
     },
     "metadata": {},
     "execution_count": 17
    }
   ],
   "source": [
    "holder_df[holder_df['holderId:ID(Holder)'] == 7]"
   ]
  },
  {
   "cell_type": "code",
   "execution_count": 18,
   "metadata": {},
   "outputs": [],
   "source": [
    "hold2id = {\n",
    "    row['name']: row['holderId:ID(Holder)']\n",
    "    for i, row in holder_df.iterrows()\n",
    "}"
   ]
  },
  {
   "cell_type": "code",
   "execution_count": 19,
   "metadata": {},
   "outputs": [],
   "source": [
    "relation_df[':START_ID(Holder)'] = relation_df.apply(lambda x: hold2id[x['name']], axis=1)"
   ]
  },
  {
   "cell_type": "code",
   "execution_count": 20,
   "metadata": {},
   "outputs": [
    {
     "output_type": "execute_result",
     "data": {
      "text/plain": [
       "     ts_code  ann_date  end_date                 holder_name  hold_amount  \\\n",
       "0  600075.SH  20201016  20200930                         李慧琼   18364944.0   \n",
       "1  600075.SH  20201016  20200930                新疆天业(集团)有限公司  728351574.0   \n",
       "2  600075.SH  20201016  20200930          石河子市锦富国有资本投资运营有限公司   67760942.0   \n",
       "3  600075.SH  20201016  20200930   上海银叶投资有限公司-银叶攻玉5号私募证券投资基金   30508800.0   \n",
       "4  600075.SH  20201016  20200930  万家共赢-中信银行-万家共赢安泰1号专项资产管理计划   26874176.0   \n",
       "\n",
       "   hold_ratio           name  :START_ID(Holder)  \n",
       "0        1.35            李慧琼                  0  \n",
       "1       53.57           新疆天业                  1  \n",
       "2        4.98  石河子锦富国有资本投资运营                  2  \n",
       "3        2.24         上海银叶投资                  3  \n",
       "4        1.98           万家共赢                  4  "
      ],
      "text/html": "<div>\n<style scoped>\n    .dataframe tbody tr th:only-of-type {\n        vertical-align: middle;\n    }\n\n    .dataframe tbody tr th {\n        vertical-align: top;\n    }\n\n    .dataframe thead th {\n        text-align: right;\n    }\n</style>\n<table border=\"1\" class=\"dataframe\">\n  <thead>\n    <tr style=\"text-align: right;\">\n      <th></th>\n      <th>ts_code</th>\n      <th>ann_date</th>\n      <th>end_date</th>\n      <th>holder_name</th>\n      <th>hold_amount</th>\n      <th>hold_ratio</th>\n      <th>name</th>\n      <th>:START_ID(Holder)</th>\n    </tr>\n  </thead>\n  <tbody>\n    <tr>\n      <th>0</th>\n      <td>600075.SH</td>\n      <td>20201016</td>\n      <td>20200930</td>\n      <td>李慧琼</td>\n      <td>18364944.0</td>\n      <td>1.35</td>\n      <td>李慧琼</td>\n      <td>0</td>\n    </tr>\n    <tr>\n      <th>1</th>\n      <td>600075.SH</td>\n      <td>20201016</td>\n      <td>20200930</td>\n      <td>新疆天业(集团)有限公司</td>\n      <td>728351574.0</td>\n      <td>53.57</td>\n      <td>新疆天业</td>\n      <td>1</td>\n    </tr>\n    <tr>\n      <th>2</th>\n      <td>600075.SH</td>\n      <td>20201016</td>\n      <td>20200930</td>\n      <td>石河子市锦富国有资本投资运营有限公司</td>\n      <td>67760942.0</td>\n      <td>4.98</td>\n      <td>石河子锦富国有资本投资运营</td>\n      <td>2</td>\n    </tr>\n    <tr>\n      <th>3</th>\n      <td>600075.SH</td>\n      <td>20201016</td>\n      <td>20200930</td>\n      <td>上海银叶投资有限公司-银叶攻玉5号私募证券投资基金</td>\n      <td>30508800.0</td>\n      <td>2.24</td>\n      <td>上海银叶投资</td>\n      <td>3</td>\n    </tr>\n    <tr>\n      <th>4</th>\n      <td>600075.SH</td>\n      <td>20201016</td>\n      <td>20200930</td>\n      <td>万家共赢-中信银行-万家共赢安泰1号专项资产管理计划</td>\n      <td>26874176.0</td>\n      <td>1.98</td>\n      <td>万家共赢</td>\n      <td>4</td>\n    </tr>\n  </tbody>\n</table>\n</div>"
     },
     "metadata": {},
     "execution_count": 20
    }
   ],
   "source": [
    "relation_df.head()"
   ]
  },
  {
   "cell_type": "code",
   "execution_count": 21,
   "metadata": {},
   "outputs": [],
   "source": [
    "relation_df = relation_df.drop(columns=['end_date', 'hold_amount', 'name'])"
   ]
  },
  {
   "cell_type": "code",
   "execution_count": 22,
   "metadata": {},
   "outputs": [
    {
     "output_type": "execute_result",
     "data": {
      "text/plain": [
       "     ts_code  ann_date                 holder_name  hold_ratio  \\\n",
       "0  600075.SH  20201016                         李慧琼        1.35   \n",
       "1  600075.SH  20201016                新疆天业(集团)有限公司       53.57   \n",
       "2  600075.SH  20201016          石河子市锦富国有资本投资运营有限公司        4.98   \n",
       "3  600075.SH  20201016   上海银叶投资有限公司-银叶攻玉5号私募证券投资基金        2.24   \n",
       "4  600075.SH  20201016  万家共赢-中信银行-万家共赢安泰1号专项资产管理计划        1.98   \n",
       "\n",
       "   :START_ID(Holder)  \n",
       "0                  0  \n",
       "1                  1  \n",
       "2                  2  \n",
       "3                  3  \n",
       "4                  4  "
      ],
      "text/html": "<div>\n<style scoped>\n    .dataframe tbody tr th:only-of-type {\n        vertical-align: middle;\n    }\n\n    .dataframe tbody tr th {\n        vertical-align: top;\n    }\n\n    .dataframe thead th {\n        text-align: right;\n    }\n</style>\n<table border=\"1\" class=\"dataframe\">\n  <thead>\n    <tr style=\"text-align: right;\">\n      <th></th>\n      <th>ts_code</th>\n      <th>ann_date</th>\n      <th>holder_name</th>\n      <th>hold_ratio</th>\n      <th>:START_ID(Holder)</th>\n    </tr>\n  </thead>\n  <tbody>\n    <tr>\n      <th>0</th>\n      <td>600075.SH</td>\n      <td>20201016</td>\n      <td>李慧琼</td>\n      <td>1.35</td>\n      <td>0</td>\n    </tr>\n    <tr>\n      <th>1</th>\n      <td>600075.SH</td>\n      <td>20201016</td>\n      <td>新疆天业(集团)有限公司</td>\n      <td>53.57</td>\n      <td>1</td>\n    </tr>\n    <tr>\n      <th>2</th>\n      <td>600075.SH</td>\n      <td>20201016</td>\n      <td>石河子市锦富国有资本投资运营有限公司</td>\n      <td>4.98</td>\n      <td>2</td>\n    </tr>\n    <tr>\n      <th>3</th>\n      <td>600075.SH</td>\n      <td>20201016</td>\n      <td>上海银叶投资有限公司-银叶攻玉5号私募证券投资基金</td>\n      <td>2.24</td>\n      <td>3</td>\n    </tr>\n    <tr>\n      <th>4</th>\n      <td>600075.SH</td>\n      <td>20201016</td>\n      <td>万家共赢-中信银行-万家共赢安泰1号专项资产管理计划</td>\n      <td>1.98</td>\n      <td>4</td>\n    </tr>\n  </tbody>\n</table>\n</div>"
     },
     "metadata": {},
     "execution_count": 22
    }
   ],
   "source": [
    "relation_df.head()"
   ]
  },
  {
   "cell_type": "code",
   "execution_count": 23,
   "metadata": {},
   "outputs": [],
   "source": [
    "relation_df['ann_date'] = pd.to_datetime(relation_df['ann_date'], format='%Y%m%d')"
   ]
  },
  {
   "cell_type": "code",
   "execution_count": 24,
   "metadata": {},
   "outputs": [
    {
     "output_type": "execute_result",
     "data": {
      "text/plain": [
       "     ts_code   ann_date                 holder_name  hold_ratio  \\\n",
       "0  600075.SH 2020-10-16                         李慧琼        1.35   \n",
       "1  600075.SH 2020-10-16                新疆天业(集团)有限公司       53.57   \n",
       "2  600075.SH 2020-10-16          石河子市锦富国有资本投资运营有限公司        4.98   \n",
       "3  600075.SH 2020-10-16   上海银叶投资有限公司-银叶攻玉5号私募证券投资基金        2.24   \n",
       "4  600075.SH 2020-10-16  万家共赢-中信银行-万家共赢安泰1号专项资产管理计划        1.98   \n",
       "\n",
       "   :START_ID(Holder)  \n",
       "0                  0  \n",
       "1                  1  \n",
       "2                  2  \n",
       "3                  3  \n",
       "4                  4  "
      ],
      "text/html": "<div>\n<style scoped>\n    .dataframe tbody tr th:only-of-type {\n        vertical-align: middle;\n    }\n\n    .dataframe tbody tr th {\n        vertical-align: top;\n    }\n\n    .dataframe thead th {\n        text-align: right;\n    }\n</style>\n<table border=\"1\" class=\"dataframe\">\n  <thead>\n    <tr style=\"text-align: right;\">\n      <th></th>\n      <th>ts_code</th>\n      <th>ann_date</th>\n      <th>holder_name</th>\n      <th>hold_ratio</th>\n      <th>:START_ID(Holder)</th>\n    </tr>\n  </thead>\n  <tbody>\n    <tr>\n      <th>0</th>\n      <td>600075.SH</td>\n      <td>2020-10-16</td>\n      <td>李慧琼</td>\n      <td>1.35</td>\n      <td>0</td>\n    </tr>\n    <tr>\n      <th>1</th>\n      <td>600075.SH</td>\n      <td>2020-10-16</td>\n      <td>新疆天业(集团)有限公司</td>\n      <td>53.57</td>\n      <td>1</td>\n    </tr>\n    <tr>\n      <th>2</th>\n      <td>600075.SH</td>\n      <td>2020-10-16</td>\n      <td>石河子市锦富国有资本投资运营有限公司</td>\n      <td>4.98</td>\n      <td>2</td>\n    </tr>\n    <tr>\n      <th>3</th>\n      <td>600075.SH</td>\n      <td>2020-10-16</td>\n      <td>上海银叶投资有限公司-银叶攻玉5号私募证券投资基金</td>\n      <td>2.24</td>\n      <td>3</td>\n    </tr>\n    <tr>\n      <th>4</th>\n      <td>600075.SH</td>\n      <td>2020-10-16</td>\n      <td>万家共赢-中信银行-万家共赢安泰1号专项资产管理计划</td>\n      <td>1.98</td>\n      <td>4</td>\n    </tr>\n  </tbody>\n</table>\n</div>"
     },
     "metadata": {},
     "execution_count": 24
    }
   ],
   "source": [
    "relation_df.head()"
   ]
  },
  {
   "cell_type": "code",
   "execution_count": 25,
   "metadata": {},
   "outputs": [],
   "source": [
    "relation_df.columns = [':END_ID(Company)', 'annDate:date','holderFullname:string', 'holdRatio:double', ':START_ID(Holder)']"
   ]
  },
  {
   "cell_type": "code",
   "execution_count": 26,
   "metadata": {},
   "outputs": [],
   "source": [
    "holder_df[':LABEL'] = 'Holder'\n",
    "relation_df[':TYPE'] = 'hold_stock'"
   ]
  },
  {
   "cell_type": "code",
   "execution_count": 27,
   "metadata": {},
   "outputs": [
    {
     "output_type": "execute_result",
     "data": {
      "text/plain": [
       "            name  holderId:ID(Holder)  :LABEL\n",
       "0            李慧琼                    0  Holder\n",
       "1           新疆天业                    1  Holder\n",
       "2  石河子锦富国有资本投资运营                    2  Holder\n",
       "3         上海银叶投资                    3  Holder\n",
       "4           万家共赢                    4  Holder"
      ],
      "text/html": "<div>\n<style scoped>\n    .dataframe tbody tr th:only-of-type {\n        vertical-align: middle;\n    }\n\n    .dataframe tbody tr th {\n        vertical-align: top;\n    }\n\n    .dataframe thead th {\n        text-align: right;\n    }\n</style>\n<table border=\"1\" class=\"dataframe\">\n  <thead>\n    <tr style=\"text-align: right;\">\n      <th></th>\n      <th>name</th>\n      <th>holderId:ID(Holder)</th>\n      <th>:LABEL</th>\n    </tr>\n  </thead>\n  <tbody>\n    <tr>\n      <th>0</th>\n      <td>李慧琼</td>\n      <td>0</td>\n      <td>Holder</td>\n    </tr>\n    <tr>\n      <th>1</th>\n      <td>新疆天业</td>\n      <td>1</td>\n      <td>Holder</td>\n    </tr>\n    <tr>\n      <th>2</th>\n      <td>石河子锦富国有资本投资运营</td>\n      <td>2</td>\n      <td>Holder</td>\n    </tr>\n    <tr>\n      <th>3</th>\n      <td>上海银叶投资</td>\n      <td>3</td>\n      <td>Holder</td>\n    </tr>\n    <tr>\n      <th>4</th>\n      <td>万家共赢</td>\n      <td>4</td>\n      <td>Holder</td>\n    </tr>\n  </tbody>\n</table>\n</div>"
     },
     "metadata": {},
     "execution_count": 27
    }
   ],
   "source": [
    "holder_df.head()"
   ]
  },
  {
   "cell_type": "code",
   "execution_count": 28,
   "metadata": {},
   "outputs": [
    {
     "output_type": "execute_result",
     "data": {
      "text/plain": [
       "  :END_ID(Company) annDate:date       holderFullname:string  holdRatio:double  \\\n",
       "0        600075.SH   2020-10-16                         李慧琼              1.35   \n",
       "1        600075.SH   2020-10-16                新疆天业(集团)有限公司             53.57   \n",
       "2        600075.SH   2020-10-16          石河子市锦富国有资本投资运营有限公司              4.98   \n",
       "3        600075.SH   2020-10-16   上海银叶投资有限公司-银叶攻玉5号私募证券投资基金              2.24   \n",
       "4        600075.SH   2020-10-16  万家共赢-中信银行-万家共赢安泰1号专项资产管理计划              1.98   \n",
       "\n",
       "   :START_ID(Holder)       :TYPE  \n",
       "0                  0  hold_stock  \n",
       "1                  1  hold_stock  \n",
       "2                  2  hold_stock  \n",
       "3                  3  hold_stock  \n",
       "4                  4  hold_stock  "
      ],
      "text/html": "<div>\n<style scoped>\n    .dataframe tbody tr th:only-of-type {\n        vertical-align: middle;\n    }\n\n    .dataframe tbody tr th {\n        vertical-align: top;\n    }\n\n    .dataframe thead th {\n        text-align: right;\n    }\n</style>\n<table border=\"1\" class=\"dataframe\">\n  <thead>\n    <tr style=\"text-align: right;\">\n      <th></th>\n      <th>:END_ID(Company)</th>\n      <th>annDate:date</th>\n      <th>holderFullname:string</th>\n      <th>holdRatio:double</th>\n      <th>:START_ID(Holder)</th>\n      <th>:TYPE</th>\n    </tr>\n  </thead>\n  <tbody>\n    <tr>\n      <th>0</th>\n      <td>600075.SH</td>\n      <td>2020-10-16</td>\n      <td>李慧琼</td>\n      <td>1.35</td>\n      <td>0</td>\n      <td>hold_stock</td>\n    </tr>\n    <tr>\n      <th>1</th>\n      <td>600075.SH</td>\n      <td>2020-10-16</td>\n      <td>新疆天业(集团)有限公司</td>\n      <td>53.57</td>\n      <td>1</td>\n      <td>hold_stock</td>\n    </tr>\n    <tr>\n      <th>2</th>\n      <td>600075.SH</td>\n      <td>2020-10-16</td>\n      <td>石河子市锦富国有资本投资运营有限公司</td>\n      <td>4.98</td>\n      <td>2</td>\n      <td>hold_stock</td>\n    </tr>\n    <tr>\n      <th>3</th>\n      <td>600075.SH</td>\n      <td>2020-10-16</td>\n      <td>上海银叶投资有限公司-银叶攻玉5号私募证券投资基金</td>\n      <td>2.24</td>\n      <td>3</td>\n      <td>hold_stock</td>\n    </tr>\n    <tr>\n      <th>4</th>\n      <td>600075.SH</td>\n      <td>2020-10-16</td>\n      <td>万家共赢-中信银行-万家共赢安泰1号专项资产管理计划</td>\n      <td>1.98</td>\n      <td>4</td>\n      <td>hold_stock</td>\n    </tr>\n  </tbody>\n</table>\n</div>"
     },
     "metadata": {},
     "execution_count": 28
    }
   ],
   "source": [
    "relation_df.head()"
   ]
  },
  {
   "cell_type": "code",
   "execution_count": 29,
   "metadata": {},
   "outputs": [],
   "source": [
    "holder_df.to_csv('new_import/holder.csv', index=False)\n",
    "relation_df.to_csv('new_import/holder_company.csv', index=False)"
   ]
  },
  {
   "cell_type": "code",
   "execution_count": null,
   "metadata": {},
   "outputs": [],
   "source": []
  }
 ],
 "metadata": {
  "language_info": {
   "codemirror_mode": {
    "name": "ipython",
    "version": 3
   },
   "file_extension": ".py",
   "mimetype": "text/x-python",
   "name": "python",
   "nbconvert_exporter": "python",
   "pygments_lexer": "ipython3",
   "version": "3.7.0-final"
  },
  "orig_nbformat": 2,
  "kernelspec": {
   "name": "python37064bitvenvvenv9b985edbe97245bb8788e43a93e26b9f",
   "display_name": "Python 3.7.0 64-bit ('venv': venv)"
  }
 },
 "nbformat": 4,
 "nbformat_minor": 2
}