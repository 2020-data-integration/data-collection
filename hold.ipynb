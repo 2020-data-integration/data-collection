{
 "cells": [
  {
   "cell_type": "code",
   "execution_count": 1,
   "metadata": {},
   "outputs": [],
   "source": [
    "import tushare as ts\n",
    "import pandas as pd\n",
    "import time\n",
    "import datetime\n",
    "from tqdm import tqdm\n",
    "import re\n",
    "import pprint\n",
    "import json"
   ]
  },
  {
   "source": [
    "# 从这里开始"
   ],
   "cell_type": "markdown",
   "metadata": {}
  },
  {
   "cell_type": "code",
   "execution_count": 3,
   "metadata": {},
   "outputs": [],
   "source": [
    "relation_df = pd.read_csv('relation.csv')\n",
    "relation_df = relation_df.drop(columns=['end_date', 'hold_amount'])"
   ]
  },
  {
   "cell_type": "code",
   "execution_count": 4,
   "metadata": {},
   "outputs": [],
   "source": [
    "company_df = pd.read_csv('new_import/company.csv')"
   ]
  },
  {
   "cell_type": "code",
   "execution_count": 5,
   "metadata": {},
   "outputs": [
    {
     "output_type": "execute_result",
     "data": {
      "text/plain": [
       "6700"
      ]
     },
     "metadata": {},
     "execution_count": 5
    }
   ],
   "source": [
    "len(relation_df)"
   ]
  },
  {
   "cell_type": "code",
   "execution_count": 6,
   "metadata": {},
   "outputs": [],
   "source": [
    "def filter_func(s: str) -> str:\n",
    "    s = s.split('-')[0]  # 去掉横杠\n",
    "    s = s.split('一')[0]\n",
    "    s = re.sub('\\\\(.*\\\\)', '', s)  # 去掉空格和内容\n",
    "    s = re.sub('股份|责任|有限|公司|集团|省|市', '', s)\n",
    "    return s"
   ]
  },
  {
   "cell_type": "code",
   "execution_count": 7,
   "metadata": {},
   "outputs": [
    {
     "output_type": "execute_result",
     "data": {
      "text/plain": [
       "  companyId:ID(Company) name:string  fullname:string   :LABEL\n",
       "0             000001.SZ        平安银行       平安银行股份有限公司  Company\n",
       "1             000002.SZ         万科A       万科企业股份有限公司  Company\n",
       "2             000005.SZ        世纪星源     深圳世纪星源股份有限公司  Company\n",
       "3             000006.SZ        深振业A  深圳市振业(集团)股份有限公司  Company\n",
       "4             000007.SZ         全新好     深圳市全新好股份有限公司  Company"
      ],
      "text/html": "<div>\n<style scoped>\n    .dataframe tbody tr th:only-of-type {\n        vertical-align: middle;\n    }\n\n    .dataframe tbody tr th {\n        vertical-align: top;\n    }\n\n    .dataframe thead th {\n        text-align: right;\n    }\n</style>\n<table border=\"1\" class=\"dataframe\">\n  <thead>\n    <tr style=\"text-align: right;\">\n      <th></th>\n      <th>companyId:ID(Company)</th>\n      <th>name:string</th>\n      <th>fullname:string</th>\n      <th>:LABEL</th>\n    </tr>\n  </thead>\n  <tbody>\n    <tr>\n      <th>0</th>\n      <td>000001.SZ</td>\n      <td>平安银行</td>\n      <td>平安银行股份有限公司</td>\n      <td>Company</td>\n    </tr>\n    <tr>\n      <th>1</th>\n      <td>000002.SZ</td>\n      <td>万科A</td>\n      <td>万科企业股份有限公司</td>\n      <td>Company</td>\n    </tr>\n    <tr>\n      <th>2</th>\n      <td>000005.SZ</td>\n      <td>世纪星源</td>\n      <td>深圳世纪星源股份有限公司</td>\n      <td>Company</td>\n    </tr>\n    <tr>\n      <th>3</th>\n      <td>000006.SZ</td>\n      <td>深振业A</td>\n      <td>深圳市振业(集团)股份有限公司</td>\n      <td>Company</td>\n    </tr>\n    <tr>\n      <th>4</th>\n      <td>000007.SZ</td>\n      <td>全新好</td>\n      <td>深圳市全新好股份有限公司</td>\n      <td>Company</td>\n    </tr>\n  </tbody>\n</table>\n</div>"
     },
     "metadata": {},
     "execution_count": 7
    }
   ],
   "source": [
    "company_df.head()"
   ]
  },
  {
   "cell_type": "code",
   "execution_count": 8,
   "metadata": {},
   "outputs": [],
   "source": [
    "comp_name2code = dict()\n",
    "for i, row in company_df.iterrows():\n",
    "    comp_name2code[filter_func(row['fullname:string'])] = row['companyId:ID(Company)']"
   ]
  },
  {
   "cell_type": "code",
   "execution_count": 9,
   "metadata": {},
   "outputs": [
    {
     "output_type": "execute_result",
     "data": {
      "text/plain": [
       "'000001.SZ'"
      ]
     },
     "metadata": {},
     "execution_count": 9
    }
   ],
   "source": [
    "comp_name2code['平安银行']"
   ]
  },
  {
   "cell_type": "code",
   "execution_count": 10,
   "metadata": {},
   "outputs": [
    {
     "output_type": "execute_result",
     "data": {
      "text/plain": [
       "     ts_code  ann_date                 holder_name  hold_ratio\n",
       "0  600075.SH  20201016                         李慧琼        1.35\n",
       "1  600075.SH  20201016                新疆天业(集团)有限公司       53.57\n",
       "2  600075.SH  20201016          石河子市锦富国有资本投资运营有限公司        4.98\n",
       "3  600075.SH  20201016   上海银叶投资有限公司-银叶攻玉5号私募证券投资基金        2.24\n",
       "4  600075.SH  20201016  万家共赢-中信银行-万家共赢安泰1号专项资产管理计划        1.98"
      ],
      "text/html": "<div>\n<style scoped>\n    .dataframe tbody tr th:only-of-type {\n        vertical-align: middle;\n    }\n\n    .dataframe tbody tr th {\n        vertical-align: top;\n    }\n\n    .dataframe thead th {\n        text-align: right;\n    }\n</style>\n<table border=\"1\" class=\"dataframe\">\n  <thead>\n    <tr style=\"text-align: right;\">\n      <th></th>\n      <th>ts_code</th>\n      <th>ann_date</th>\n      <th>holder_name</th>\n      <th>hold_ratio</th>\n    </tr>\n  </thead>\n  <tbody>\n    <tr>\n      <th>0</th>\n      <td>600075.SH</td>\n      <td>20201016</td>\n      <td>李慧琼</td>\n      <td>1.35</td>\n    </tr>\n    <tr>\n      <th>1</th>\n      <td>600075.SH</td>\n      <td>20201016</td>\n      <td>新疆天业(集团)有限公司</td>\n      <td>53.57</td>\n    </tr>\n    <tr>\n      <th>2</th>\n      <td>600075.SH</td>\n      <td>20201016</td>\n      <td>石河子市锦富国有资本投资运营有限公司</td>\n      <td>4.98</td>\n    </tr>\n    <tr>\n      <th>3</th>\n      <td>600075.SH</td>\n      <td>20201016</td>\n      <td>上海银叶投资有限公司-银叶攻玉5号私募证券投资基金</td>\n      <td>2.24</td>\n    </tr>\n    <tr>\n      <th>4</th>\n      <td>600075.SH</td>\n      <td>20201016</td>\n      <td>万家共赢-中信银行-万家共赢安泰1号专项资产管理计划</td>\n      <td>1.98</td>\n    </tr>\n  </tbody>\n</table>\n</div>"
     },
     "metadata": {},
     "execution_count": 10
    }
   ],
   "source": [
    "relation_df.head()"
   ]
  },
  {
   "cell_type": "code",
   "execution_count": 11,
   "metadata": {},
   "outputs": [
    {
     "output_type": "execute_result",
     "data": {
      "text/plain": [
       "        ts_code  ann_date     holder_name  hold_ratio\n",
       "4316  000657.SZ  20201029  天津中冀万泰投资管理有限公司        1.12"
      ],
      "text/html": "<div>\n<style scoped>\n    .dataframe tbody tr th:only-of-type {\n        vertical-align: middle;\n    }\n\n    .dataframe tbody tr th {\n        vertical-align: top;\n    }\n\n    .dataframe thead th {\n        text-align: right;\n    }\n</style>\n<table border=\"1\" class=\"dataframe\">\n  <thead>\n    <tr style=\"text-align: right;\">\n      <th></th>\n      <th>ts_code</th>\n      <th>ann_date</th>\n      <th>holder_name</th>\n      <th>hold_ratio</th>\n    </tr>\n  </thead>\n  <tbody>\n    <tr>\n      <th>4316</th>\n      <td>000657.SZ</td>\n      <td>20201029</td>\n      <td>天津中冀万泰投资管理有限公司</td>\n      <td>1.12</td>\n    </tr>\n  </tbody>\n</table>\n</div>"
     },
     "metadata": {},
     "execution_count": 11
    }
   ],
   "source": [
    "relation_df[relation_df['holder_name'] == '天津中冀万泰投资管理有限公司']"
   ]
  },
  {
   "cell_type": "code",
   "execution_count": 12,
   "metadata": {},
   "outputs": [],
   "source": [
    "relation_df = relation_df.drop_duplicates(['ts_code', 'ann_date', 'holder_name'])"
   ]
  },
  {
   "cell_type": "code",
   "execution_count": 13,
   "metadata": {},
   "outputs": [
    {
     "output_type": "execute_result",
     "data": {
      "text/plain": [
       "6685"
      ]
     },
     "metadata": {},
     "execution_count": 13
    }
   ],
   "source": [
    "len(relation_df)"
   ]
  },
  {
   "cell_type": "code",
   "execution_count": 14,
   "metadata": {},
   "outputs": [],
   "source": [
    "def get_code(s: str) -> str:\n",
    "    s = filter_func(s)\n",
    "    if s in comp_name2code:\n",
    "        return comp_name2code[s]\n",
    "    return ''"
   ]
  },
  {
   "cell_type": "code",
   "execution_count": 15,
   "metadata": {},
   "outputs": [],
   "source": [
    "relation_df['holder_code'] = relation_df['holder_name'].apply(get_code)"
   ]
  },
  {
   "cell_type": "code",
   "execution_count": 16,
   "metadata": {},
   "outputs": [
    {
     "output_type": "execute_result",
     "data": {
      "text/plain": [
       "     ts_code  ann_date                 holder_name  hold_ratio holder_code\n",
       "0  600075.SH  20201016                         李慧琼        1.35            \n",
       "1  600075.SH  20201016                新疆天业(集团)有限公司       53.57   600075.SH\n",
       "2  600075.SH  20201016          石河子市锦富国有资本投资运营有限公司        4.98            \n",
       "3  600075.SH  20201016   上海银叶投资有限公司-银叶攻玉5号私募证券投资基金        2.24            \n",
       "4  600075.SH  20201016  万家共赢-中信银行-万家共赢安泰1号专项资产管理计划        1.98            "
      ],
      "text/html": "<div>\n<style scoped>\n    .dataframe tbody tr th:only-of-type {\n        vertical-align: middle;\n    }\n\n    .dataframe tbody tr th {\n        vertical-align: top;\n    }\n\n    .dataframe thead th {\n        text-align: right;\n    }\n</style>\n<table border=\"1\" class=\"dataframe\">\n  <thead>\n    <tr style=\"text-align: right;\">\n      <th></th>\n      <th>ts_code</th>\n      <th>ann_date</th>\n      <th>holder_name</th>\n      <th>hold_ratio</th>\n      <th>holder_code</th>\n    </tr>\n  </thead>\n  <tbody>\n    <tr>\n      <th>0</th>\n      <td>600075.SH</td>\n      <td>20201016</td>\n      <td>李慧琼</td>\n      <td>1.35</td>\n      <td></td>\n    </tr>\n    <tr>\n      <th>1</th>\n      <td>600075.SH</td>\n      <td>20201016</td>\n      <td>新疆天业(集团)有限公司</td>\n      <td>53.57</td>\n      <td>600075.SH</td>\n    </tr>\n    <tr>\n      <th>2</th>\n      <td>600075.SH</td>\n      <td>20201016</td>\n      <td>石河子市锦富国有资本投资运营有限公司</td>\n      <td>4.98</td>\n      <td></td>\n    </tr>\n    <tr>\n      <th>3</th>\n      <td>600075.SH</td>\n      <td>20201016</td>\n      <td>上海银叶投资有限公司-银叶攻玉5号私募证券投资基金</td>\n      <td>2.24</td>\n      <td></td>\n    </tr>\n    <tr>\n      <th>4</th>\n      <td>600075.SH</td>\n      <td>20201016</td>\n      <td>万家共赢-中信银行-万家共赢安泰1号专项资产管理计划</td>\n      <td>1.98</td>\n      <td></td>\n    </tr>\n  </tbody>\n</table>\n</div>"
     },
     "metadata": {},
     "execution_count": 16
    }
   ],
   "source": [
    "relation_df.head()"
   ]
  },
  {
   "cell_type": "code",
   "execution_count": 17,
   "metadata": {},
   "outputs": [],
   "source": [
    "listed_relation_df = relation_df[relation_df['holder_code'] != '']"
   ]
  },
  {
   "cell_type": "code",
   "execution_count": 18,
   "metadata": {
    "tags": []
   },
   "outputs": [
    {
     "output_type": "execute_result",
     "data": {
      "text/plain": [
       "452"
      ]
     },
     "metadata": {},
     "execution_count": 18
    }
   ],
   "source": [
    "len(listed_relation_df)"
   ]
  },
  {
   "cell_type": "code",
   "execution_count": 19,
   "metadata": {},
   "outputs": [
    {
     "output_type": "execute_result",
     "data": {
      "text/plain": [
       "       ts_code  ann_date                      holder_name  hold_ratio  \\\n",
       "1    600075.SH  20201016                     新疆天业(集团)有限公司       53.57   \n",
       "50   600155.SH  20201030             华创阳安股份有限公司-第二期员工持股计划        2.84   \n",
       "142  600301.SH  20201029                       南宁化工集团有限公司       32.00   \n",
       "204  600352.SH  20201027         浙江龙盛集团股份有限公司-2020年员工持股计划        2.15   \n",
       "212  600367.SH  20201017  中国建设银行股份有限公司-信达澳银新能源产业股票型证券投资基金        0.44   \n",
       "\n",
       "    holder_code  \n",
       "1     600075.SH  \n",
       "50    600155.SH  \n",
       "142   600301.SH  \n",
       "204   600352.SH  \n",
       "212   601939.SH  "
      ],
      "text/html": "<div>\n<style scoped>\n    .dataframe tbody tr th:only-of-type {\n        vertical-align: middle;\n    }\n\n    .dataframe tbody tr th {\n        vertical-align: top;\n    }\n\n    .dataframe thead th {\n        text-align: right;\n    }\n</style>\n<table border=\"1\" class=\"dataframe\">\n  <thead>\n    <tr style=\"text-align: right;\">\n      <th></th>\n      <th>ts_code</th>\n      <th>ann_date</th>\n      <th>holder_name</th>\n      <th>hold_ratio</th>\n      <th>holder_code</th>\n    </tr>\n  </thead>\n  <tbody>\n    <tr>\n      <th>1</th>\n      <td>600075.SH</td>\n      <td>20201016</td>\n      <td>新疆天业(集团)有限公司</td>\n      <td>53.57</td>\n      <td>600075.SH</td>\n    </tr>\n    <tr>\n      <th>50</th>\n      <td>600155.SH</td>\n      <td>20201030</td>\n      <td>华创阳安股份有限公司-第二期员工持股计划</td>\n      <td>2.84</td>\n      <td>600155.SH</td>\n    </tr>\n    <tr>\n      <th>142</th>\n      <td>600301.SH</td>\n      <td>20201029</td>\n      <td>南宁化工集团有限公司</td>\n      <td>32.00</td>\n      <td>600301.SH</td>\n    </tr>\n    <tr>\n      <th>204</th>\n      <td>600352.SH</td>\n      <td>20201027</td>\n      <td>浙江龙盛集团股份有限公司-2020年员工持股计划</td>\n      <td>2.15</td>\n      <td>600352.SH</td>\n    </tr>\n    <tr>\n      <th>212</th>\n      <td>600367.SH</td>\n      <td>20201017</td>\n      <td>中国建设银行股份有限公司-信达澳银新能源产业股票型证券投资基金</td>\n      <td>0.44</td>\n      <td>601939.SH</td>\n    </tr>\n  </tbody>\n</table>\n</div>"
     },
     "metadata": {},
     "execution_count": 19
    }
   ],
   "source": [
    "listed_relation_df.head()"
   ]
  },
  {
   "cell_type": "code",
   "execution_count": 20,
   "metadata": {},
   "outputs": [
    {
     "output_type": "execute_result",
     "data": {
      "text/plain": [
       "    companyId:ID(Company) name:string fullname:string   :LABEL\n",
       "462             600155.SH        华创阳安      华创阳安股份有限公司  Company"
      ],
      "text/html": "<div>\n<style scoped>\n    .dataframe tbody tr th:only-of-type {\n        vertical-align: middle;\n    }\n\n    .dataframe tbody tr th {\n        vertical-align: top;\n    }\n\n    .dataframe thead th {\n        text-align: right;\n    }\n</style>\n<table border=\"1\" class=\"dataframe\">\n  <thead>\n    <tr style=\"text-align: right;\">\n      <th></th>\n      <th>companyId:ID(Company)</th>\n      <th>name:string</th>\n      <th>fullname:string</th>\n      <th>:LABEL</th>\n    </tr>\n  </thead>\n  <tbody>\n    <tr>\n      <th>462</th>\n      <td>600155.SH</td>\n      <td>华创阳安</td>\n      <td>华创阳安股份有限公司</td>\n      <td>Company</td>\n    </tr>\n  </tbody>\n</table>\n</div>"
     },
     "metadata": {},
     "execution_count": 20
    }
   ],
   "source": [
    "company_df[company_df['companyId:ID(Company)'] == '600155.SH']"
   ]
  },
  {
   "cell_type": "code",
   "execution_count": 26,
   "metadata": {},
   "outputs": [],
   "source": [
    "listed_relation_df['ann_date'] = pd.to_datetime(listed_relation_df['ann_date'], format='%Y%m%d')"
   ]
  },
  {
   "cell_type": "code",
   "execution_count": 27,
   "metadata": {},
   "outputs": [
    {
     "output_type": "execute_result",
     "data": {
      "text/plain": [
       "       ts_code   ann_date                      holder_name  hold_ratio  \\\n",
       "1    600075.SH 2020-10-16                     新疆天业(集团)有限公司       53.57   \n",
       "50   600155.SH 2020-10-30             华创阳安股份有限公司-第二期员工持股计划        2.84   \n",
       "142  600301.SH 2020-10-29                       南宁化工集团有限公司       32.00   \n",
       "204  600352.SH 2020-10-27         浙江龙盛集团股份有限公司-2020年员工持股计划        2.15   \n",
       "212  600367.SH 2020-10-17  中国建设银行股份有限公司-信达澳银新能源产业股票型证券投资基金        0.44   \n",
       "\n",
       "    holder_code  \n",
       "1     600075.SH  \n",
       "50    600155.SH  \n",
       "142   600301.SH  \n",
       "204   600352.SH  \n",
       "212   601939.SH  "
      ],
      "text/html": "<div>\n<style scoped>\n    .dataframe tbody tr th:only-of-type {\n        vertical-align: middle;\n    }\n\n    .dataframe tbody tr th {\n        vertical-align: top;\n    }\n\n    .dataframe thead th {\n        text-align: right;\n    }\n</style>\n<table border=\"1\" class=\"dataframe\">\n  <thead>\n    <tr style=\"text-align: right;\">\n      <th></th>\n      <th>ts_code</th>\n      <th>ann_date</th>\n      <th>holder_name</th>\n      <th>hold_ratio</th>\n      <th>holder_code</th>\n    </tr>\n  </thead>\n  <tbody>\n    <tr>\n      <th>1</th>\n      <td>600075.SH</td>\n      <td>2020-10-16</td>\n      <td>新疆天业(集团)有限公司</td>\n      <td>53.57</td>\n      <td>600075.SH</td>\n    </tr>\n    <tr>\n      <th>50</th>\n      <td>600155.SH</td>\n      <td>2020-10-30</td>\n      <td>华创阳安股份有限公司-第二期员工持股计划</td>\n      <td>2.84</td>\n      <td>600155.SH</td>\n    </tr>\n    <tr>\n      <th>142</th>\n      <td>600301.SH</td>\n      <td>2020-10-29</td>\n      <td>南宁化工集团有限公司</td>\n      <td>32.00</td>\n      <td>600301.SH</td>\n    </tr>\n    <tr>\n      <th>204</th>\n      <td>600352.SH</td>\n      <td>2020-10-27</td>\n      <td>浙江龙盛集团股份有限公司-2020年员工持股计划</td>\n      <td>2.15</td>\n      <td>600352.SH</td>\n    </tr>\n    <tr>\n      <th>212</th>\n      <td>600367.SH</td>\n      <td>2020-10-17</td>\n      <td>中国建设银行股份有限公司-信达澳银新能源产业股票型证券投资基金</td>\n      <td>0.44</td>\n      <td>601939.SH</td>\n    </tr>\n  </tbody>\n</table>\n</div>"
     },
     "metadata": {},
     "execution_count": 27
    }
   ],
   "source": [
    "listed_relation_df.head()"
   ]
  },
  {
   "cell_type": "code",
   "execution_count": 30,
   "metadata": {},
   "outputs": [],
   "source": [
    "listed_relation_df.columns = [':END_ID(Company)', 'annDate:date', 'holderFullname:string', 'holdRatio:double', ':START_ID(Company)']"
   ]
  },
  {
   "cell_type": "code",
   "execution_count": 31,
   "metadata": {},
   "outputs": [
    {
     "output_type": "execute_result",
     "data": {
      "text/plain": [
       "    :END_ID(Company) annDate: date            holderFullname:string  \\\n",
       "1          600075.SH    2020-10-16                     新疆天业(集团)有限公司   \n",
       "50         600155.SH    2020-10-30             华创阳安股份有限公司-第二期员工持股计划   \n",
       "142        600301.SH    2020-10-29                       南宁化工集团有限公司   \n",
       "204        600352.SH    2020-10-27         浙江龙盛集团股份有限公司-2020年员工持股计划   \n",
       "212        600367.SH    2020-10-17  中国建设银行股份有限公司-信达澳银新能源产业股票型证券投资基金   \n",
       "\n",
       "     holdRatio:double :START_ID(Company)  \n",
       "1               53.57          600075.SH  \n",
       "50               2.84          600155.SH  \n",
       "142             32.00          600301.SH  \n",
       "204              2.15          600352.SH  \n",
       "212              0.44          601939.SH  "
      ],
      "text/html": "<div>\n<style scoped>\n    .dataframe tbody tr th:only-of-type {\n        vertical-align: middle;\n    }\n\n    .dataframe tbody tr th {\n        vertical-align: top;\n    }\n\n    .dataframe thead th {\n        text-align: right;\n    }\n</style>\n<table border=\"1\" class=\"dataframe\">\n  <thead>\n    <tr style=\"text-align: right;\">\n      <th></th>\n      <th>:END_ID(Company)</th>\n      <th>annDate: date</th>\n      <th>holderFullname:string</th>\n      <th>holdRatio:double</th>\n      <th>:START_ID(Company)</th>\n    </tr>\n  </thead>\n  <tbody>\n    <tr>\n      <th>1</th>\n      <td>600075.SH</td>\n      <td>2020-10-16</td>\n      <td>新疆天业(集团)有限公司</td>\n      <td>53.57</td>\n      <td>600075.SH</td>\n    </tr>\n    <tr>\n      <th>50</th>\n      <td>600155.SH</td>\n      <td>2020-10-30</td>\n      <td>华创阳安股份有限公司-第二期员工持股计划</td>\n      <td>2.84</td>\n      <td>600155.SH</td>\n    </tr>\n    <tr>\n      <th>142</th>\n      <td>600301.SH</td>\n      <td>2020-10-29</td>\n      <td>南宁化工集团有限公司</td>\n      <td>32.00</td>\n      <td>600301.SH</td>\n    </tr>\n    <tr>\n      <th>204</th>\n      <td>600352.SH</td>\n      <td>2020-10-27</td>\n      <td>浙江龙盛集团股份有限公司-2020年员工持股计划</td>\n      <td>2.15</td>\n      <td>600352.SH</td>\n    </tr>\n    <tr>\n      <th>212</th>\n      <td>600367.SH</td>\n      <td>2020-10-17</td>\n      <td>中国建设银行股份有限公司-信达澳银新能源产业股票型证券投资基金</td>\n      <td>0.44</td>\n      <td>601939.SH</td>\n    </tr>\n  </tbody>\n</table>\n</div>"
     },
     "metadata": {},
     "execution_count": 31
    }
   ],
   "source": [
    "listed_relation_df.head()"
   ]
  },
  {
   "cell_type": "code",
   "execution_count": 32,
   "metadata": {},
   "outputs": [],
   "source": [
    "listed_relation_df[':TYPE'] = 'hold_stock'"
   ]
  },
  {
   "cell_type": "code",
   "execution_count": 33,
   "metadata": {},
   "outputs": [
    {
     "output_type": "execute_result",
     "data": {
      "text/plain": [
       "    :END_ID(Company) annDate: date            holderFullname:string  \\\n",
       "1          600075.SH    2020-10-16                     新疆天业(集团)有限公司   \n",
       "50         600155.SH    2020-10-30             华创阳安股份有限公司-第二期员工持股计划   \n",
       "142        600301.SH    2020-10-29                       南宁化工集团有限公司   \n",
       "204        600352.SH    2020-10-27         浙江龙盛集团股份有限公司-2020年员工持股计划   \n",
       "212        600367.SH    2020-10-17  中国建设银行股份有限公司-信达澳银新能源产业股票型证券投资基金   \n",
       "\n",
       "     holdRatio:double :START_ID(Company)       :TYPE  \n",
       "1               53.57          600075.SH  hold_stock  \n",
       "50               2.84          600155.SH  hold_stock  \n",
       "142             32.00          600301.SH  hold_stock  \n",
       "204              2.15          600352.SH  hold_stock  \n",
       "212              0.44          601939.SH  hold_stock  "
      ],
      "text/html": "<div>\n<style scoped>\n    .dataframe tbody tr th:only-of-type {\n        vertical-align: middle;\n    }\n\n    .dataframe tbody tr th {\n        vertical-align: top;\n    }\n\n    .dataframe thead th {\n        text-align: right;\n    }\n</style>\n<table border=\"1\" class=\"dataframe\">\n  <thead>\n    <tr style=\"text-align: right;\">\n      <th></th>\n      <th>:END_ID(Company)</th>\n      <th>annDate: date</th>\n      <th>holderFullname:string</th>\n      <th>holdRatio:double</th>\n      <th>:START_ID(Company)</th>\n      <th>:TYPE</th>\n    </tr>\n  </thead>\n  <tbody>\n    <tr>\n      <th>1</th>\n      <td>600075.SH</td>\n      <td>2020-10-16</td>\n      <td>新疆天业(集团)有限公司</td>\n      <td>53.57</td>\n      <td>600075.SH</td>\n      <td>hold_stock</td>\n    </tr>\n    <tr>\n      <th>50</th>\n      <td>600155.SH</td>\n      <td>2020-10-30</td>\n      <td>华创阳安股份有限公司-第二期员工持股计划</td>\n      <td>2.84</td>\n      <td>600155.SH</td>\n      <td>hold_stock</td>\n    </tr>\n    <tr>\n      <th>142</th>\n      <td>600301.SH</td>\n      <td>2020-10-29</td>\n      <td>南宁化工集团有限公司</td>\n      <td>32.00</td>\n      <td>600301.SH</td>\n      <td>hold_stock</td>\n    </tr>\n    <tr>\n      <th>204</th>\n      <td>600352.SH</td>\n      <td>2020-10-27</td>\n      <td>浙江龙盛集团股份有限公司-2020年员工持股计划</td>\n      <td>2.15</td>\n      <td>600352.SH</td>\n      <td>hold_stock</td>\n    </tr>\n    <tr>\n      <th>212</th>\n      <td>600367.SH</td>\n      <td>2020-10-17</td>\n      <td>中国建设银行股份有限公司-信达澳银新能源产业股票型证券投资基金</td>\n      <td>0.44</td>\n      <td>601939.SH</td>\n      <td>hold_stock</td>\n    </tr>\n  </tbody>\n</table>\n</div>"
     },
     "metadata": {},
     "execution_count": 33
    }
   ],
   "source": [
    "listed_relation_df.head()"
   ]
  },
  {
   "cell_type": "code",
   "execution_count": 34,
   "metadata": {},
   "outputs": [],
   "source": [
    "listed_relation_df.to_csv('new_import/company_company.csv', index=False)"
   ]
  },
  {
   "cell_type": "code",
   "execution_count": null,
   "metadata": {},
   "outputs": [],
   "source": []
  }
 ],
 "metadata": {
  "language_info": {
   "codemirror_mode": {
    "name": "ipython",
    "version": 3
   },
   "file_extension": ".py",
   "mimetype": "text/x-python",
   "name": "python",
   "nbconvert_exporter": "python",
   "pygments_lexer": "ipython3",
   "version": "3.7.0-final"
  },
  "orig_nbformat": 2,
  "kernelspec": {
   "name": "python37064bitvenvvenv9b985edbe97245bb8788e43a93e26b9f",
   "display_name": "Python 3.7.0 64-bit ('venv': venv)"
  }
 },
 "nbformat": 4,
 "nbformat_minor": 2
}