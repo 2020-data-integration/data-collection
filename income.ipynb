{
 "cells": [
  {
   "cell_type": "code",
   "execution_count": 1,
   "metadata": {},
   "outputs": [],
   "source": [
    "import tushare as ts\n",
    "import pandas as pd"
   ]
  },
  {
   "cell_type": "code",
   "execution_count": 2,
   "metadata": {},
   "outputs": [],
   "source": [
    "ts.set_token('53cd3b985c649c978160c6ec04bce24f4fbd2ebcb4673e8f2fba9a43')\n",
    "pro = ts.pro_api()"
   ]
  },
  {
   "cell_type": "code",
   "execution_count": 7,
   "metadata": {},
   "outputs": [],
   "source": [
    "df = pro.income(ts_code='000003.SZ', report_type='1', fields='ts_code,ann_date,basic_eps,revenue,total_profit')"
   ]
  },
  {
   "cell_type": "code",
   "execution_count": 8,
   "metadata": {},
   "outputs": [
    {
     "output_type": "execute_result",
     "data": {
      "text/plain": "     ts_code  ann_date  basic_eps      revenue  total_profit\n0  000003.SZ  20200501    -0.0700  11492320.89  -26336334.72\n1  000003.SZ  20191030    -0.0108   8677210.07   -4321150.18\n2  000003.SZ  20191030        NaN   8677210.07           NaN\n3  000003.SZ  20190824    -0.0076   6069321.73   -3033987.74\n4  000003.SZ  20190427    -0.0048   3155727.64   -1928623.17",
      "text/html": "<div>\n<style scoped>\n    .dataframe tbody tr th:only-of-type {\n        vertical-align: middle;\n    }\n\n    .dataframe tbody tr th {\n        vertical-align: top;\n    }\n\n    .dataframe thead th {\n        text-align: right;\n    }\n</style>\n<table border=\"1\" class=\"dataframe\">\n  <thead>\n    <tr style=\"text-align: right;\">\n      <th></th>\n      <th>ts_code</th>\n      <th>ann_date</th>\n      <th>basic_eps</th>\n      <th>revenue</th>\n      <th>total_profit</th>\n    </tr>\n  </thead>\n  <tbody>\n    <tr>\n      <th>0</th>\n      <td>000003.SZ</td>\n      <td>20200501</td>\n      <td>-0.0700</td>\n      <td>11492320.89</td>\n      <td>-26336334.72</td>\n    </tr>\n    <tr>\n      <th>1</th>\n      <td>000003.SZ</td>\n      <td>20191030</td>\n      <td>-0.0108</td>\n      <td>8677210.07</td>\n      <td>-4321150.18</td>\n    </tr>\n    <tr>\n      <th>2</th>\n      <td>000003.SZ</td>\n      <td>20191030</td>\n      <td>NaN</td>\n      <td>8677210.07</td>\n      <td>NaN</td>\n    </tr>\n    <tr>\n      <th>3</th>\n      <td>000003.SZ</td>\n      <td>20190824</td>\n      <td>-0.0076</td>\n      <td>6069321.73</td>\n      <td>-3033987.74</td>\n    </tr>\n    <tr>\n      <th>4</th>\n      <td>000003.SZ</td>\n      <td>20190427</td>\n      <td>-0.0048</td>\n      <td>3155727.64</td>\n      <td>-1928623.17</td>\n    </tr>\n  </tbody>\n</table>\n</div>"
     },
     "metadata": {},
     "execution_count": 8
    }
   ],
   "source": [
    "df.head()"
   ]
  },
  {
   "cell_type": "code",
   "execution_count": null,
   "metadata": {},
   "outputs": [],
   "source": []
  }
 ],
 "metadata": {
  "language_info": {
   "codemirror_mode": {
    "name": "ipython",
    "version": 3
   },
   "file_extension": ".py",
   "mimetype": "text/x-python",
   "name": "python",
   "nbconvert_exporter": "python",
   "pygments_lexer": "ipython3",
   "version": "3.7.0-final"
  },
  "orig_nbformat": 2,
  "kernelspec": {
   "name": "python37064bitvenvvenv9b985edbe97245bb8788e43a93e26b9f",
   "display_name": "Python 3.7.0 64-bit ('venv': venv)"
  }
 },
 "nbformat": 4,
 "nbformat_minor": 2
}