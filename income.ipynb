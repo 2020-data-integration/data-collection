{
 "cells": [
  {
   "cell_type": "code",
   "execution_count": 1,
   "metadata": {},
   "outputs": [],
   "source": [
    "import baostock as bs\n",
    "import pandas as pd\n",
    "from tqdm import tqdm"
   ]
  },
  {
   "cell_type": "code",
   "execution_count": 2,
   "metadata": {},
   "outputs": [
    {
     "output_type": "stream",
     "name": "stdout",
     "text": "login success!\n"
    }
   ],
   "source": [
    "lg = bs.login()"
   ]
  },
  {
   "cell_type": "code",
   "execution_count": 3,
   "metadata": {},
   "outputs": [],
   "source": [
    "company = pd.read_csv('import/company.csv')\n",
    "names = list(company['companyId:ID(Company)'])"
   ]
  },
  {
   "cell_type": "code",
   "execution_count": 4,
   "metadata": {},
   "outputs": [
    {
     "output_type": "execute_result",
     "data": {
      "text/plain": "['000001.SZ',\n '000002.SZ',\n '000004.SZ',\n '000005.SZ',\n '000006.SZ',\n '000007.SZ',\n '000008.SZ',\n '000009.SZ',\n '000010.SZ',\n '000011.SZ']"
     },
     "metadata": {},
     "execution_count": 4
    }
   ],
   "source": [
    "names[:10]"
   ]
  },
  {
   "cell_type": "code",
   "execution_count": 5,
   "metadata": {},
   "outputs": [],
   "source": [
    "def reverse_name(name):\n",
    "    split = name.split('.')\n",
    "    return '.'.join(reversed(split))\n",
    "names = [reverse_name(x) for x in names]"
   ]
  },
  {
   "cell_type": "code",
   "execution_count": 6,
   "metadata": {},
   "outputs": [
    {
     "output_type": "execute_result",
     "data": {
      "text/plain": "['SZ.000001',\n 'SZ.000002',\n 'SZ.000004',\n 'SZ.000005',\n 'SZ.000006',\n 'SZ.000007',\n 'SZ.000008',\n 'SZ.000009',\n 'SZ.000010',\n 'SZ.000011']"
     },
     "metadata": {},
     "execution_count": 6
    }
   ],
   "source": [
    "names[:10]"
   ]
  },
  {
   "cell_type": "code",
   "execution_count": 7,
   "metadata": {},
   "outputs": [],
   "source": [
    "drop_col = ['performanceExpStatDate', 'performanceExpUpdateDate', 'performanceExpressROEWa', 'performanceExpressEPSDiluted']\n",
    "columns = ['companyId', 'ann_date', 'total_asset', 'net_asset', 'change_pct', 'revenue_over_year', 'profit_over_year']"
   ]
  },
  {
   "cell_type": "code",
   "execution_count": 11,
   "metadata": {},
   "outputs": [
    {
     "output_type": "stream",
     "name": "stdout",
     "text": "SZ.000001\n"
    }
   ],
   "source": [
    "for name in names:\n",
    "    print(name)\n",
    "    break"
   ]
  },
  {
   "cell_type": "code",
   "execution_count": 12,
   "metadata": {},
   "outputs": [
    {
     "output_type": "stream",
     "name": "stderr",
     "text": "100%|██████████| 3829/3829 [07:38<00:00,  8.35it/s]\n"
    }
   ],
   "source": [
    "\n",
    "income_list = []\n",
    "for name in tqdm(names):\n",
    "    rs = bs.query_performance_express_report(name)\n",
    "    assert rs.error_code == '0'\n",
    "    result_list = []\n",
    "    while (rs.error_code == '0') & rs.next():\n",
    "        result_list.append(rs.get_row_data())\n",
    "        # 获取一条记录，将记录合并在一起\n",
    "    result = pd.DataFrame(result_list, columns=rs.fields).drop(drop_col, axis=1)\n",
    "    income_list.append(result)"
   ]
  },
  {
   "cell_type": "code",
   "execution_count": 13,
   "metadata": {},
   "outputs": [],
   "source": [
    "df = pd.concat(income_list)"
   ]
  },
  {
   "cell_type": "code",
   "execution_count": 15,
   "metadata": {},
   "outputs": [],
   "source": [
    "df.columns = columns"
   ]
  },
  {
   "cell_type": "code",
   "execution_count": 16,
   "metadata": {},
   "outputs": [
    {
     "output_type": "execute_result",
     "data": {
      "text/plain": "   companyId    ann_date           total_asset            net_asset  \\\n0  sz.000001  2019-01-04  3420753000000.000000  220088000000.000000   \n1  sz.000001  2020-01-14  3939070000000.000000  273035000000.000000   \n0  sz.000004  2015-04-16      338282581.120000      80275790.100000   \n1  sz.000004  2016-04-15      398673507.140000      81523176.250000   \n2  sz.000004  2018-04-14      268844295.640000     129389206.960000   \n\n  change_pct revenue_over_year profit_over_year  \n0   0.069231          0.103322         0.068888  \n1   0.107914          0.181997         0.123325  \n0   0.057573          0.342357         0.819265  \n1  -0.030416          0.232865         1.663899  \n2  -0.365966         -0.518178        -0.829438  ",
      "text/html": "<div>\n<style scoped>\n    .dataframe tbody tr th:only-of-type {\n        vertical-align: middle;\n    }\n\n    .dataframe tbody tr th {\n        vertical-align: top;\n    }\n\n    .dataframe thead th {\n        text-align: right;\n    }\n</style>\n<table border=\"1\" class=\"dataframe\">\n  <thead>\n    <tr style=\"text-align: right;\">\n      <th></th>\n      <th>companyId</th>\n      <th>ann_date</th>\n      <th>total_asset</th>\n      <th>net_asset</th>\n      <th>change_pct</th>\n      <th>revenue_over_year</th>\n      <th>profit_over_year</th>\n    </tr>\n  </thead>\n  <tbody>\n    <tr>\n      <th>0</th>\n      <td>sz.000001</td>\n      <td>2019-01-04</td>\n      <td>3420753000000.000000</td>\n      <td>220088000000.000000</td>\n      <td>0.069231</td>\n      <td>0.103322</td>\n      <td>0.068888</td>\n    </tr>\n    <tr>\n      <th>1</th>\n      <td>sz.000001</td>\n      <td>2020-01-14</td>\n      <td>3939070000000.000000</td>\n      <td>273035000000.000000</td>\n      <td>0.107914</td>\n      <td>0.181997</td>\n      <td>0.123325</td>\n    </tr>\n    <tr>\n      <th>0</th>\n      <td>sz.000004</td>\n      <td>2015-04-16</td>\n      <td>338282581.120000</td>\n      <td>80275790.100000</td>\n      <td>0.057573</td>\n      <td>0.342357</td>\n      <td>0.819265</td>\n    </tr>\n    <tr>\n      <th>1</th>\n      <td>sz.000004</td>\n      <td>2016-04-15</td>\n      <td>398673507.140000</td>\n      <td>81523176.250000</td>\n      <td>-0.030416</td>\n      <td>0.232865</td>\n      <td>1.663899</td>\n    </tr>\n    <tr>\n      <th>2</th>\n      <td>sz.000004</td>\n      <td>2018-04-14</td>\n      <td>268844295.640000</td>\n      <td>129389206.960000</td>\n      <td>-0.365966</td>\n      <td>-0.518178</td>\n      <td>-0.829438</td>\n    </tr>\n  </tbody>\n</table>\n</div>"
     },
     "metadata": {},
     "execution_count": 16
    }
   ],
   "source": [
    "df.head()"
   ]
  },
  {
   "cell_type": "code",
   "execution_count": 19,
   "metadata": {},
   "outputs": [],
   "source": [
    "df['companyId'] = df.apply(lambda x: reverse_name(x['companyId']), axis=1)"
   ]
  },
  {
   "cell_type": "code",
   "execution_count": 20,
   "metadata": {},
   "outputs": [
    {
     "output_type": "execute_result",
     "data": {
      "text/plain": "   companyId    ann_date           total_asset            net_asset  \\\n0  000001.sz  2019-01-04  3420753000000.000000  220088000000.000000   \n1  000001.sz  2020-01-14  3939070000000.000000  273035000000.000000   \n0  000004.sz  2015-04-16      338282581.120000      80275790.100000   \n1  000004.sz  2016-04-15      398673507.140000      81523176.250000   \n2  000004.sz  2018-04-14      268844295.640000     129389206.960000   \n\n  change_pct revenue_over_year profit_over_year  \n0   0.069231          0.103322         0.068888  \n1   0.107914          0.181997         0.123325  \n0   0.057573          0.342357         0.819265  \n1  -0.030416          0.232865         1.663899  \n2  -0.365966         -0.518178        -0.829438  ",
      "text/html": "<div>\n<style scoped>\n    .dataframe tbody tr th:only-of-type {\n        vertical-align: middle;\n    }\n\n    .dataframe tbody tr th {\n        vertical-align: top;\n    }\n\n    .dataframe thead th {\n        text-align: right;\n    }\n</style>\n<table border=\"1\" class=\"dataframe\">\n  <thead>\n    <tr style=\"text-align: right;\">\n      <th></th>\n      <th>companyId</th>\n      <th>ann_date</th>\n      <th>total_asset</th>\n      <th>net_asset</th>\n      <th>change_pct</th>\n      <th>revenue_over_year</th>\n      <th>profit_over_year</th>\n    </tr>\n  </thead>\n  <tbody>\n    <tr>\n      <th>0</th>\n      <td>000001.sz</td>\n      <td>2019-01-04</td>\n      <td>3420753000000.000000</td>\n      <td>220088000000.000000</td>\n      <td>0.069231</td>\n      <td>0.103322</td>\n      <td>0.068888</td>\n    </tr>\n    <tr>\n      <th>1</th>\n      <td>000001.sz</td>\n      <td>2020-01-14</td>\n      <td>3939070000000.000000</td>\n      <td>273035000000.000000</td>\n      <td>0.107914</td>\n      <td>0.181997</td>\n      <td>0.123325</td>\n    </tr>\n    <tr>\n      <th>0</th>\n      <td>000004.sz</td>\n      <td>2015-04-16</td>\n      <td>338282581.120000</td>\n      <td>80275790.100000</td>\n      <td>0.057573</td>\n      <td>0.342357</td>\n      <td>0.819265</td>\n    </tr>\n    <tr>\n      <th>1</th>\n      <td>000004.sz</td>\n      <td>2016-04-15</td>\n      <td>398673507.140000</td>\n      <td>81523176.250000</td>\n      <td>-0.030416</td>\n      <td>0.232865</td>\n      <td>1.663899</td>\n    </tr>\n    <tr>\n      <th>2</th>\n      <td>000004.sz</td>\n      <td>2018-04-14</td>\n      <td>268844295.640000</td>\n      <td>129389206.960000</td>\n      <td>-0.365966</td>\n      <td>-0.518178</td>\n      <td>-0.829438</td>\n    </tr>\n  </tbody>\n</table>\n</div>"
     },
     "metadata": {},
     "execution_count": 20
    }
   ],
   "source": [
    "df.head()"
   ]
  },
  {
   "cell_type": "code",
   "execution_count": 21,
   "metadata": {},
   "outputs": [],
   "source": [
    "df['ann_date'] = pd.to_datetime(df['ann_date'])"
   ]
  },
  {
   "cell_type": "code",
   "execution_count": 22,
   "metadata": {},
   "outputs": [
    {
     "output_type": "execute_result",
     "data": {
      "text/plain": "   companyId   ann_date           total_asset            net_asset change_pct  \\\n0  000001.sz 2019-01-04  3420753000000.000000  220088000000.000000   0.069231   \n1  000001.sz 2020-01-14  3939070000000.000000  273035000000.000000   0.107914   \n0  000004.sz 2015-04-16      338282581.120000      80275790.100000   0.057573   \n1  000004.sz 2016-04-15      398673507.140000      81523176.250000  -0.030416   \n2  000004.sz 2018-04-14      268844295.640000     129389206.960000  -0.365966   \n\n  revenue_over_year profit_over_year  \n0          0.103322         0.068888  \n1          0.181997         0.123325  \n0          0.342357         0.819265  \n1          0.232865         1.663899  \n2         -0.518178        -0.829438  ",
      "text/html": "<div>\n<style scoped>\n    .dataframe tbody tr th:only-of-type {\n        vertical-align: middle;\n    }\n\n    .dataframe tbody tr th {\n        vertical-align: top;\n    }\n\n    .dataframe thead th {\n        text-align: right;\n    }\n</style>\n<table border=\"1\" class=\"dataframe\">\n  <thead>\n    <tr style=\"text-align: right;\">\n      <th></th>\n      <th>companyId</th>\n      <th>ann_date</th>\n      <th>total_asset</th>\n      <th>net_asset</th>\n      <th>change_pct</th>\n      <th>revenue_over_year</th>\n      <th>profit_over_year</th>\n    </tr>\n  </thead>\n  <tbody>\n    <tr>\n      <th>0</th>\n      <td>000001.sz</td>\n      <td>2019-01-04</td>\n      <td>3420753000000.000000</td>\n      <td>220088000000.000000</td>\n      <td>0.069231</td>\n      <td>0.103322</td>\n      <td>0.068888</td>\n    </tr>\n    <tr>\n      <th>1</th>\n      <td>000001.sz</td>\n      <td>2020-01-14</td>\n      <td>3939070000000.000000</td>\n      <td>273035000000.000000</td>\n      <td>0.107914</td>\n      <td>0.181997</td>\n      <td>0.123325</td>\n    </tr>\n    <tr>\n      <th>0</th>\n      <td>000004.sz</td>\n      <td>2015-04-16</td>\n      <td>338282581.120000</td>\n      <td>80275790.100000</td>\n      <td>0.057573</td>\n      <td>0.342357</td>\n      <td>0.819265</td>\n    </tr>\n    <tr>\n      <th>1</th>\n      <td>000004.sz</td>\n      <td>2016-04-15</td>\n      <td>398673507.140000</td>\n      <td>81523176.250000</td>\n      <td>-0.030416</td>\n      <td>0.232865</td>\n      <td>1.663899</td>\n    </tr>\n    <tr>\n      <th>2</th>\n      <td>000004.sz</td>\n      <td>2018-04-14</td>\n      <td>268844295.640000</td>\n      <td>129389206.960000</td>\n      <td>-0.365966</td>\n      <td>-0.518178</td>\n      <td>-0.829438</td>\n    </tr>\n  </tbody>\n</table>\n</div>"
     },
     "metadata": {},
     "execution_count": 22
    }
   ],
   "source": [
    "df.head()"
   ]
  },
  {
   "cell_type": "code",
   "execution_count": 24,
   "metadata": {},
   "outputs": [],
   "source": [
    "js = []\n",
    "for i, row in df.iterrows():\n",
    "    objs = {\n",
    "        \"measurement\": 'report',\n",
    "        \"tags\": {\n",
    "            'companyId': row['companyId']\n",
    "        },\n",
    "        \"time\": row['ann_date'],\n",
    "        \"fields\": {\n",
    "            'total_asset': row['total_asset'],\n",
    "            'net_asset': row['net_asset'],\n",
    "            'change_pct': row['change_pct'],\n",
    "            'revenue_over_year': row['revenue_over_year'],\n",
    "            'profit_over_year': row['profit_over_year']\n",
    "        }\n",
    "    }\n",
    "    js.append(objs)"
   ]
  },
  {
   "cell_type": "code",
   "execution_count": 25,
   "metadata": {},
   "outputs": [
    {
     "output_type": "execute_result",
     "data": {
      "text/plain": "12202"
     },
     "metadata": {},
     "execution_count": 25
    }
   ],
   "source": [
    "len(js)"
   ]
  },
  {
   "cell_type": "code",
   "execution_count": 28,
   "metadata": {},
   "outputs": [],
   "source": [
    "from influxdb import InfluxDBClient\n",
    "client = InfluxDBClient('47.101.33.219', 8086, database='stock', username='influx', password='2020liufeng')"
   ]
  },
  {
   "cell_type": "code",
   "execution_count": 29,
   "metadata": {},
   "outputs": [
    {
     "output_type": "execute_result",
     "data": {
      "text/plain": "True"
     },
     "metadata": {},
     "execution_count": 29
    }
   ],
   "source": [
    "client.write_points(js, batch_size=100)"
   ]
  },
  {
   "cell_type": "code",
   "execution_count": null,
   "metadata": {},
   "outputs": [],
   "source": []
  }
 ],
 "metadata": {
  "language_info": {
   "codemirror_mode": {
    "name": "ipython",
    "version": 3
   },
   "file_extension": ".py",
   "mimetype": "text/x-python",
   "name": "python",
   "nbconvert_exporter": "python",
   "pygments_lexer": "ipython3",
   "version": "3.7.0-final"
  },
  "orig_nbformat": 2,
  "kernelspec": {
   "name": "python37064bitvenvvenv9b985edbe97245bb8788e43a93e26b9f",
   "display_name": "Python 3.7.0 64-bit ('venv': venv)"
  }
 },
 "nbformat": 4,
 "nbformat_minor": 2
}