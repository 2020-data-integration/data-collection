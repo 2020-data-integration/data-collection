{
 "cells": [
  {
   "cell_type": "code",
   "execution_count": 1,
   "metadata": {},
   "outputs": [],
   "source": [
    "import pandas as pd"
   ]
  },
  {
   "cell_type": "code",
   "execution_count": 2,
   "metadata": {},
   "outputs": [],
   "source": [
    "df = pd.read_csv('import/manager_company.csv')"
   ]
  },
  {
   "cell_type": "code",
   "execution_count": 3,
   "metadata": {},
   "outputs": [
    {
     "output_type": "execute_result",
     "data": {
      "text/plain": "  :END_ID(Company)  :START_ID(Manager) title:string begin_date:date  \\\n0        000058.SZ                   0           董事      2017-07-21   \n1        000058.SZ                   1           董事      2018-03-29   \n2        000058.SZ                   2           监事      2018-03-29   \n3        000058.SZ                   3           董事      2018-09-13   \n4        000058.SZ                   4           董事      2019-04-23   \n\n  end_date:date    :TYPE  \n0           NaN  work_in  \n1           NaN  work_in  \n2           NaN  work_in  \n3           NaN  work_in  \n4           NaN  work_in  ",
      "text/html": "<div>\n<style scoped>\n    .dataframe tbody tr th:only-of-type {\n        vertical-align: middle;\n    }\n\n    .dataframe tbody tr th {\n        vertical-align: top;\n    }\n\n    .dataframe thead th {\n        text-align: right;\n    }\n</style>\n<table border=\"1\" class=\"dataframe\">\n  <thead>\n    <tr style=\"text-align: right;\">\n      <th></th>\n      <th>:END_ID(Company)</th>\n      <th>:START_ID(Manager)</th>\n      <th>title:string</th>\n      <th>begin_date:date</th>\n      <th>end_date:date</th>\n      <th>:TYPE</th>\n    </tr>\n  </thead>\n  <tbody>\n    <tr>\n      <th>0</th>\n      <td>000058.SZ</td>\n      <td>0</td>\n      <td>董事</td>\n      <td>2017-07-21</td>\n      <td>NaN</td>\n      <td>work_in</td>\n    </tr>\n    <tr>\n      <th>1</th>\n      <td>000058.SZ</td>\n      <td>1</td>\n      <td>董事</td>\n      <td>2018-03-29</td>\n      <td>NaN</td>\n      <td>work_in</td>\n    </tr>\n    <tr>\n      <th>2</th>\n      <td>000058.SZ</td>\n      <td>2</td>\n      <td>监事</td>\n      <td>2018-03-29</td>\n      <td>NaN</td>\n      <td>work_in</td>\n    </tr>\n    <tr>\n      <th>3</th>\n      <td>000058.SZ</td>\n      <td>3</td>\n      <td>董事</td>\n      <td>2018-09-13</td>\n      <td>NaN</td>\n      <td>work_in</td>\n    </tr>\n    <tr>\n      <th>4</th>\n      <td>000058.SZ</td>\n      <td>4</td>\n      <td>董事</td>\n      <td>2019-04-23</td>\n      <td>NaN</td>\n      <td>work_in</td>\n    </tr>\n  </tbody>\n</table>\n</div>"
     },
     "metadata": {},
     "execution_count": 3
    }
   ],
   "source": [
    "df.head()"
   ]
  },
  {
   "cell_type": "code",
   "execution_count": 4,
   "metadata": {},
   "outputs": [
    {
     "output_type": "execute_result",
     "data": {
      "text/plain": "       :END_ID(Company)  :START_ID(Manager) title:string begin_date:date  \\\n0             000058.SZ                   0           董事      2017-07-21   \n4000          000505.SZ                   0           董事      2018-06-26   \n4118          000505.SZ                   0           董事      2018-06-26   \n8000          000768.SZ                   0        董事会秘书      2019-09-24   \n12000         000793.SZ                   0           董事      2000-06-29   \n...                 ...                 ...          ...             ...   \n150677        688368.SH                   0      战略委员会委员      2017-03-02   \n150826        688368.SH                   0        法定代表人      2017-01-21   \n150827        688368.SH                   0          董事长      2017-01-21   \n150828        688368.SH                   0           董事      2017-01-21   \n150829        688368.SH                   0          总经理      2017-01-21   \n\n       end_date:date    :TYPE  \n0                NaN  work_in  \n4000             NaN  work_in  \n4118             NaN  work_in  \n8000             NaN  work_in  \n12000            NaN  work_in  \n...              ...      ...  \n150677           NaN  work_in  \n150826           NaN  work_in  \n150827           NaN  work_in  \n150828           NaN  work_in  \n150829           NaN  work_in  \n\n[131 rows x 6 columns]",
      "text/html": "<div>\n<style scoped>\n    .dataframe tbody tr th:only-of-type {\n        vertical-align: middle;\n    }\n\n    .dataframe tbody tr th {\n        vertical-align: top;\n    }\n\n    .dataframe thead th {\n        text-align: right;\n    }\n</style>\n<table border=\"1\" class=\"dataframe\">\n  <thead>\n    <tr style=\"text-align: right;\">\n      <th></th>\n      <th>:END_ID(Company)</th>\n      <th>:START_ID(Manager)</th>\n      <th>title:string</th>\n      <th>begin_date:date</th>\n      <th>end_date:date</th>\n      <th>:TYPE</th>\n    </tr>\n  </thead>\n  <tbody>\n    <tr>\n      <th>0</th>\n      <td>000058.SZ</td>\n      <td>0</td>\n      <td>董事</td>\n      <td>2017-07-21</td>\n      <td>NaN</td>\n      <td>work_in</td>\n    </tr>\n    <tr>\n      <th>4000</th>\n      <td>000505.SZ</td>\n      <td>0</td>\n      <td>董事</td>\n      <td>2018-06-26</td>\n      <td>NaN</td>\n      <td>work_in</td>\n    </tr>\n    <tr>\n      <th>4118</th>\n      <td>000505.SZ</td>\n      <td>0</td>\n      <td>董事</td>\n      <td>2018-06-26</td>\n      <td>NaN</td>\n      <td>work_in</td>\n    </tr>\n    <tr>\n      <th>8000</th>\n      <td>000768.SZ</td>\n      <td>0</td>\n      <td>董事会秘书</td>\n      <td>2019-09-24</td>\n      <td>NaN</td>\n      <td>work_in</td>\n    </tr>\n    <tr>\n      <th>12000</th>\n      <td>000793.SZ</td>\n      <td>0</td>\n      <td>董事</td>\n      <td>2000-06-29</td>\n      <td>NaN</td>\n      <td>work_in</td>\n    </tr>\n    <tr>\n      <th>...</th>\n      <td>...</td>\n      <td>...</td>\n      <td>...</td>\n      <td>...</td>\n      <td>...</td>\n      <td>...</td>\n    </tr>\n    <tr>\n      <th>150677</th>\n      <td>688368.SH</td>\n      <td>0</td>\n      <td>战略委员会委员</td>\n      <td>2017-03-02</td>\n      <td>NaN</td>\n      <td>work_in</td>\n    </tr>\n    <tr>\n      <th>150826</th>\n      <td>688368.SH</td>\n      <td>0</td>\n      <td>法定代表人</td>\n      <td>2017-01-21</td>\n      <td>NaN</td>\n      <td>work_in</td>\n    </tr>\n    <tr>\n      <th>150827</th>\n      <td>688368.SH</td>\n      <td>0</td>\n      <td>董事长</td>\n      <td>2017-01-21</td>\n      <td>NaN</td>\n      <td>work_in</td>\n    </tr>\n    <tr>\n      <th>150828</th>\n      <td>688368.SH</td>\n      <td>0</td>\n      <td>董事</td>\n      <td>2017-01-21</td>\n      <td>NaN</td>\n      <td>work_in</td>\n    </tr>\n    <tr>\n      <th>150829</th>\n      <td>688368.SH</td>\n      <td>0</td>\n      <td>总经理</td>\n      <td>2017-01-21</td>\n      <td>NaN</td>\n      <td>work_in</td>\n    </tr>\n  </tbody>\n</table>\n<p>131 rows × 6 columns</p>\n</div>"
     },
     "metadata": {},
     "execution_count": 4
    }
   ],
   "source": [
    "df[df[':START_ID(Manager)'] == 0]"
   ]
  },
  {
   "cell_type": "code",
   "execution_count": null,
   "metadata": {},
   "outputs": [],
   "source": []
  }
 ],
 "metadata": {
  "language_info": {
   "codemirror_mode": {
    "name": "ipython",
    "version": 3
   },
   "file_extension": ".py",
   "mimetype": "text/x-python",
   "name": "python",
   "nbconvert_exporter": "python",
   "pygments_lexer": "ipython3",
   "version": "3.7.0-final"
  },
  "orig_nbformat": 2,
  "kernelspec": {
   "name": "python37064bitvenvvenv9b985edbe97245bb8788e43a93e26b9f",
   "display_name": "Python 3.7.0 64-bit ('venv': venv)"
  }
 },
 "nbformat": 4,
 "nbformat_minor": 2
}